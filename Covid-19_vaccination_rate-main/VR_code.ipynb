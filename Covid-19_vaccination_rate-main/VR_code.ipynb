{
 "cells": [
  {
   "cell_type": "code",
   "execution_count": 61,
   "metadata": {},
   "outputs": [],
   "source": [
    "from datetime import datetime\n",
    "import pandas as pd\n",
    "import plotly.express as px\n",
    "import plotly.graph_objs as go\n",
    "from plotly.subplots import make_subplots"
   ]
  },
  {
   "cell_type": "code",
   "execution_count": 2,
   "metadata": {},
   "outputs": [
    {
     "data": {
      "text/plain": [
       "6734600"
      ]
     },
     "execution_count": 2,
     "metadata": {},
     "output_type": "execute_result"
    }
   ],
   "source": [
    "# Population figures from HKSAR government\n",
    "# https://www.covidvaccine.gov.hk/en/dashboard\n",
    "total_population = 448800 + 808700 + 1126300 + 1142500 + 1174200 + 1071800 + 560500 + 401800\n",
    "total_population"
   ]
  },
  {
   "cell_type": "markdown",
   "metadata": {},
   "source": [
    "### Vaccination Figure"
   ]
  },
  {
   "cell_type": "code",
   "execution_count": 3,
   "metadata": {},
   "outputs": [
    {
     "name": "stdout",
     "output_type": "stream",
     "text": [
      "Total:\n"
     ]
    },
    {
     "data": {
      "text/html": [
       "<div>\n",
       "<style scoped>\n",
       "    .dataframe tbody tr th:only-of-type {\n",
       "        vertical-align: middle;\n",
       "    }\n",
       "\n",
       "    .dataframe tbody tr th {\n",
       "        vertical-align: top;\n",
       "    }\n",
       "\n",
       "    .dataframe thead th {\n",
       "        text-align: right;\n",
       "    }\n",
       "</style>\n",
       "<table border=\"1\" class=\"dataframe\">\n",
       "  <thead>\n",
       "    <tr style=\"text-align: right;\">\n",
       "      <th></th>\n",
       "      <th>Sinovac</th>\n",
       "      <th>BioNTech</th>\n",
       "      <th>Total</th>\n",
       "    </tr>\n",
       "  </thead>\n",
       "  <tbody>\n",
       "    <tr>\n",
       "      <th>2022-01-23</th>\n",
       "      <td>4128952</td>\n",
       "      <td>6661061</td>\n",
       "      <td>10790013</td>\n",
       "    </tr>\n",
       "  </tbody>\n",
       "</table>\n",
       "</div>"
      ],
      "text/plain": [
       "            Sinovac  BioNTech     Total\n",
       "2022-01-23  4128952   6661061  10790013"
      ]
     },
     "metadata": {},
     "output_type": "display_data"
    },
    {
     "name": "stdout",
     "output_type": "stream",
     "text": [
      "Total Percentage:\n"
     ]
    },
    {
     "data": {
      "text/html": [
       "<div>\n",
       "<style scoped>\n",
       "    .dataframe tbody tr th:only-of-type {\n",
       "        vertical-align: middle;\n",
       "    }\n",
       "\n",
       "    .dataframe tbody tr th {\n",
       "        vertical-align: top;\n",
       "    }\n",
       "\n",
       "    .dataframe thead th {\n",
       "        text-align: right;\n",
       "    }\n",
       "</style>\n",
       "<table border=\"1\" class=\"dataframe\">\n",
       "  <thead>\n",
       "    <tr style=\"text-align: right;\">\n",
       "      <th></th>\n",
       "      <th>Sinovac</th>\n",
       "      <th>BioNTech</th>\n",
       "      <th>Total</th>\n",
       "    </tr>\n",
       "  </thead>\n",
       "  <tbody>\n",
       "    <tr>\n",
       "      <th>2022-01-23</th>\n",
       "      <td>0.382664</td>\n",
       "      <td>0.617336</td>\n",
       "      <td>1.0</td>\n",
       "    </tr>\n",
       "  </tbody>\n",
       "</table>\n",
       "</div>"
      ],
      "text/plain": [
       "             Sinovac  BioNTech  Total\n",
       "2022-01-23  0.382664  0.617336    1.0"
      ]
     },
     "metadata": {},
     "output_type": "display_data"
    },
    {
     "name": "stdout",
     "output_type": "stream",
     "text": [
      "First dose:\n"
     ]
    },
    {
     "data": {
      "text/html": [
       "<div>\n",
       "<style scoped>\n",
       "    .dataframe tbody tr th:only-of-type {\n",
       "        vertical-align: middle;\n",
       "    }\n",
       "\n",
       "    .dataframe tbody tr th {\n",
       "        vertical-align: top;\n",
       "    }\n",
       "\n",
       "    .dataframe thead th {\n",
       "        text-align: right;\n",
       "    }\n",
       "</style>\n",
       "<table border=\"1\" class=\"dataframe\">\n",
       "  <thead>\n",
       "    <tr style=\"text-align: right;\">\n",
       "      <th></th>\n",
       "      <th>Sinovac 1st dose</th>\n",
       "      <th>BioNTech 1st dose</th>\n",
       "      <th>Total</th>\n",
       "    </tr>\n",
       "  </thead>\n",
       "  <tbody>\n",
       "    <tr>\n",
       "      <th>2022-01-23</th>\n",
       "      <td>2007442</td>\n",
       "      <td>3238645</td>\n",
       "      <td>5246087</td>\n",
       "    </tr>\n",
       "  </tbody>\n",
       "</table>\n",
       "</div>"
      ],
      "text/plain": [
       "            Sinovac 1st dose  BioNTech 1st dose    Total\n",
       "2022-01-23           2007442            3238645  5246087"
      ]
     },
     "metadata": {},
     "output_type": "display_data"
    },
    {
     "name": "stdout",
     "output_type": "stream",
     "text": [
      "First dose Percentage:\n"
     ]
    },
    {
     "data": {
      "text/html": [
       "<div>\n",
       "<style scoped>\n",
       "    .dataframe tbody tr th:only-of-type {\n",
       "        vertical-align: middle;\n",
       "    }\n",
       "\n",
       "    .dataframe tbody tr th {\n",
       "        vertical-align: top;\n",
       "    }\n",
       "\n",
       "    .dataframe thead th {\n",
       "        text-align: right;\n",
       "    }\n",
       "</style>\n",
       "<table border=\"1\" class=\"dataframe\">\n",
       "  <thead>\n",
       "    <tr style=\"text-align: right;\">\n",
       "      <th></th>\n",
       "      <th>Sinovac 1st dose</th>\n",
       "      <th>BioNTech 1st dose</th>\n",
       "      <th>Total</th>\n",
       "    </tr>\n",
       "  </thead>\n",
       "  <tbody>\n",
       "    <tr>\n",
       "      <th>2022-01-23</th>\n",
       "      <td>0.382655</td>\n",
       "      <td>0.617345</td>\n",
       "      <td>1.0</td>\n",
       "    </tr>\n",
       "  </tbody>\n",
       "</table>\n",
       "</div>"
      ],
      "text/plain": [
       "            Sinovac 1st dose  BioNTech 1st dose  Total\n",
       "2022-01-23          0.382655           0.617345    1.0"
      ]
     },
     "metadata": {},
     "output_type": "display_data"
    },
    {
     "name": "stdout",
     "output_type": "stream",
     "text": [
      "VR: 0.7789752917767945\n"
     ]
    }
   ],
   "source": [
    "# Import the file, using injection date, age groups, and sex as index columns\n",
    "df = pd.read_csv(\"vaccination-rates-over-time-by-age.csv\", index_col=[0, 1, 2])\n",
    "# Drop the age groups, and sex columns\n",
    "df = df.droplevel([1, 2])\n",
    "# Sum up all numbers in the same injection date\n",
    "df = df.groupby(pd.to_datetime(df.index, dayfirst=True).date).sum()\n",
    "# Sum up the doses of the respective vaccines type\n",
    "df_total = pd.concat([df.iloc[:, :3].sum(axis=1), df.iloc[:, 3:].sum(axis=1)], axis=1)\n",
    "df_total.columns = [\"Sinovac\", \"BioNTech\"]\n",
    "# Get total sum of all dates\n",
    "df_total = df_total.cumsum()\n",
    "# Get total sum of all vaccines\n",
    "df_total[\"Total\"] = df_total.sum(axis=1)\n",
    "print(\"Total:\")\n",
    "display(df_total.iloc[[-1]])\n",
    "print(\"Total Percentage:\")\n",
    "display(df_total.iloc[[-1]]/df_total.iloc[-1, -1])\n",
    "\n",
    "# Get first dose of the respective vaccines type\n",
    "df_first = df[[\"Sinovac 1st dose\", \"BioNTech 1st dose\"]]\n",
    "# Get total sum of all dates\n",
    "df_first = df_first.cumsum()\n",
    "# Get total sum of all vaccines\n",
    "df_first[\"Total\"] = df_first.sum(axis=1)\n",
    "print(\"First dose:\")\n",
    "display(df_first.iloc[[-1]])\n",
    "print(\"First dose Percentage:\")\n",
    "display(df_first.iloc[[-1]]/df_first.iloc[-1, -1])\n",
    "\n",
    "# VR\n",
    "print(f\"VR: {df_first.iloc[-1, -1]/total_population}\")"
   ]
  },
  {
   "cell_type": "code",
   "execution_count": 115,
   "metadata": {},
   "outputs": [
    {
     "name": "stderr",
     "output_type": "stream",
     "text": [
      "<ipython-input-115-eefa50f3ded2>:15: SettingWithCopyWarning:\n",
      "\n",
      "\n",
      "A value is trying to be set on a copy of a slice from a DataFrame\n",
      "\n",
      "See the caveats in the documentation: https://pandas.pydata.org/pandas-docs/stable/user_guide/indexing.html#returning-a-view-versus-a-copy\n",
      "\n"
     ]
    },
    {
     "data": {
      "application/vnd.plotly.v1+json": {
       "config": {
        "plotlyServerURL": "https://plot.ly"
       },
       "data": [
        {
         "alignmentgroup": "True",
         "hovertemplate": "variable=Sinovac 1st dose<br>index=%{x}<br>value=%{y}<extra></extra>",
         "legendgroup": "Sinovac 1st dose",
         "marker": {
          "color": "#636efa",
          "pattern": {
           "shape": ""
          }
         },
         "name": "Sinovac 1st dose",
         "offsetgroup": "Sinovac 1st dose",
         "orientation": "v",
         "showlegend": true,
         "textposition": "auto",
         "type": "bar",
         "x": [
          "12-19",
          "20-29",
          "30-39",
          "40-49",
          "50-59",
          "60-69",
          "70-79",
          "80 and above"
         ],
         "xaxis": "x",
         "y": [
          21.837584591358667,
          5.023425299323269,
          11.061946902654867,
          14.211348256116606,
          14.862051015096304,
          17.126496616345655,
          9.16189484643415,
          6.7152524726704845
         ],
         "yaxis": "y"
        },
        {
         "alignmentgroup": "True",
         "hovertemplate": "variable=BioNTech 1st dose<br>index=%{x}<br>value=%{y}<extra></extra>",
         "legendgroup": "BioNTech 1st dose",
         "marker": {
          "color": "#EF553B",
          "pattern": {
           "shape": ""
          }
         },
         "name": "BioNTech 1st dose",
         "offsetgroup": "BioNTech 1st dose",
         "orientation": "v",
         "showlegend": true,
         "textposition": "auto",
         "type": "bar",
         "x": [
          "12-19",
          "20-29",
          "30-39",
          "40-49",
          "50-59",
          "60-69",
          "70-79",
          "80 and above"
         ],
         "xaxis": "x",
         "y": [
          13.822770289647261,
          16.303412675652424,
          20.934901061084027,
          15.070260969314598,
          12.43188987668483,
          11.743619156868368,
          6.280470318325208,
          3.4126756524232866
         ],
         "yaxis": "y"
        }
       ],
       "layout": {
        "barmode": "group",
        "height": 480,
        "legend": {
         "font": {
          "size": 10
         },
         "title": {
          "text": "variable"
         },
         "tracegroupgap": 0
        },
        "template": {
         "data": {
          "bar": [
           {
            "error_x": {
             "color": "#2a3f5f"
            },
            "error_y": {
             "color": "#2a3f5f"
            },
            "marker": {
             "line": {
              "color": "#E5ECF6",
              "width": 0.5
             },
             "pattern": {
              "fillmode": "overlay",
              "size": 10,
              "solidity": 0.2
             }
            },
            "type": "bar"
           }
          ],
          "barpolar": [
           {
            "marker": {
             "line": {
              "color": "#E5ECF6",
              "width": 0.5
             },
             "pattern": {
              "fillmode": "overlay",
              "size": 10,
              "solidity": 0.2
             }
            },
            "type": "barpolar"
           }
          ],
          "carpet": [
           {
            "aaxis": {
             "endlinecolor": "#2a3f5f",
             "gridcolor": "white",
             "linecolor": "white",
             "minorgridcolor": "white",
             "startlinecolor": "#2a3f5f"
            },
            "baxis": {
             "endlinecolor": "#2a3f5f",
             "gridcolor": "white",
             "linecolor": "white",
             "minorgridcolor": "white",
             "startlinecolor": "#2a3f5f"
            },
            "type": "carpet"
           }
          ],
          "choropleth": [
           {
            "colorbar": {
             "outlinewidth": 0,
             "ticks": ""
            },
            "type": "choropleth"
           }
          ],
          "contour": [
           {
            "colorbar": {
             "outlinewidth": 0,
             "ticks": ""
            },
            "colorscale": [
             [
              0,
              "#0d0887"
             ],
             [
              0.1111111111111111,
              "#46039f"
             ],
             [
              0.2222222222222222,
              "#7201a8"
             ],
             [
              0.3333333333333333,
              "#9c179e"
             ],
             [
              0.4444444444444444,
              "#bd3786"
             ],
             [
              0.5555555555555556,
              "#d8576b"
             ],
             [
              0.6666666666666666,
              "#ed7953"
             ],
             [
              0.7777777777777778,
              "#fb9f3a"
             ],
             [
              0.8888888888888888,
              "#fdca26"
             ],
             [
              1,
              "#f0f921"
             ]
            ],
            "type": "contour"
           }
          ],
          "contourcarpet": [
           {
            "colorbar": {
             "outlinewidth": 0,
             "ticks": ""
            },
            "type": "contourcarpet"
           }
          ],
          "heatmap": [
           {
            "colorbar": {
             "outlinewidth": 0,
             "ticks": ""
            },
            "colorscale": [
             [
              0,
              "#0d0887"
             ],
             [
              0.1111111111111111,
              "#46039f"
             ],
             [
              0.2222222222222222,
              "#7201a8"
             ],
             [
              0.3333333333333333,
              "#9c179e"
             ],
             [
              0.4444444444444444,
              "#bd3786"
             ],
             [
              0.5555555555555556,
              "#d8576b"
             ],
             [
              0.6666666666666666,
              "#ed7953"
             ],
             [
              0.7777777777777778,
              "#fb9f3a"
             ],
             [
              0.8888888888888888,
              "#fdca26"
             ],
             [
              1,
              "#f0f921"
             ]
            ],
            "type": "heatmap"
           }
          ],
          "heatmapgl": [
           {
            "colorbar": {
             "outlinewidth": 0,
             "ticks": ""
            },
            "colorscale": [
             [
              0,
              "#0d0887"
             ],
             [
              0.1111111111111111,
              "#46039f"
             ],
             [
              0.2222222222222222,
              "#7201a8"
             ],
             [
              0.3333333333333333,
              "#9c179e"
             ],
             [
              0.4444444444444444,
              "#bd3786"
             ],
             [
              0.5555555555555556,
              "#d8576b"
             ],
             [
              0.6666666666666666,
              "#ed7953"
             ],
             [
              0.7777777777777778,
              "#fb9f3a"
             ],
             [
              0.8888888888888888,
              "#fdca26"
             ],
             [
              1,
              "#f0f921"
             ]
            ],
            "type": "heatmapgl"
           }
          ],
          "histogram": [
           {
            "marker": {
             "pattern": {
              "fillmode": "overlay",
              "size": 10,
              "solidity": 0.2
             }
            },
            "type": "histogram"
           }
          ],
          "histogram2d": [
           {
            "colorbar": {
             "outlinewidth": 0,
             "ticks": ""
            },
            "colorscale": [
             [
              0,
              "#0d0887"
             ],
             [
              0.1111111111111111,
              "#46039f"
             ],
             [
              0.2222222222222222,
              "#7201a8"
             ],
             [
              0.3333333333333333,
              "#9c179e"
             ],
             [
              0.4444444444444444,
              "#bd3786"
             ],
             [
              0.5555555555555556,
              "#d8576b"
             ],
             [
              0.6666666666666666,
              "#ed7953"
             ],
             [
              0.7777777777777778,
              "#fb9f3a"
             ],
             [
              0.8888888888888888,
              "#fdca26"
             ],
             [
              1,
              "#f0f921"
             ]
            ],
            "type": "histogram2d"
           }
          ],
          "histogram2dcontour": [
           {
            "colorbar": {
             "outlinewidth": 0,
             "ticks": ""
            },
            "colorscale": [
             [
              0,
              "#0d0887"
             ],
             [
              0.1111111111111111,
              "#46039f"
             ],
             [
              0.2222222222222222,
              "#7201a8"
             ],
             [
              0.3333333333333333,
              "#9c179e"
             ],
             [
              0.4444444444444444,
              "#bd3786"
             ],
             [
              0.5555555555555556,
              "#d8576b"
             ],
             [
              0.6666666666666666,
              "#ed7953"
             ],
             [
              0.7777777777777778,
              "#fb9f3a"
             ],
             [
              0.8888888888888888,
              "#fdca26"
             ],
             [
              1,
              "#f0f921"
             ]
            ],
            "type": "histogram2dcontour"
           }
          ],
          "mesh3d": [
           {
            "colorbar": {
             "outlinewidth": 0,
             "ticks": ""
            },
            "type": "mesh3d"
           }
          ],
          "parcoords": [
           {
            "line": {
             "colorbar": {
              "outlinewidth": 0,
              "ticks": ""
             }
            },
            "type": "parcoords"
           }
          ],
          "pie": [
           {
            "automargin": true,
            "type": "pie"
           }
          ],
          "scatter": [
           {
            "marker": {
             "colorbar": {
              "outlinewidth": 0,
              "ticks": ""
             }
            },
            "type": "scatter"
           }
          ],
          "scatter3d": [
           {
            "line": {
             "colorbar": {
              "outlinewidth": 0,
              "ticks": ""
             }
            },
            "marker": {
             "colorbar": {
              "outlinewidth": 0,
              "ticks": ""
             }
            },
            "type": "scatter3d"
           }
          ],
          "scattercarpet": [
           {
            "marker": {
             "colorbar": {
              "outlinewidth": 0,
              "ticks": ""
             }
            },
            "type": "scattercarpet"
           }
          ],
          "scattergeo": [
           {
            "marker": {
             "colorbar": {
              "outlinewidth": 0,
              "ticks": ""
             }
            },
            "type": "scattergeo"
           }
          ],
          "scattergl": [
           {
            "marker": {
             "colorbar": {
              "outlinewidth": 0,
              "ticks": ""
             }
            },
            "type": "scattergl"
           }
          ],
          "scattermapbox": [
           {
            "marker": {
             "colorbar": {
              "outlinewidth": 0,
              "ticks": ""
             }
            },
            "type": "scattermapbox"
           }
          ],
          "scatterpolar": [
           {
            "marker": {
             "colorbar": {
              "outlinewidth": 0,
              "ticks": ""
             }
            },
            "type": "scatterpolar"
           }
          ],
          "scatterpolargl": [
           {
            "marker": {
             "colorbar": {
              "outlinewidth": 0,
              "ticks": ""
             }
            },
            "type": "scatterpolargl"
           }
          ],
          "scatterternary": [
           {
            "marker": {
             "colorbar": {
              "outlinewidth": 0,
              "ticks": ""
             }
            },
            "type": "scatterternary"
           }
          ],
          "surface": [
           {
            "colorbar": {
             "outlinewidth": 0,
             "ticks": ""
            },
            "colorscale": [
             [
              0,
              "#0d0887"
             ],
             [
              0.1111111111111111,
              "#46039f"
             ],
             [
              0.2222222222222222,
              "#7201a8"
             ],
             [
              0.3333333333333333,
              "#9c179e"
             ],
             [
              0.4444444444444444,
              "#bd3786"
             ],
             [
              0.5555555555555556,
              "#d8576b"
             ],
             [
              0.6666666666666666,
              "#ed7953"
             ],
             [
              0.7777777777777778,
              "#fb9f3a"
             ],
             [
              0.8888888888888888,
              "#fdca26"
             ],
             [
              1,
              "#f0f921"
             ]
            ],
            "type": "surface"
           }
          ],
          "table": [
           {
            "cells": {
             "fill": {
              "color": "#EBF0F8"
             },
             "line": {
              "color": "white"
             }
            },
            "header": {
             "fill": {
              "color": "#C8D4E3"
             },
             "line": {
              "color": "white"
             }
            },
            "type": "table"
           }
          ]
         },
         "layout": {
          "annotationdefaults": {
           "arrowcolor": "#2a3f5f",
           "arrowhead": 0,
           "arrowwidth": 1
          },
          "autotypenumbers": "strict",
          "coloraxis": {
           "colorbar": {
            "outlinewidth": 0,
            "ticks": ""
           }
          },
          "colorscale": {
           "diverging": [
            [
             0,
             "#8e0152"
            ],
            [
             0.1,
             "#c51b7d"
            ],
            [
             0.2,
             "#de77ae"
            ],
            [
             0.3,
             "#f1b6da"
            ],
            [
             0.4,
             "#fde0ef"
            ],
            [
             0.5,
             "#f7f7f7"
            ],
            [
             0.6,
             "#e6f5d0"
            ],
            [
             0.7,
             "#b8e186"
            ],
            [
             0.8,
             "#7fbc41"
            ],
            [
             0.9,
             "#4d9221"
            ],
            [
             1,
             "#276419"
            ]
           ],
           "sequential": [
            [
             0,
             "#0d0887"
            ],
            [
             0.1111111111111111,
             "#46039f"
            ],
            [
             0.2222222222222222,
             "#7201a8"
            ],
            [
             0.3333333333333333,
             "#9c179e"
            ],
            [
             0.4444444444444444,
             "#bd3786"
            ],
            [
             0.5555555555555556,
             "#d8576b"
            ],
            [
             0.6666666666666666,
             "#ed7953"
            ],
            [
             0.7777777777777778,
             "#fb9f3a"
            ],
            [
             0.8888888888888888,
             "#fdca26"
            ],
            [
             1,
             "#f0f921"
            ]
           ],
           "sequentialminus": [
            [
             0,
             "#0d0887"
            ],
            [
             0.1111111111111111,
             "#46039f"
            ],
            [
             0.2222222222222222,
             "#7201a8"
            ],
            [
             0.3333333333333333,
             "#9c179e"
            ],
            [
             0.4444444444444444,
             "#bd3786"
            ],
            [
             0.5555555555555556,
             "#d8576b"
            ],
            [
             0.6666666666666666,
             "#ed7953"
            ],
            [
             0.7777777777777778,
             "#fb9f3a"
            ],
            [
             0.8888888888888888,
             "#fdca26"
            ],
            [
             1,
             "#f0f921"
            ]
           ]
          },
          "colorway": [
           "#636efa",
           "#EF553B",
           "#00cc96",
           "#ab63fa",
           "#FFA15A",
           "#19d3f3",
           "#FF6692",
           "#B6E880",
           "#FF97FF",
           "#FECB52"
          ],
          "font": {
           "color": "#2a3f5f"
          },
          "geo": {
           "bgcolor": "white",
           "lakecolor": "white",
           "landcolor": "#E5ECF6",
           "showlakes": true,
           "showland": true,
           "subunitcolor": "white"
          },
          "hoverlabel": {
           "align": "left"
          },
          "hovermode": "closest",
          "mapbox": {
           "style": "light"
          },
          "paper_bgcolor": "white",
          "plot_bgcolor": "#E5ECF6",
          "polar": {
           "angularaxis": {
            "gridcolor": "white",
            "linecolor": "white",
            "ticks": ""
           },
           "bgcolor": "#E5ECF6",
           "radialaxis": {
            "gridcolor": "white",
            "linecolor": "white",
            "ticks": ""
           }
          },
          "scene": {
           "xaxis": {
            "backgroundcolor": "#E5ECF6",
            "gridcolor": "white",
            "gridwidth": 2,
            "linecolor": "white",
            "showbackground": true,
            "ticks": "",
            "zerolinecolor": "white"
           },
           "yaxis": {
            "backgroundcolor": "#E5ECF6",
            "gridcolor": "white",
            "gridwidth": 2,
            "linecolor": "white",
            "showbackground": true,
            "ticks": "",
            "zerolinecolor": "white"
           },
           "zaxis": {
            "backgroundcolor": "#E5ECF6",
            "gridcolor": "white",
            "gridwidth": 2,
            "linecolor": "white",
            "showbackground": true,
            "ticks": "",
            "zerolinecolor": "white"
           }
          },
          "shapedefaults": {
           "line": {
            "color": "#2a3f5f"
           }
          },
          "ternary": {
           "aaxis": {
            "gridcolor": "white",
            "linecolor": "white",
            "ticks": ""
           },
           "baxis": {
            "gridcolor": "white",
            "linecolor": "white",
            "ticks": ""
           },
           "bgcolor": "#E5ECF6",
           "caxis": {
            "gridcolor": "white",
            "linecolor": "white",
            "ticks": ""
           }
          },
          "title": {
           "x": 0.05
          },
          "xaxis": {
           "automargin": true,
           "gridcolor": "white",
           "linecolor": "white",
           "ticks": "",
           "title": {
            "standoff": 15
           },
           "zerolinecolor": "white",
           "zerolinewidth": 2
          },
          "yaxis": {
           "automargin": true,
           "gridcolor": "white",
           "linecolor": "white",
           "ticks": "",
           "title": {
            "standoff": 15
           },
           "zerolinecolor": "white",
           "zerolinewidth": 2
          }
         }
        },
        "title": {
         "font": {
          "size": 14
         },
         "text": "Distribution of 1st dose Vaccine Type by Age Group"
        },
        "width": 720,
        "xaxis": {
         "anchor": "y",
         "domain": [
          0,
          1
         ],
         "tickfont": {
          "size": 10
         },
         "title": {
          "font": {
           "size": 10
          },
          "text": "index"
         }
        },
        "yaxis": {
         "anchor": "x",
         "domain": [
          0,
          1
         ],
         "tickfont": {
          "size": 10
         },
         "title": {
          "font": {
           "size": 10
          },
          "text": "%"
         }
        }
       }
      }
     },
     "metadata": {},
     "output_type": "display_data"
    }
   ],
   "source": [
    "# Import the file, using injection date, age groups, and sex as index columns\n",
    "df = pd.read_csv(\"vaccination-rates-over-time-by-age.csv\", index_col=[0, 1, 2])\n",
    "df = df.iloc[:, [0, 3]]\n",
    "# Drop the sex columns and merge DF\n",
    "df = df.droplevel([2])\n",
    "df = df.groupby(df.index).sum()\n",
    "df.index = pd.MultiIndex.from_tuples([(datetime.strptime(x[0], \"%d/%m/%Y\"), x[1]) for x in df.index])\n",
    "# Get the latest date data\n",
    "df = df.loc[sorted(df.index)[-1][0]]\n",
    "# Get perecntage\n",
    "df = df*100/df.sum(axis=0)\n",
    "\n",
    "# Plot\n",
    "df = df.reset_index()\n",
    "df['index'][0] = \"12-19\"\n",
    "fig = px.bar(df, x=\"index\", y=[\"Sinovac 1st dose\", \"BioNTech 1st dose\"], title=\"Distribution of 1st dose Vaccine Type by Age Group\", barmode=\"group\")\n",
    "fig.update_layout(titlefont_size=14,\n",
    "            xaxis_titlefont_size=10,\n",
    "            xaxis_tickfont_size=10,\n",
    "            yaxis_titlefont_size=10,\n",
    "            yaxis_tickfont_size=10,\n",
    "            legend_font_size=10,\n",
    "            width=720, \n",
    "            height=480)\n",
    "fig.update_yaxes(title_text=\"%\")\n",
    "fig.show()\n",
    "fig.write_image(\"images/dist_vaccine.jpg\", width=720, height=480)"
   ]
  },
  {
   "cell_type": "code",
   "execution_count": 160,
   "metadata": {},
   "outputs": [
    {
     "data": {
      "application/vnd.plotly.v1+json": {
       "config": {
        "plotlyServerURL": "https://plot.ly"
       },
       "data": [
        {
         "name": "12-19",
         "type": "scatter",
         "x": [
          "2021-02-28T00:00:00",
          "2021-03-07T00:00:00",
          "2021-03-14T00:00:00",
          "2021-03-21T00:00:00",
          "2021-03-28T00:00:00",
          "2021-04-04T00:00:00",
          "2021-04-11T00:00:00",
          "2021-04-18T00:00:00",
          "2021-04-25T00:00:00",
          "2021-05-02T00:00:00",
          "2021-05-09T00:00:00",
          "2021-05-16T00:00:00",
          "2021-05-23T00:00:00",
          "2021-05-30T00:00:00",
          "2021-06-06T00:00:00",
          "2021-06-13T00:00:00",
          "2021-06-20T00:00:00",
          "2021-06-27T00:00:00",
          "2021-07-04T00:00:00",
          "2021-07-11T00:00:00",
          "2021-07-18T00:00:00",
          "2021-07-25T00:00:00",
          "2021-08-01T00:00:00",
          "2021-08-08T00:00:00",
          "2021-08-15T00:00:00",
          "2021-08-22T00:00:00",
          "2021-08-29T00:00:00",
          "2021-09-05T00:00:00",
          "2021-09-12T00:00:00",
          "2021-09-19T00:00:00",
          "2021-09-26T00:00:00",
          "2021-10-03T00:00:00",
          "2021-10-10T00:00:00",
          "2021-10-17T00:00:00",
          "2021-10-24T00:00:00",
          "2021-10-31T00:00:00",
          "2021-11-07T00:00:00",
          "2021-11-14T00:00:00",
          "2021-11-21T00:00:00",
          "2021-11-28T00:00:00",
          "2021-12-05T00:00:00",
          "2021-12-12T00:00:00",
          "2021-12-19T00:00:00",
          "2021-12-26T00:00:00",
          "2022-01-02T00:00:00",
          "2022-01-09T00:00:00",
          "2022-01-16T00:00:00",
          "2022-01-23T00:00:00"
         ],
         "xaxis": "x",
         "y": [
          0,
          83,
          399,
          799,
          -853,
          -390,
          1060,
          65,
          -51,
          2013,
          -864,
          605,
          593,
          130,
          1454,
          607,
          7172,
          1726,
          4743,
          1464,
          3850,
          -2467,
          -1867,
          -538,
          2895,
          1599,
          -2248,
          -2593,
          -7882,
          -3892,
          -1080,
          -18,
          -3882,
          657,
          -380,
          -395,
          110,
          -105,
          -12,
          230,
          1605,
          -1060,
          585,
          309,
          -226,
          491,
          2255,
          3391
         ],
         "yaxis": "y"
        },
        {
         "name": "20-29",
         "type": "scatter",
         "x": [
          "2021-02-28T00:00:00",
          "2021-03-07T00:00:00",
          "2021-03-14T00:00:00",
          "2021-03-21T00:00:00",
          "2021-03-28T00:00:00",
          "2021-04-04T00:00:00",
          "2021-04-11T00:00:00",
          "2021-04-18T00:00:00",
          "2021-04-25T00:00:00",
          "2021-05-02T00:00:00",
          "2021-05-09T00:00:00",
          "2021-05-16T00:00:00",
          "2021-05-23T00:00:00",
          "2021-05-30T00:00:00",
          "2021-06-06T00:00:00",
          "2021-06-13T00:00:00",
          "2021-06-20T00:00:00",
          "2021-06-27T00:00:00",
          "2021-07-04T00:00:00",
          "2021-07-11T00:00:00",
          "2021-07-18T00:00:00",
          "2021-07-25T00:00:00",
          "2021-08-01T00:00:00",
          "2021-08-08T00:00:00",
          "2021-08-15T00:00:00",
          "2021-08-22T00:00:00",
          "2021-08-29T00:00:00",
          "2021-09-05T00:00:00",
          "2021-09-12T00:00:00",
          "2021-09-19T00:00:00",
          "2021-09-26T00:00:00",
          "2021-10-03T00:00:00",
          "2021-10-10T00:00:00",
          "2021-10-17T00:00:00",
          "2021-10-24T00:00:00",
          "2021-10-31T00:00:00",
          "2021-11-07T00:00:00",
          "2021-11-14T00:00:00",
          "2021-11-21T00:00:00",
          "2021-11-28T00:00:00",
          "2021-12-05T00:00:00",
          "2021-12-12T00:00:00",
          "2021-12-19T00:00:00",
          "2021-12-26T00:00:00",
          "2022-01-02T00:00:00",
          "2022-01-09T00:00:00",
          "2022-01-16T00:00:00",
          "2022-01-23T00:00:00"
         ],
         "xaxis": "x",
         "y": [
          0,
          748,
          3427,
          4059,
          -4207,
          -2434,
          3946,
          3180,
          666,
          14636,
          -5886,
          -2956,
          -1323,
          1683,
          7155,
          3033,
          -499,
          1098,
          4209,
          686,
          1178,
          49,
          1675,
          3068,
          1944,
          -4388,
          -7047,
          -4747,
          -10201,
          -4681,
          -2300,
          -806,
          -2443,
          -32,
          -60,
          -206,
          203,
          249,
          676,
          1068,
          -1334,
          -734,
          -36,
          -315,
          1312,
          5837,
          200,
          -69
         ],
         "yaxis": "y"
        },
        {
         "name": "30-39",
         "type": "scatter",
         "x": [
          "2021-02-28T00:00:00",
          "2021-03-07T00:00:00",
          "2021-03-14T00:00:00",
          "2021-03-21T00:00:00",
          "2021-03-28T00:00:00",
          "2021-04-04T00:00:00",
          "2021-04-11T00:00:00",
          "2021-04-18T00:00:00",
          "2021-04-25T00:00:00",
          "2021-05-02T00:00:00",
          "2021-05-09T00:00:00",
          "2021-05-16T00:00:00",
          "2021-05-23T00:00:00",
          "2021-05-30T00:00:00",
          "2021-06-06T00:00:00",
          "2021-06-13T00:00:00",
          "2021-06-20T00:00:00",
          "2021-06-27T00:00:00",
          "2021-07-04T00:00:00",
          "2021-07-11T00:00:00",
          "2021-07-18T00:00:00",
          "2021-07-25T00:00:00",
          "2021-08-01T00:00:00",
          "2021-08-08T00:00:00",
          "2021-08-15T00:00:00",
          "2021-08-22T00:00:00",
          "2021-08-29T00:00:00",
          "2021-09-05T00:00:00",
          "2021-09-12T00:00:00",
          "2021-09-19T00:00:00",
          "2021-09-26T00:00:00",
          "2021-10-03T00:00:00",
          "2021-10-10T00:00:00",
          "2021-10-17T00:00:00",
          "2021-10-24T00:00:00",
          "2021-10-31T00:00:00",
          "2021-11-07T00:00:00",
          "2021-11-14T00:00:00",
          "2021-11-21T00:00:00",
          "2021-11-28T00:00:00",
          "2021-12-05T00:00:00",
          "2021-12-12T00:00:00",
          "2021-12-19T00:00:00",
          "2021-12-26T00:00:00",
          "2022-01-02T00:00:00",
          "2022-01-09T00:00:00",
          "2022-01-16T00:00:00",
          "2022-01-23T00:00:00"
         ],
         "xaxis": "x",
         "y": [
          0,
          2256,
          6513,
          20072,
          -13048,
          -10372,
          19428,
          10074,
          -5203,
          -8228,
          7812,
          -7095,
          -3814,
          1895,
          11895,
          7380,
          -3287,
          309,
          2512,
          -1587,
          568,
          -1069,
          1980,
          2829,
          -1839,
          -6158,
          -6500,
          -3649,
          -9678,
          -4916,
          -2348,
          -797,
          -3468,
          -104,
          116,
          -141,
          310,
          513,
          838,
          1104,
          -1361,
          -1146,
          -418,
          -542,
          2879,
          10580,
          317,
          -352
         ],
         "yaxis": "y"
        },
        {
         "name": "40-49",
         "type": "scatter",
         "x": [
          "2021-02-28T00:00:00",
          "2021-03-07T00:00:00",
          "2021-03-14T00:00:00",
          "2021-03-21T00:00:00",
          "2021-03-28T00:00:00",
          "2021-04-04T00:00:00",
          "2021-04-11T00:00:00",
          "2021-04-18T00:00:00",
          "2021-04-25T00:00:00",
          "2021-05-02T00:00:00",
          "2021-05-09T00:00:00",
          "2021-05-16T00:00:00",
          "2021-05-23T00:00:00",
          "2021-05-30T00:00:00",
          "2021-06-06T00:00:00",
          "2021-06-13T00:00:00",
          "2021-06-20T00:00:00",
          "2021-06-27T00:00:00",
          "2021-07-04T00:00:00",
          "2021-07-11T00:00:00",
          "2021-07-18T00:00:00",
          "2021-07-25T00:00:00",
          "2021-08-01T00:00:00",
          "2021-08-08T00:00:00",
          "2021-08-15T00:00:00",
          "2021-08-22T00:00:00",
          "2021-08-29T00:00:00",
          "2021-09-05T00:00:00",
          "2021-09-12T00:00:00",
          "2021-09-19T00:00:00",
          "2021-09-26T00:00:00",
          "2021-10-03T00:00:00",
          "2021-10-10T00:00:00",
          "2021-10-17T00:00:00",
          "2021-10-24T00:00:00",
          "2021-10-31T00:00:00",
          "2021-11-07T00:00:00",
          "2021-11-14T00:00:00",
          "2021-11-21T00:00:00",
          "2021-11-28T00:00:00",
          "2021-12-05T00:00:00",
          "2021-12-12T00:00:00",
          "2021-12-19T00:00:00",
          "2021-12-26T00:00:00",
          "2022-01-02T00:00:00",
          "2022-01-09T00:00:00",
          "2022-01-16T00:00:00",
          "2022-01-23T00:00:00"
         ],
         "xaxis": "x",
         "y": [
          0,
          5796,
          8706,
          23443,
          -16815,
          -14379,
          21162,
          10910,
          -6398,
          -9514,
          6215,
          -7204,
          -3358,
          3725,
          14946,
          10170,
          -5140,
          -277,
          -83,
          -2617,
          -388,
          -2425,
          -19,
          550,
          -3378,
          -6421,
          -5002,
          -2394,
          -8741,
          -4759,
          -2006,
          -763,
          -3370,
          -354,
          236,
          -126,
          218,
          302,
          496,
          834,
          -802,
          -993,
          -472,
          -440,
          2279,
          10535,
          162,
          -457
         ],
         "yaxis": "y"
        },
        {
         "name": "50-59",
         "type": "scatter",
         "x": [
          "2021-02-28T00:00:00",
          "2021-03-07T00:00:00",
          "2021-03-14T00:00:00",
          "2021-03-21T00:00:00",
          "2021-03-28T00:00:00",
          "2021-04-04T00:00:00",
          "2021-04-11T00:00:00",
          "2021-04-18T00:00:00",
          "2021-04-25T00:00:00",
          "2021-05-02T00:00:00",
          "2021-05-09T00:00:00",
          "2021-05-16T00:00:00",
          "2021-05-23T00:00:00",
          "2021-05-30T00:00:00",
          "2021-06-06T00:00:00",
          "2021-06-13T00:00:00",
          "2021-06-20T00:00:00",
          "2021-06-27T00:00:00",
          "2021-07-04T00:00:00",
          "2021-07-11T00:00:00",
          "2021-07-18T00:00:00",
          "2021-07-25T00:00:00",
          "2021-08-01T00:00:00",
          "2021-08-08T00:00:00",
          "2021-08-15T00:00:00",
          "2021-08-22T00:00:00",
          "2021-08-29T00:00:00",
          "2021-09-05T00:00:00",
          "2021-09-12T00:00:00",
          "2021-09-19T00:00:00",
          "2021-09-26T00:00:00",
          "2021-10-03T00:00:00",
          "2021-10-10T00:00:00",
          "2021-10-17T00:00:00",
          "2021-10-24T00:00:00",
          "2021-10-31T00:00:00",
          "2021-11-07T00:00:00",
          "2021-11-14T00:00:00",
          "2021-11-21T00:00:00",
          "2021-11-28T00:00:00",
          "2021-12-05T00:00:00",
          "2021-12-12T00:00:00",
          "2021-12-19T00:00:00",
          "2021-12-26T00:00:00",
          "2022-01-02T00:00:00",
          "2022-01-09T00:00:00",
          "2022-01-16T00:00:00",
          "2022-01-23T00:00:00"
         ],
         "xaxis": "x",
         "y": [
          0,
          6642,
          7754,
          20591,
          -15248,
          -12518,
          13131,
          7998,
          -4310,
          -6798,
          2128,
          -4346,
          -1097,
          5542,
          15326,
          11607,
          -4893,
          1777,
          88,
          -1455,
          -1335,
          -2921,
          546,
          314,
          -3975,
          -7165,
          -4678,
          -2803,
          -8011,
          -4999,
          -1987,
          -633,
          -3530,
          -823,
          728,
          -63,
          -22,
          178,
          526,
          764,
          -171,
          -1204,
          -939,
          -198,
          2048,
          12531,
          -516,
          -1184
         ],
         "yaxis": "y"
        },
        {
         "name": "60-69",
         "type": "scatter",
         "x": [
          "2021-02-28T00:00:00",
          "2021-03-07T00:00:00",
          "2021-03-14T00:00:00",
          "2021-03-21T00:00:00",
          "2021-03-28T00:00:00",
          "2021-04-04T00:00:00",
          "2021-04-11T00:00:00",
          "2021-04-18T00:00:00",
          "2021-04-25T00:00:00",
          "2021-05-02T00:00:00",
          "2021-05-09T00:00:00",
          "2021-05-16T00:00:00",
          "2021-05-23T00:00:00",
          "2021-05-30T00:00:00",
          "2021-06-06T00:00:00",
          "2021-06-13T00:00:00",
          "2021-06-20T00:00:00",
          "2021-06-27T00:00:00",
          "2021-07-04T00:00:00",
          "2021-07-11T00:00:00",
          "2021-07-18T00:00:00",
          "2021-07-25T00:00:00",
          "2021-08-01T00:00:00",
          "2021-08-08T00:00:00",
          "2021-08-15T00:00:00",
          "2021-08-22T00:00:00",
          "2021-08-29T00:00:00",
          "2021-09-05T00:00:00",
          "2021-09-12T00:00:00",
          "2021-09-19T00:00:00",
          "2021-09-26T00:00:00",
          "2021-10-03T00:00:00",
          "2021-10-10T00:00:00",
          "2021-10-17T00:00:00",
          "2021-10-24T00:00:00",
          "2021-10-31T00:00:00",
          "2021-11-07T00:00:00",
          "2021-11-14T00:00:00",
          "2021-11-21T00:00:00",
          "2021-11-28T00:00:00",
          "2021-12-05T00:00:00",
          "2021-12-12T00:00:00",
          "2021-12-19T00:00:00",
          "2021-12-26T00:00:00",
          "2022-01-02T00:00:00",
          "2022-01-09T00:00:00",
          "2022-01-16T00:00:00",
          "2022-01-23T00:00:00"
         ],
         "xaxis": "x",
         "y": [
          0,
          22408,
          2102,
          -1634,
          -16652,
          -10319,
          4592,
          6303,
          -1956,
          -3639,
          446,
          -1546,
          -364,
          3416,
          10198,
          6475,
          -1508,
          2349,
          -606,
          2862,
          -367,
          -945,
          464,
          3617,
          4363,
          -7667,
          -6059,
          -3002,
          -5980,
          -4611,
          -1943,
          153,
          -2999,
          -956,
          837,
          53,
          -196,
          -323,
          485,
          638,
          1103,
          -1912,
          -1549,
          -405,
          2247,
          20149,
          -896,
          -3808
         ],
         "yaxis": "y"
        },
        {
         "name": "70-79",
         "type": "scatter",
         "x": [
          "2021-02-28T00:00:00",
          "2021-03-07T00:00:00",
          "2021-03-14T00:00:00",
          "2021-03-21T00:00:00",
          "2021-03-28T00:00:00",
          "2021-04-04T00:00:00",
          "2021-04-11T00:00:00",
          "2021-04-18T00:00:00",
          "2021-04-25T00:00:00",
          "2021-05-02T00:00:00",
          "2021-05-09T00:00:00",
          "2021-05-16T00:00:00",
          "2021-05-23T00:00:00",
          "2021-05-30T00:00:00",
          "2021-06-06T00:00:00",
          "2021-06-13T00:00:00",
          "2021-06-20T00:00:00",
          "2021-06-27T00:00:00",
          "2021-07-04T00:00:00",
          "2021-07-11T00:00:00",
          "2021-07-18T00:00:00",
          "2021-07-25T00:00:00",
          "2021-08-01T00:00:00",
          "2021-08-08T00:00:00",
          "2021-08-15T00:00:00",
          "2021-08-22T00:00:00",
          "2021-08-29T00:00:00",
          "2021-09-05T00:00:00",
          "2021-09-12T00:00:00",
          "2021-09-19T00:00:00",
          "2021-09-26T00:00:00",
          "2021-10-03T00:00:00",
          "2021-10-10T00:00:00",
          "2021-10-17T00:00:00",
          "2021-10-24T00:00:00",
          "2021-10-31T00:00:00",
          "2021-11-07T00:00:00",
          "2021-11-14T00:00:00",
          "2021-11-21T00:00:00",
          "2021-11-28T00:00:00",
          "2021-12-05T00:00:00",
          "2021-12-12T00:00:00",
          "2021-12-19T00:00:00",
          "2021-12-26T00:00:00",
          "2022-01-02T00:00:00",
          "2022-01-09T00:00:00",
          "2022-01-16T00:00:00",
          "2022-01-23T00:00:00"
         ],
         "xaxis": "x",
         "y": [
          0,
          10654,
          -2098,
          -947,
          -6103,
          -3379,
          1453,
          1988,
          -762,
          -1483,
          -14,
          -295,
          -97,
          1059,
          2770,
          1677,
          380,
          476,
          -648,
          1677,
          155,
          -222,
          4565,
          3026,
          -3104,
          -3064,
          -1583,
          -207,
          -1651,
          -2181,
          -547,
          79,
          -1127,
          -462,
          778,
          -234,
          -146,
          -456,
          370,
          272,
          1720,
          -1581,
          -1235,
          -451,
          1319,
          15675,
          -1016,
          -3502
         ],
         "yaxis": "y"
        },
        {
         "name": "80 and above",
         "type": "scatter",
         "x": [
          "2021-02-28T00:00:00",
          "2021-03-07T00:00:00",
          "2021-03-14T00:00:00",
          "2021-03-21T00:00:00",
          "2021-03-28T00:00:00",
          "2021-04-04T00:00:00",
          "2021-04-11T00:00:00",
          "2021-04-18T00:00:00",
          "2021-04-25T00:00:00",
          "2021-05-02T00:00:00",
          "2021-05-09T00:00:00",
          "2021-05-16T00:00:00",
          "2021-05-23T00:00:00",
          "2021-05-30T00:00:00",
          "2021-06-06T00:00:00",
          "2021-06-13T00:00:00",
          "2021-06-20T00:00:00",
          "2021-06-27T00:00:00",
          "2021-07-04T00:00:00",
          "2021-07-11T00:00:00",
          "2021-07-18T00:00:00",
          "2021-07-25T00:00:00",
          "2021-08-01T00:00:00",
          "2021-08-08T00:00:00",
          "2021-08-15T00:00:00",
          "2021-08-22T00:00:00",
          "2021-08-29T00:00:00",
          "2021-09-05T00:00:00",
          "2021-09-12T00:00:00",
          "2021-09-19T00:00:00",
          "2021-09-26T00:00:00",
          "2021-10-03T00:00:00",
          "2021-10-10T00:00:00",
          "2021-10-17T00:00:00",
          "2021-10-24T00:00:00",
          "2021-10-31T00:00:00",
          "2021-11-07T00:00:00",
          "2021-11-14T00:00:00",
          "2021-11-21T00:00:00",
          "2021-11-28T00:00:00",
          "2021-12-05T00:00:00",
          "2021-12-12T00:00:00",
          "2021-12-19T00:00:00",
          "2021-12-26T00:00:00",
          "2022-01-02T00:00:00",
          "2022-01-09T00:00:00",
          "2022-01-16T00:00:00",
          "2022-01-23T00:00:00"
         ],
         "xaxis": "x",
         "y": [
          0,
          3032,
          -1418,
          -381,
          -1308,
          -703,
          316,
          381,
          -169,
          -301,
          13,
          -71,
          -5,
          165,
          474,
          272,
          94,
          123,
          -2,
          201,
          159,
          -40,
          1464,
          1050,
          -336,
          -491,
          -61,
          284,
          -715,
          -685,
          -305,
          166,
          -509,
          -276,
          604,
          -203,
          -221,
          -230,
          235,
          223,
          1383,
          -585,
          -986,
          -246,
          459,
          10510,
          -231,
          -2330
         ],
         "yaxis": "y"
        }
       ],
       "layout": {
        "height": 480,
        "legend": {
         "font": {
          "size": 10
         },
         "title": {
          "text": "Age"
         }
        },
        "template": {
         "data": {
          "bar": [
           {
            "error_x": {
             "color": "#2a3f5f"
            },
            "error_y": {
             "color": "#2a3f5f"
            },
            "marker": {
             "line": {
              "color": "#E5ECF6",
              "width": 0.5
             },
             "pattern": {
              "fillmode": "overlay",
              "size": 10,
              "solidity": 0.2
             }
            },
            "type": "bar"
           }
          ],
          "barpolar": [
           {
            "marker": {
             "line": {
              "color": "#E5ECF6",
              "width": 0.5
             },
             "pattern": {
              "fillmode": "overlay",
              "size": 10,
              "solidity": 0.2
             }
            },
            "type": "barpolar"
           }
          ],
          "carpet": [
           {
            "aaxis": {
             "endlinecolor": "#2a3f5f",
             "gridcolor": "white",
             "linecolor": "white",
             "minorgridcolor": "white",
             "startlinecolor": "#2a3f5f"
            },
            "baxis": {
             "endlinecolor": "#2a3f5f",
             "gridcolor": "white",
             "linecolor": "white",
             "minorgridcolor": "white",
             "startlinecolor": "#2a3f5f"
            },
            "type": "carpet"
           }
          ],
          "choropleth": [
           {
            "colorbar": {
             "outlinewidth": 0,
             "ticks": ""
            },
            "type": "choropleth"
           }
          ],
          "contour": [
           {
            "colorbar": {
             "outlinewidth": 0,
             "ticks": ""
            },
            "colorscale": [
             [
              0,
              "#0d0887"
             ],
             [
              0.1111111111111111,
              "#46039f"
             ],
             [
              0.2222222222222222,
              "#7201a8"
             ],
             [
              0.3333333333333333,
              "#9c179e"
             ],
             [
              0.4444444444444444,
              "#bd3786"
             ],
             [
              0.5555555555555556,
              "#d8576b"
             ],
             [
              0.6666666666666666,
              "#ed7953"
             ],
             [
              0.7777777777777778,
              "#fb9f3a"
             ],
             [
              0.8888888888888888,
              "#fdca26"
             ],
             [
              1,
              "#f0f921"
             ]
            ],
            "type": "contour"
           }
          ],
          "contourcarpet": [
           {
            "colorbar": {
             "outlinewidth": 0,
             "ticks": ""
            },
            "type": "contourcarpet"
           }
          ],
          "heatmap": [
           {
            "colorbar": {
             "outlinewidth": 0,
             "ticks": ""
            },
            "colorscale": [
             [
              0,
              "#0d0887"
             ],
             [
              0.1111111111111111,
              "#46039f"
             ],
             [
              0.2222222222222222,
              "#7201a8"
             ],
             [
              0.3333333333333333,
              "#9c179e"
             ],
             [
              0.4444444444444444,
              "#bd3786"
             ],
             [
              0.5555555555555556,
              "#d8576b"
             ],
             [
              0.6666666666666666,
              "#ed7953"
             ],
             [
              0.7777777777777778,
              "#fb9f3a"
             ],
             [
              0.8888888888888888,
              "#fdca26"
             ],
             [
              1,
              "#f0f921"
             ]
            ],
            "type": "heatmap"
           }
          ],
          "heatmapgl": [
           {
            "colorbar": {
             "outlinewidth": 0,
             "ticks": ""
            },
            "colorscale": [
             [
              0,
              "#0d0887"
             ],
             [
              0.1111111111111111,
              "#46039f"
             ],
             [
              0.2222222222222222,
              "#7201a8"
             ],
             [
              0.3333333333333333,
              "#9c179e"
             ],
             [
              0.4444444444444444,
              "#bd3786"
             ],
             [
              0.5555555555555556,
              "#d8576b"
             ],
             [
              0.6666666666666666,
              "#ed7953"
             ],
             [
              0.7777777777777778,
              "#fb9f3a"
             ],
             [
              0.8888888888888888,
              "#fdca26"
             ],
             [
              1,
              "#f0f921"
             ]
            ],
            "type": "heatmapgl"
           }
          ],
          "histogram": [
           {
            "marker": {
             "pattern": {
              "fillmode": "overlay",
              "size": 10,
              "solidity": 0.2
             }
            },
            "type": "histogram"
           }
          ],
          "histogram2d": [
           {
            "colorbar": {
             "outlinewidth": 0,
             "ticks": ""
            },
            "colorscale": [
             [
              0,
              "#0d0887"
             ],
             [
              0.1111111111111111,
              "#46039f"
             ],
             [
              0.2222222222222222,
              "#7201a8"
             ],
             [
              0.3333333333333333,
              "#9c179e"
             ],
             [
              0.4444444444444444,
              "#bd3786"
             ],
             [
              0.5555555555555556,
              "#d8576b"
             ],
             [
              0.6666666666666666,
              "#ed7953"
             ],
             [
              0.7777777777777778,
              "#fb9f3a"
             ],
             [
              0.8888888888888888,
              "#fdca26"
             ],
             [
              1,
              "#f0f921"
             ]
            ],
            "type": "histogram2d"
           }
          ],
          "histogram2dcontour": [
           {
            "colorbar": {
             "outlinewidth": 0,
             "ticks": ""
            },
            "colorscale": [
             [
              0,
              "#0d0887"
             ],
             [
              0.1111111111111111,
              "#46039f"
             ],
             [
              0.2222222222222222,
              "#7201a8"
             ],
             [
              0.3333333333333333,
              "#9c179e"
             ],
             [
              0.4444444444444444,
              "#bd3786"
             ],
             [
              0.5555555555555556,
              "#d8576b"
             ],
             [
              0.6666666666666666,
              "#ed7953"
             ],
             [
              0.7777777777777778,
              "#fb9f3a"
             ],
             [
              0.8888888888888888,
              "#fdca26"
             ],
             [
              1,
              "#f0f921"
             ]
            ],
            "type": "histogram2dcontour"
           }
          ],
          "mesh3d": [
           {
            "colorbar": {
             "outlinewidth": 0,
             "ticks": ""
            },
            "type": "mesh3d"
           }
          ],
          "parcoords": [
           {
            "line": {
             "colorbar": {
              "outlinewidth": 0,
              "ticks": ""
             }
            },
            "type": "parcoords"
           }
          ],
          "pie": [
           {
            "automargin": true,
            "type": "pie"
           }
          ],
          "scatter": [
           {
            "marker": {
             "colorbar": {
              "outlinewidth": 0,
              "ticks": ""
             }
            },
            "type": "scatter"
           }
          ],
          "scatter3d": [
           {
            "line": {
             "colorbar": {
              "outlinewidth": 0,
              "ticks": ""
             }
            },
            "marker": {
             "colorbar": {
              "outlinewidth": 0,
              "ticks": ""
             }
            },
            "type": "scatter3d"
           }
          ],
          "scattercarpet": [
           {
            "marker": {
             "colorbar": {
              "outlinewidth": 0,
              "ticks": ""
             }
            },
            "type": "scattercarpet"
           }
          ],
          "scattergeo": [
           {
            "marker": {
             "colorbar": {
              "outlinewidth": 0,
              "ticks": ""
             }
            },
            "type": "scattergeo"
           }
          ],
          "scattergl": [
           {
            "marker": {
             "colorbar": {
              "outlinewidth": 0,
              "ticks": ""
             }
            },
            "type": "scattergl"
           }
          ],
          "scattermapbox": [
           {
            "marker": {
             "colorbar": {
              "outlinewidth": 0,
              "ticks": ""
             }
            },
            "type": "scattermapbox"
           }
          ],
          "scatterpolar": [
           {
            "marker": {
             "colorbar": {
              "outlinewidth": 0,
              "ticks": ""
             }
            },
            "type": "scatterpolar"
           }
          ],
          "scatterpolargl": [
           {
            "marker": {
             "colorbar": {
              "outlinewidth": 0,
              "ticks": ""
             }
            },
            "type": "scatterpolargl"
           }
          ],
          "scatterternary": [
           {
            "marker": {
             "colorbar": {
              "outlinewidth": 0,
              "ticks": ""
             }
            },
            "type": "scatterternary"
           }
          ],
          "surface": [
           {
            "colorbar": {
             "outlinewidth": 0,
             "ticks": ""
            },
            "colorscale": [
             [
              0,
              "#0d0887"
             ],
             [
              0.1111111111111111,
              "#46039f"
             ],
             [
              0.2222222222222222,
              "#7201a8"
             ],
             [
              0.3333333333333333,
              "#9c179e"
             ],
             [
              0.4444444444444444,
              "#bd3786"
             ],
             [
              0.5555555555555556,
              "#d8576b"
             ],
             [
              0.6666666666666666,
              "#ed7953"
             ],
             [
              0.7777777777777778,
              "#fb9f3a"
             ],
             [
              0.8888888888888888,
              "#fdca26"
             ],
             [
              1,
              "#f0f921"
             ]
            ],
            "type": "surface"
           }
          ],
          "table": [
           {
            "cells": {
             "fill": {
              "color": "#EBF0F8"
             },
             "line": {
              "color": "white"
             }
            },
            "header": {
             "fill": {
              "color": "#C8D4E3"
             },
             "line": {
              "color": "white"
             }
            },
            "type": "table"
           }
          ]
         },
         "layout": {
          "annotationdefaults": {
           "arrowcolor": "#2a3f5f",
           "arrowhead": 0,
           "arrowwidth": 1
          },
          "autotypenumbers": "strict",
          "coloraxis": {
           "colorbar": {
            "outlinewidth": 0,
            "ticks": ""
           }
          },
          "colorscale": {
           "diverging": [
            [
             0,
             "#8e0152"
            ],
            [
             0.1,
             "#c51b7d"
            ],
            [
             0.2,
             "#de77ae"
            ],
            [
             0.3,
             "#f1b6da"
            ],
            [
             0.4,
             "#fde0ef"
            ],
            [
             0.5,
             "#f7f7f7"
            ],
            [
             0.6,
             "#e6f5d0"
            ],
            [
             0.7,
             "#b8e186"
            ],
            [
             0.8,
             "#7fbc41"
            ],
            [
             0.9,
             "#4d9221"
            ],
            [
             1,
             "#276419"
            ]
           ],
           "sequential": [
            [
             0,
             "#0d0887"
            ],
            [
             0.1111111111111111,
             "#46039f"
            ],
            [
             0.2222222222222222,
             "#7201a8"
            ],
            [
             0.3333333333333333,
             "#9c179e"
            ],
            [
             0.4444444444444444,
             "#bd3786"
            ],
            [
             0.5555555555555556,
             "#d8576b"
            ],
            [
             0.6666666666666666,
             "#ed7953"
            ],
            [
             0.7777777777777778,
             "#fb9f3a"
            ],
            [
             0.8888888888888888,
             "#fdca26"
            ],
            [
             1,
             "#f0f921"
            ]
           ],
           "sequentialminus": [
            [
             0,
             "#0d0887"
            ],
            [
             0.1111111111111111,
             "#46039f"
            ],
            [
             0.2222222222222222,
             "#7201a8"
            ],
            [
             0.3333333333333333,
             "#9c179e"
            ],
            [
             0.4444444444444444,
             "#bd3786"
            ],
            [
             0.5555555555555556,
             "#d8576b"
            ],
            [
             0.6666666666666666,
             "#ed7953"
            ],
            [
             0.7777777777777778,
             "#fb9f3a"
            ],
            [
             0.8888888888888888,
             "#fdca26"
            ],
            [
             1,
             "#f0f921"
            ]
           ]
          },
          "colorway": [
           "#636efa",
           "#EF553B",
           "#00cc96",
           "#ab63fa",
           "#FFA15A",
           "#19d3f3",
           "#FF6692",
           "#B6E880",
           "#FF97FF",
           "#FECB52"
          ],
          "font": {
           "color": "#2a3f5f"
          },
          "geo": {
           "bgcolor": "white",
           "lakecolor": "white",
           "landcolor": "#E5ECF6",
           "showlakes": true,
           "showland": true,
           "subunitcolor": "white"
          },
          "hoverlabel": {
           "align": "left"
          },
          "hovermode": "closest",
          "mapbox": {
           "style": "light"
          },
          "paper_bgcolor": "white",
          "plot_bgcolor": "#E5ECF6",
          "polar": {
           "angularaxis": {
            "gridcolor": "white",
            "linecolor": "white",
            "ticks": ""
           },
           "bgcolor": "#E5ECF6",
           "radialaxis": {
            "gridcolor": "white",
            "linecolor": "white",
            "ticks": ""
           }
          },
          "scene": {
           "xaxis": {
            "backgroundcolor": "#E5ECF6",
            "gridcolor": "white",
            "gridwidth": 2,
            "linecolor": "white",
            "showbackground": true,
            "ticks": "",
            "zerolinecolor": "white"
           },
           "yaxis": {
            "backgroundcolor": "#E5ECF6",
            "gridcolor": "white",
            "gridwidth": 2,
            "linecolor": "white",
            "showbackground": true,
            "ticks": "",
            "zerolinecolor": "white"
           },
           "zaxis": {
            "backgroundcolor": "#E5ECF6",
            "gridcolor": "white",
            "gridwidth": 2,
            "linecolor": "white",
            "showbackground": true,
            "ticks": "",
            "zerolinecolor": "white"
           }
          },
          "shapedefaults": {
           "line": {
            "color": "#2a3f5f"
           }
          },
          "ternary": {
           "aaxis": {
            "gridcolor": "white",
            "linecolor": "white",
            "ticks": ""
           },
           "baxis": {
            "gridcolor": "white",
            "linecolor": "white",
            "ticks": ""
           },
           "bgcolor": "#E5ECF6",
           "caxis": {
            "gridcolor": "white",
            "linecolor": "white",
            "ticks": ""
           }
          },
          "title": {
           "x": 0.05
          },
          "xaxis": {
           "automargin": true,
           "gridcolor": "white",
           "linecolor": "white",
           "ticks": "",
           "title": {
            "standoff": 15
           },
           "zerolinecolor": "white",
           "zerolinewidth": 2
          },
          "yaxis": {
           "automargin": true,
           "gridcolor": "white",
           "linecolor": "white",
           "ticks": "",
           "title": {
            "standoff": 15
           },
           "zerolinecolor": "white",
           "zerolinewidth": 2
          }
         }
        },
        "title": {
         "text": "<span style=\"font-size: 14px;\">Weekly Change in Newly Vaccinated Population of COVID-19 Vaccine in Hong Kong by Age Group</span>"
        },
        "width": 720,
        "xaxis": {
         "anchor": "y",
         "domain": [
          0,
          1
         ],
         "dtick": "M1",
         "showgrid": false,
         "tickfont": {
          "size": 10
         },
         "title": {
          "font": {
           "size": 10
          },
          "text": "Time"
         }
        },
        "yaxis": {
         "anchor": "x",
         "domain": [
          0,
          1
         ],
         "showgrid": true,
         "tickfont": {
          "size": 10
         },
         "title": {
          "font": {
           "size": 10
          },
          "text": "#"
         }
        }
       }
      }
     },
     "metadata": {},
     "output_type": "display_data"
    }
   ],
   "source": [
    "df = pd.read_csv(\"vaccination-rates-over-time-by-age.csv\", index_col=[0, 1, 2])\n",
    "# Sum up the vaccination number of male and female\n",
    "df = df.groupby([\"Date\", \"Age Group\"]).sum()\n",
    "# Get the first dose data, and sparse out columns by age group\n",
    "df = (df.iloc[:, 0] + df.iloc[:, 3].values).unstack(\"Age Group\").fillna(0)\n",
    "# Convert the indexes into DateTime objects\n",
    "df.index = pd.to_datetime(df.index, dayfirst=True)\n",
    "df_ = df\n",
    "# Resample to weekly resolution\n",
    "df = df.resample(\"w\").sum()\n",
    "# Age groups total population\n",
    "df.columns = [\"12-19\", \"20-29\", \"30-39\", \"40-49\", \"50-59\", \"60-69\", \"70-79\", \"80 and above\"]\n",
    "\n",
    "# Reindex for plotting\n",
    "df.index.name = \"time\"\n",
    "df = df.reset_index()\n",
    "\n",
    "fig = make_subplots(rows=1, cols=1)\n",
    "# Get the absolute difference of vaccination rate (gradient)\n",
    "for i in range(1, len(df.columns)):\n",
    "    fig.add_trace(go.Scatter(x=df[\"time\"], y=df[df.columns[i]].diff().fillna(0), name=df.columns[i]), row=1, col=1)\n",
    "fig.update_layout(title_text='<span style=\"font-size: 14px;\">Weekly Change in Newly Vaccinated Population of COVID-19 Vaccine in Hong Kong by Age Group</span>',\n",
    "                  xaxis_title=\"Time\",\n",
    "                  legend_title=\"Age\",\n",
    "                  xaxis=dict(\n",
    "                      dtick = \"M1\",\n",
    "                      showgrid = False\n",
    "                  ),\n",
    "                  xaxis_titlefont_size=10,\n",
    "                  xaxis_tickfont_size=10,\n",
    "                  yaxis_titlefont_size=10,\n",
    "                  yaxis_tickfont_size=10,\n",
    "                  legend_font_size=10,\n",
    "                  width=720, height=480)\n",
    "fig.update_yaxes(title_text=\"#\", showgrid=True)\n",
    "fig.show()\n",
    "fig.write_image(\"images/chg_no_inject.jpg\", width=720, height=480)"
   ]
  },
  {
   "cell_type": "markdown",
   "metadata": {},
   "source": [
    "### Vaccination Rate by age groups"
   ]
  },
  {
   "cell_type": "code",
   "execution_count": 143,
   "metadata": {
    "scrolled": true
   },
   "outputs": [
    {
     "data": {
      "text/html": [
       "<div>\n",
       "<style scoped>\n",
       "    .dataframe tbody tr th:only-of-type {\n",
       "        vertical-align: middle;\n",
       "    }\n",
       "\n",
       "    .dataframe tbody tr th {\n",
       "        vertical-align: top;\n",
       "    }\n",
       "\n",
       "    .dataframe thead th {\n",
       "        text-align: right;\n",
       "    }\n",
       "</style>\n",
       "<table border=\"1\" class=\"dataframe\">\n",
       "  <thead>\n",
       "    <tr style=\"text-align: right;\">\n",
       "      <th></th>\n",
       "      <th>12-19</th>\n",
       "      <th>20-29</th>\n",
       "      <th>30-39</th>\n",
       "      <th>40-49</th>\n",
       "      <th>50-59</th>\n",
       "      <th>60-69</th>\n",
       "      <th>70-79</th>\n",
       "      <th>80 and above</th>\n",
       "    </tr>\n",
       "    <tr>\n",
       "      <th>Date</th>\n",
       "      <th></th>\n",
       "      <th></th>\n",
       "      <th></th>\n",
       "      <th></th>\n",
       "      <th></th>\n",
       "      <th></th>\n",
       "      <th></th>\n",
       "      <th></th>\n",
       "    </tr>\n",
       "  </thead>\n",
       "  <tbody>\n",
       "    <tr>\n",
       "      <th>2022-01-23</th>\n",
       "      <td>83.007799</td>\n",
       "      <td>82.813157</td>\n",
       "      <td>83.985261</td>\n",
       "      <td>90.627921</td>\n",
       "      <td>85.408959</td>\n",
       "      <td>72.798097</td>\n",
       "      <td>57.496699</td>\n",
       "      <td>29.143106</td>\n",
       "    </tr>\n",
       "  </tbody>\n",
       "</table>\n",
       "</div>"
      ],
      "text/plain": [
       "                12-19      20-29      30-39      40-49      50-59      60-69  \\\n",
       "Date                                                                           \n",
       "2022-01-23  83.007799  82.813157  83.985261  90.627921  85.408959  72.798097   \n",
       "\n",
       "                70-79  80 and above  \n",
       "Date                                 \n",
       "2022-01-23  57.496699     29.143106  "
      ]
     },
     "metadata": {},
     "output_type": "display_data"
    }
   ],
   "source": [
    "df = pd.read_csv(\"vaccination-rates-over-time-by-age.csv\", index_col=[0, 1, 2])\n",
    "# Sum up the vaccination number of male and female\n",
    "df = df.groupby([\"Date\", \"Age Group\"]).sum()\n",
    "# Get the first dose data, and sparse out columns by age group\n",
    "df = (df.iloc[:, 0] + df.iloc[:, 3].values).unstack(\"Age Group\").fillna(0)\n",
    "# Convert the indexes into DateTime objects\n",
    "df.index = pd.to_datetime(df.index, dayfirst=True)\n",
    "df_ = df\n",
    "# Resample to weekly resolution\n",
    "df = df.resample(\"w\").sum()\n",
    "\n",
    "# Age groups total population\n",
    "df.columns = [\"12-19\", \"20-29\", \"30-39\", \"40-49\", \"50-59\", \"60-69\", \"70-79\", \"80 and above\"]\n",
    "pop = pd.Series([448800, 808700, 1126300, 1142500, 1174200, 1071800, 560500, 401800], index=df.columns)\n",
    "\n",
    "# Calculate the vaccination rate\n",
    "df = df.cumsum() * 100 / pop\n",
    "# Print the latest vaccination rate\n",
    "display(df.iloc[[-1]])\n",
    "# Reindex for plotting\n",
    "df.index.name = \"time\"\n",
    "df = df.reset_index()\n",
    "\n",
    "# Get infected numbers\n",
    "df2 = pd.read_excel(\"previous_cases_covid19_en.xlsx\", usecols=[1])\n",
    "df2[\"#\"] = 1\n",
    "df2 = df2.groupby(\"Report date\").sum()\n",
    "df2 = df2.loc[\"2021-2-22\":]"
   ]
  },
  {
   "cell_type": "code",
   "execution_count": 158,
   "metadata": {},
   "outputs": [
    {
     "data": {
      "application/vnd.plotly.v1+json": {
       "config": {
        "plotlyServerURL": "https://plot.ly"
       },
       "data": [
        {
         "name": "12-19",
         "type": "scatter",
         "x": [
          "2021-02-28T00:00:00",
          "2021-03-07T00:00:00",
          "2021-03-14T00:00:00",
          "2021-03-21T00:00:00",
          "2021-03-28T00:00:00",
          "2021-04-04T00:00:00",
          "2021-04-11T00:00:00",
          "2021-04-18T00:00:00",
          "2021-04-25T00:00:00",
          "2021-05-02T00:00:00",
          "2021-05-09T00:00:00",
          "2021-05-16T00:00:00",
          "2021-05-23T00:00:00",
          "2021-05-30T00:00:00",
          "2021-06-06T00:00:00",
          "2021-06-13T00:00:00",
          "2021-06-20T00:00:00",
          "2021-06-27T00:00:00",
          "2021-07-04T00:00:00",
          "2021-07-11T00:00:00",
          "2021-07-18T00:00:00",
          "2021-07-25T00:00:00",
          "2021-08-01T00:00:00",
          "2021-08-08T00:00:00",
          "2021-08-15T00:00:00",
          "2021-08-22T00:00:00",
          "2021-08-29T00:00:00",
          "2021-09-05T00:00:00",
          "2021-09-12T00:00:00",
          "2021-09-19T00:00:00",
          "2021-09-26T00:00:00",
          "2021-10-03T00:00:00",
          "2021-10-10T00:00:00",
          "2021-10-17T00:00:00",
          "2021-10-24T00:00:00",
          "2021-10-31T00:00:00",
          "2021-11-07T00:00:00",
          "2021-11-14T00:00:00",
          "2021-11-21T00:00:00",
          "2021-11-28T00:00:00",
          "2021-12-05T00:00:00",
          "2021-12-12T00:00:00",
          "2021-12-19T00:00:00",
          "2021-12-26T00:00:00",
          "2022-01-02T00:00:00",
          "2022-01-09T00:00:00",
          "2022-01-16T00:00:00",
          "2022-01-23T00:00:00"
         ],
         "xaxis": "x",
         "y": [
          0.017379679144385027,
          0.05325311942959002,
          0.17803030303030304,
          0.48083778966131907,
          0.5935828877005348,
          0.6194295900178253,
          0.8814616755793226,
          1.1579768270944741,
          1.4231283422459893,
          2.1368092691622103,
          2.6579768270944744,
          3.3139483065953654,
          4.10204991087344,
          4.919117647058823,
          6.060160427807487,
          7.336452762923352,
          10.21078431372549,
          13.469696969696969,
          17.78542780748663,
          22.42736185383244,
          27.927139037433154,
          32.87722816399287,
          37.41131907308378,
          41.82553475935829,
          46.884803921568626,
          52.300356506238856,
          57.215017825311946,
          61.55191622103387,
          64.13257575757575,
          65.84603386809269,
          67.31885026737967,
          68.7876559714795,
          69.39148841354724,
          70.14171122994652,
          70.80726381461676,
          71.38480392156863,
          71.98685383244207,
          72.56550802139037,
          73.14148841354724,
          73.7687165775401,
          74.75356506238859,
          75.50222816399287,
          76.38123885918003,
          77.32909982174688,
          78.22660427807487,
          79.23351158645276,
          80.74286987522282,
          83.00779857397504
         ],
         "yaxis": "y"
        },
        {
         "name": "20-29",
         "type": "scatter",
         "x": [
          "2021-02-28T00:00:00",
          "2021-03-07T00:00:00",
          "2021-03-14T00:00:00",
          "2021-03-21T00:00:00",
          "2021-03-28T00:00:00",
          "2021-04-04T00:00:00",
          "2021-04-11T00:00:00",
          "2021-04-18T00:00:00",
          "2021-04-25T00:00:00",
          "2021-05-02T00:00:00",
          "2021-05-09T00:00:00",
          "2021-05-16T00:00:00",
          "2021-05-23T00:00:00",
          "2021-05-30T00:00:00",
          "2021-06-06T00:00:00",
          "2021-06-13T00:00:00",
          "2021-06-20T00:00:00",
          "2021-06-27T00:00:00",
          "2021-07-04T00:00:00",
          "2021-07-11T00:00:00",
          "2021-07-18T00:00:00",
          "2021-07-25T00:00:00",
          "2021-08-01T00:00:00",
          "2021-08-08T00:00:00",
          "2021-08-15T00:00:00",
          "2021-08-22T00:00:00",
          "2021-08-29T00:00:00",
          "2021-09-05T00:00:00",
          "2021-09-12T00:00:00",
          "2021-09-19T00:00:00",
          "2021-09-26T00:00:00",
          "2021-10-03T00:00:00",
          "2021-10-10T00:00:00",
          "2021-10-17T00:00:00",
          "2021-10-24T00:00:00",
          "2021-10-31T00:00:00",
          "2021-11-07T00:00:00",
          "2021-11-14T00:00:00",
          "2021-11-21T00:00:00",
          "2021-11-28T00:00:00",
          "2021-12-05T00:00:00",
          "2021-12-12T00:00:00",
          "2021-12-19T00:00:00",
          "2021-12-26T00:00:00",
          "2022-01-02T00:00:00",
          "2022-01-09T00:00:00",
          "2022-01-16T00:00:00",
          "2022-01-23T00:00:00"
         ],
         "xaxis": "x",
         "y": [
          0.05972548534685297,
          0.2119450970693706,
          0.787931247681464,
          1.86583405465562,
          2.4235192283912452,
          2.6802275256584642,
          3.424879436132064,
          4.562755038951403,
          5.782985037714851,
          8.813033263262026,
          11.115246692222085,
          13.051935204649437,
          14.825027822431062,
          16.80623222455793,
          19.67218993446272,
          22.913194015085942,
          26.092494126375666,
          29.40756770124892,
          33.24310621985903,
          37.16347223939656,
          41.22950414245085,
          45.301595152714235,
          49.58080870532954,
          54.23939656238407,
          59.138370223816004,
          63.49474465191047,
          66.97972053913689,
          69.87770495857549,
          71.51428218127859,
          72.5720291826388,
          73.34536911091875,
          74.01904290837146,
          74.39062693211326,
          74.75825398788179,
          75.11846172870038,
          75.45319648819093,
          75.81303326326203,
          76.20366019537529,
          76.67787807592433,
          77.28415976258192,
          77.72548534685298,
          78.07604797823667,
          78.42215902065043,
          78.7293186595771,
          79.19871398540869,
          80.38988500061828,
          81.60578706566093,
          82.8131569185112
         ],
         "yaxis": "y"
        },
        {
         "name": "30-39",
         "type": "scatter",
         "x": [
          "2021-02-28T00:00:00",
          "2021-03-07T00:00:00",
          "2021-03-14T00:00:00",
          "2021-03-21T00:00:00",
          "2021-03-28T00:00:00",
          "2021-04-04T00:00:00",
          "2021-04-11T00:00:00",
          "2021-04-18T00:00:00",
          "2021-04-25T00:00:00",
          "2021-05-02T00:00:00",
          "2021-05-09T00:00:00",
          "2021-05-16T00:00:00",
          "2021-05-23T00:00:00",
          "2021-05-30T00:00:00",
          "2021-06-06T00:00:00",
          "2021-06-13T00:00:00",
          "2021-06-20T00:00:00",
          "2021-06-27T00:00:00",
          "2021-07-04T00:00:00",
          "2021-07-11T00:00:00",
          "2021-07-18T00:00:00",
          "2021-07-25T00:00:00",
          "2021-08-01T00:00:00",
          "2021-08-08T00:00:00",
          "2021-08-15T00:00:00",
          "2021-08-22T00:00:00",
          "2021-08-29T00:00:00",
          "2021-09-05T00:00:00",
          "2021-09-12T00:00:00",
          "2021-09-19T00:00:00",
          "2021-09-26T00:00:00",
          "2021-10-03T00:00:00",
          "2021-10-10T00:00:00",
          "2021-10-17T00:00:00",
          "2021-10-24T00:00:00",
          "2021-10-31T00:00:00",
          "2021-11-07T00:00:00",
          "2021-11-14T00:00:00",
          "2021-11-21T00:00:00",
          "2021-11-28T00:00:00",
          "2021-12-05T00:00:00",
          "2021-12-12T00:00:00",
          "2021-12-19T00:00:00",
          "2021-12-26T00:00:00",
          "2022-01-02T00:00:00",
          "2022-01-09T00:00:00",
          "2022-01-16T00:00:00",
          "2022-01-23T00:00:00"
         ],
         "xaxis": "x",
         "y": [
          0.11320252153067567,
          0.4267069164520998,
          1.318476427239634,
          3.9923643789398917,
          5.507768800497203,
          6.102281807688893,
          8.42173488413389,
          11.635621060108319,
          14.387552161946196,
          16.408949658172777,
          19.123945662789666,
          21.209002929947616,
          22.955429281718903,
          24.87010565568676,
          27.840894965817277,
          31.466927106454765,
          34.8011187072716,
          38.16274527212998,
          41.74740300097665,
          45.1911568853769,
          48.68534138329042,
          52.084613335700965,
          55.6596821450768,
          59.485927372813634,
          63.14889461067211,
          66.26511586611028,
          68.80422622747048,
          71.01935541152446,
          72.37521086744206,
          73.29459291485395,
          74.00550475006659,
          74.64565391103613,
          74.97789221344225,
          75.3008967415431,
          75.63420047944598,
          75.95498535026192,
          76.30329397141081,
          76.69714996004618,
          77.16540886087188,
          77.73168782739945,
          78.17712865133623,
          78.5208203853325,
          78.82739944952499,
          79.08585634378052,
          79.59992897096689,
          81.05336056112937,
          82.53493740566456,
          83.98526147562816
         ],
         "yaxis": "y"
        },
        {
         "name": "40-49",
         "type": "scatter",
         "x": [
          "2021-02-28T00:00:00",
          "2021-03-07T00:00:00",
          "2021-03-14T00:00:00",
          "2021-03-21T00:00:00",
          "2021-03-28T00:00:00",
          "2021-04-04T00:00:00",
          "2021-04-11T00:00:00",
          "2021-04-18T00:00:00",
          "2021-04-25T00:00:00",
          "2021-05-02T00:00:00",
          "2021-05-09T00:00:00",
          "2021-05-16T00:00:00",
          "2021-05-23T00:00:00",
          "2021-05-30T00:00:00",
          "2021-06-06T00:00:00",
          "2021-06-13T00:00:00",
          "2021-06-20T00:00:00",
          "2021-06-27T00:00:00",
          "2021-07-04T00:00:00",
          "2021-07-11T00:00:00",
          "2021-07-18T00:00:00",
          "2021-07-25T00:00:00",
          "2021-08-01T00:00:00",
          "2021-08-08T00:00:00",
          "2021-08-15T00:00:00",
          "2021-08-22T00:00:00",
          "2021-08-29T00:00:00",
          "2021-09-05T00:00:00",
          "2021-09-12T00:00:00",
          "2021-09-19T00:00:00",
          "2021-09-26T00:00:00",
          "2021-10-03T00:00:00",
          "2021-10-10T00:00:00",
          "2021-10-17T00:00:00",
          "2021-10-24T00:00:00",
          "2021-10-31T00:00:00",
          "2021-11-07T00:00:00",
          "2021-11-14T00:00:00",
          "2021-11-21T00:00:00",
          "2021-11-28T00:00:00",
          "2021-12-05T00:00:00",
          "2021-12-12T00:00:00",
          "2021-12-19T00:00:00",
          "2021-12-26T00:00:00",
          "2022-01-02T00:00:00",
          "2022-01-09T00:00:00",
          "2022-01-16T00:00:00",
          "2022-01-23T00:00:00"
         ],
         "xaxis": "x",
         "y": [
          0.3074835886214442,
          1.1222757111597375,
          2.6990809628008754,
          6.3277899343544854,
          8.48472647702407,
          9.383107221006565,
          12.133741794310723,
          15.83929978118162,
          18.984857768052517,
          21.297680525164115,
          24.154485776805252,
          26.38074398249453,
          28.31308533916849,
          30.571466083150984,
          34.138030634573305,
          38.59474835886214,
          42.601575492341354,
          46.584157549234135,
          50.55947483588621,
          54.30573304157549,
          58.01803063457331,
          61.51807439824945,
          65.01645514223195,
          68.56297592997812,
          71.81382932166302,
          74.50266958424508,
          76.75369803063457,
          78.79518599562363,
          80.07159737417943,
          80.93146608315098,
          81.61575492341356,
          82.23326039387308,
          82.55579868708972,
          82.84735229759299,
          83.1595623632385,
          83.46074398249453,
          83.78100656455142,
          84.12770240700219,
          84.51781181619256,
          84.98091903719913,
          85.37382932166302,
          85.67982494529541,
          85.94450765864333,
          86.1706783369803,
          86.59632385120351,
          87.94407002188184,
          89.30599562363238,
          90.62792122538293
         ],
         "yaxis": "y"
        },
        {
         "name": "50-59",
         "type": "scatter",
         "x": [
          "2021-02-28T00:00:00",
          "2021-03-07T00:00:00",
          "2021-03-14T00:00:00",
          "2021-03-21T00:00:00",
          "2021-03-28T00:00:00",
          "2021-04-04T00:00:00",
          "2021-04-11T00:00:00",
          "2021-04-18T00:00:00",
          "2021-04-25T00:00:00",
          "2021-05-02T00:00:00",
          "2021-05-09T00:00:00",
          "2021-05-16T00:00:00",
          "2021-05-23T00:00:00",
          "2021-05-30T00:00:00",
          "2021-06-06T00:00:00",
          "2021-06-13T00:00:00",
          "2021-06-20T00:00:00",
          "2021-06-27T00:00:00",
          "2021-07-04T00:00:00",
          "2021-07-11T00:00:00",
          "2021-07-18T00:00:00",
          "2021-07-25T00:00:00",
          "2021-08-01T00:00:00",
          "2021-08-08T00:00:00",
          "2021-08-15T00:00:00",
          "2021-08-22T00:00:00",
          "2021-08-29T00:00:00",
          "2021-09-05T00:00:00",
          "2021-09-12T00:00:00",
          "2021-09-19T00:00:00",
          "2021-09-26T00:00:00",
          "2021-10-03T00:00:00",
          "2021-10-10T00:00:00",
          "2021-10-17T00:00:00",
          "2021-10-24T00:00:00",
          "2021-10-31T00:00:00",
          "2021-11-07T00:00:00",
          "2021-11-14T00:00:00",
          "2021-11-21T00:00:00",
          "2021-11-28T00:00:00",
          "2021-12-05T00:00:00",
          "2021-12-12T00:00:00",
          "2021-12-19T00:00:00",
          "2021-12-26T00:00:00",
          "2022-01-02T00:00:00",
          "2022-01-09T00:00:00",
          "2022-01-16T00:00:00",
          "2022-01-23T00:00:00"
         ],
         "xaxis": "x",
         "y": [
          0.3077840231647079,
          1.1812297734627832,
          2.7150400272525976,
          6.002469766649634,
          7.991313234542667,
          8.91406915346619,
          10.955118378470448,
          13.67731221257026,
          16.032447623914155,
          17.808635666836995,
          19.76605348322262,
          21.35334695963209,
          22.84721512519162,
          24.81306421393289,
          28.084142394822006,
          32.34372338613524,
          36.18659512859819,
          40.180803951626636,
          44.18250723897121,
          48.06029637199796,
          51.82439107477431,
          55.33972066087549,
          58.90154999148356,
          62.490120933401464,
          65.74016351558508,
          68.38000340657469,
          70.6214443876682,
          72.62416964741952,
          73.94464316130131,
          74.83938000340657,
          75.5648952478283,
          76.23650144779424,
          76.60747743144269,
          76.90836314086187,
          77.27124850962358,
          77.62876852324987,
          77.98441492079714,
          78.35522057571113,
          78.77082268778743,
          79.2514903764265,
          79.71759495826946,
          80.081161641969,
          80.36475898484075,
          80.63149378300119,
          81.07264520524612,
          82.58099131323455,
          84.04539260773292,
          85.40895929143247
         ],
         "yaxis": "y"
        },
        {
         "name": "60-69",
         "type": "scatter",
         "x": [
          "2021-02-28T00:00:00",
          "2021-03-07T00:00:00",
          "2021-03-14T00:00:00",
          "2021-03-21T00:00:00",
          "2021-03-28T00:00:00",
          "2021-04-04T00:00:00",
          "2021-04-11T00:00:00",
          "2021-04-18T00:00:00",
          "2021-04-25T00:00:00",
          "2021-05-02T00:00:00",
          "2021-05-09T00:00:00",
          "2021-05-16T00:00:00",
          "2021-05-23T00:00:00",
          "2021-05-30T00:00:00",
          "2021-06-06T00:00:00",
          "2021-06-13T00:00:00",
          "2021-06-20T00:00:00",
          "2021-06-27T00:00:00",
          "2021-07-04T00:00:00",
          "2021-07-11T00:00:00",
          "2021-07-18T00:00:00",
          "2021-07-25T00:00:00",
          "2021-08-01T00:00:00",
          "2021-08-08T00:00:00",
          "2021-08-15T00:00:00",
          "2021-08-22T00:00:00",
          "2021-08-29T00:00:00",
          "2021-09-05T00:00:00",
          "2021-09-12T00:00:00",
          "2021-09-19T00:00:00",
          "2021-09-26T00:00:00",
          "2021-10-03T00:00:00",
          "2021-10-10T00:00:00",
          "2021-10-17T00:00:00",
          "2021-10-24T00:00:00",
          "2021-10-31T00:00:00",
          "2021-11-07T00:00:00",
          "2021-11-14T00:00:00",
          "2021-11-21T00:00:00",
          "2021-11-28T00:00:00",
          "2021-12-05T00:00:00",
          "2021-12-12T00:00:00",
          "2021-12-19T00:00:00",
          "2021-12-26T00:00:00",
          "2022-01-02T00:00:00",
          "2022-01-09T00:00:00",
          "2022-01-16T00:00:00",
          "2022-01-23T00:00:00"
         ],
         "xaxis": "x",
         "y": [
          0.7217764508303788,
          3.5342414629595074,
          6.542825153946632,
          9.398955028923307,
          10.701436835230453,
          11.041145736144804,
          11.809292778503453,
          13.165515954469118,
          14.339242395969396,
          15.173446538533309,
          16.049262922186976,
          16.780835976861354,
          17.4784474715432,
          18.494775144616533,
          20.462586303414817,
          23.03452136592648,
          25.465758537040493,
          28.116159731293152,
          30.710020526217576,
          33.570908751632764,
          36.39755551408845,
          39.13603284194812,
          41.91780182869938,
          45.037040492629224,
          48.56335137152454,
          51.37432356782982,
          53.61998507184176,
          55.585557006904274,
          56.993189027803695,
          57.970610188468,
          58.76674752752379,
          59.57715991789513,
          60.10776264228401,
          60.54916962119798,
          61.06866952789699,
          61.593114387012506,
          62.09927225228587,
          62.57529389811532,
          63.09656652360515,
          63.67736518007091,
          64.36107482739317,
          64.86639298376562,
          65.22718790819182,
          65.55019593207687,
          66.08285127822354,
          68.49542825153947,
          70.82440753871991,
          72.7980966598246
         ],
         "yaxis": "y"
        },
        {
         "name": "70-79",
         "type": "scatter",
         "x": [
          "2021-02-28T00:00:00",
          "2021-03-07T00:00:00",
          "2021-03-14T00:00:00",
          "2021-03-21T00:00:00",
          "2021-03-28T00:00:00",
          "2021-04-04T00:00:00",
          "2021-04-11T00:00:00",
          "2021-04-18T00:00:00",
          "2021-04-25T00:00:00",
          "2021-05-02T00:00:00",
          "2021-05-09T00:00:00",
          "2021-05-16T00:00:00",
          "2021-05-23T00:00:00",
          "2021-05-30T00:00:00",
          "2021-06-06T00:00:00",
          "2021-06-13T00:00:00",
          "2021-06-20T00:00:00",
          "2021-06-27T00:00:00",
          "2021-07-04T00:00:00",
          "2021-07-11T00:00:00",
          "2021-07-18T00:00:00",
          "2021-07-25T00:00:00",
          "2021-08-01T00:00:00",
          "2021-08-08T00:00:00",
          "2021-08-15T00:00:00",
          "2021-08-22T00:00:00",
          "2021-08-29T00:00:00",
          "2021-09-05T00:00:00",
          "2021-09-12T00:00:00",
          "2021-09-19T00:00:00",
          "2021-09-26T00:00:00",
          "2021-10-03T00:00:00",
          "2021-10-10T00:00:00",
          "2021-10-17T00:00:00",
          "2021-10-24T00:00:00",
          "2021-10-31T00:00:00",
          "2021-11-07T00:00:00",
          "2021-11-14T00:00:00",
          "2021-11-21T00:00:00",
          "2021-11-28T00:00:00",
          "2021-12-05T00:00:00",
          "2021-12-12T00:00:00",
          "2021-12-19T00:00:00",
          "2021-12-26T00:00:00",
          "2022-01-02T00:00:00",
          "2022-01-09T00:00:00",
          "2022-01-16T00:00:00",
          "2022-01-23T00:00:00"
         ],
         "xaxis": "x",
         "y": [
          0.5384478144513827,
          2.977698483496878,
          5.042640499553969,
          6.938626226583407,
          7.745762711864407,
          7.950044603033006,
          8.413559322033898,
          9.231757359500445,
          9.914005352363962,
          10.331668153434434,
          10.746833184656557,
          11.10936663693131,
          11.454594112399644,
          11.988760035682427,
          13.017127564674398,
          14.344692239072257,
          15.740053523639608,
          17.220338983050848,
          18.585013380909903,
          20.248884924174845,
          21.940410347903658,
          23.592328278322928,
          26.058697591436218,
          29.064942016057092,
          31.517395182872434,
          33.42319357716325,
          35.04656556645852,
          36.63300624442462,
          37.92488849241749,
          38.82765388046387,
          39.6328278322926,
          40.45209634255129,
          41.07029438001784,
          41.606066012488846,
          42.28064228367529,
          42.91347011596788,
          43.52024977698483,
          44.0456735057984,
          44.637109723461194,
          45.27707404103479,
          46.22390722569135,
          46.888670829616416,
          47.33309545049063,
          47.69705619982159,
          48.296342551293485,
          51.69223907225691,
          54.90686886708296,
          57.49669937555754
         ],
         "yaxis": "y"
        },
        {
         "name": "80 and above",
         "type": "scatter",
         "x": [
          "2021-02-28T00:00:00",
          "2021-03-07T00:00:00",
          "2021-03-14T00:00:00",
          "2021-03-21T00:00:00",
          "2021-03-28T00:00:00",
          "2021-04-04T00:00:00",
          "2021-04-11T00:00:00",
          "2021-04-18T00:00:00",
          "2021-04-25T00:00:00",
          "2021-05-02T00:00:00",
          "2021-05-09T00:00:00",
          "2021-05-16T00:00:00",
          "2021-05-23T00:00:00",
          "2021-05-30T00:00:00",
          "2021-06-06T00:00:00",
          "2021-06-13T00:00:00",
          "2021-06-20T00:00:00",
          "2021-06-27T00:00:00",
          "2021-07-04T00:00:00",
          "2021-07-11T00:00:00",
          "2021-07-18T00:00:00",
          "2021-07-25T00:00:00",
          "2021-08-01T00:00:00",
          "2021-08-08T00:00:00",
          "2021-08-15T00:00:00",
          "2021-08-22T00:00:00",
          "2021-08-29T00:00:00",
          "2021-09-05T00:00:00",
          "2021-09-12T00:00:00",
          "2021-09-19T00:00:00",
          "2021-09-26T00:00:00",
          "2021-10-03T00:00:00",
          "2021-10-10T00:00:00",
          "2021-10-17T00:00:00",
          "2021-10-24T00:00:00",
          "2021-10-31T00:00:00",
          "2021-11-07T00:00:00",
          "2021-11-14T00:00:00",
          "2021-11-21T00:00:00",
          "2021-11-28T00:00:00",
          "2021-12-05T00:00:00",
          "2021-12-12T00:00:00",
          "2021-12-19T00:00:00",
          "2021-12-26T00:00:00",
          "2022-01-02T00:00:00",
          "2022-01-09T00:00:00",
          "2022-01-16T00:00:00",
          "2022-01-23T00:00:00"
         ],
         "xaxis": "x",
         "y": [
          0.24440019910403185,
          1.2434046789447486,
          1.889497262319562,
          2.440766550522648,
          2.6665007466401196,
          2.717272274763564,
          2.846689895470383,
          3.07093081134893,
          3.25311100049776,
          3.3603782976605276,
          3.4708810353409656,
          3.5637132901941264,
          3.6553011448481834,
          3.787954206072673,
          4.038576406172225,
          4.356893977103036,
          4.698606271777003,
          5.07093081134893,
          5.4427575908412145,
          5.864609258337481,
          6.326032852165256,
          6.777501244400199,
          7.5933300149328025,
          8.670482827277253,
          9.664011946241912,
          10.535340965654555,
          11.391488302638129,
          12.31831757093081,
          13.067197610751618,
          13.645594823295172,
          14.14808362369338,
          14.691886510701842,
          15.109009457441513,
          15.457441513190641,
          15.956197112991537,
          16.40443006470881,
          16.797660527625684,
          17.133648581383774,
          17.52812344449975,
          17.97809855649577,
          18.772274763563964,
          19.420856147336984,
          19.82404181184669,
          20.16600298656048,
          20.622200099552018,
          23.69412643106023,
          26.708561473369837,
          29.143106022896962
         ],
         "yaxis": "y"
        },
        {
         "marker": {
          "color": "brown"
         },
         "name": "Confirmed case #",
         "type": "bar",
         "x": [
          "2021-02-22T00:00:00",
          "2021-02-23T00:00:00",
          "2021-02-24T00:00:00",
          "2021-02-25T00:00:00",
          "2021-02-26T00:00:00",
          "2021-02-27T00:00:00",
          "2021-02-28T00:00:00",
          "2021-03-01T00:00:00",
          "2021-03-02T00:00:00",
          "2021-03-03T00:00:00",
          "2021-03-04T00:00:00",
          "2021-03-05T00:00:00",
          "2021-03-06T00:00:00",
          "2021-03-07T00:00:00",
          "2021-03-08T00:00:00",
          "2021-03-09T00:00:00",
          "2021-03-10T00:00:00",
          "2021-03-11T00:00:00",
          "2021-03-12T00:00:00",
          "2021-03-13T00:00:00",
          "2021-03-14T00:00:00",
          "2021-03-15T00:00:00",
          "2021-03-16T00:00:00",
          "2021-03-17T00:00:00",
          "2021-03-18T00:00:00",
          "2021-03-19T00:00:00",
          "2021-03-20T00:00:00",
          "2021-03-21T00:00:00",
          "2021-03-22T00:00:00",
          "2021-03-23T00:00:00",
          "2021-03-24T00:00:00",
          "2021-03-25T00:00:00",
          "2021-03-26T00:00:00",
          "2021-03-27T00:00:00",
          "2021-03-28T00:00:00",
          "2021-03-29T00:00:00",
          "2021-03-30T00:00:00",
          "2021-03-31T00:00:00",
          "2021-04-01T00:00:00",
          "2021-04-02T00:00:00",
          "2021-04-03T00:00:00",
          "2021-04-04T00:00:00",
          "2021-04-05T00:00:00",
          "2021-04-06T00:00:00",
          "2021-04-07T00:00:00",
          "2021-04-08T00:00:00",
          "2021-04-09T00:00:00",
          "2021-04-10T00:00:00",
          "2021-04-11T00:00:00",
          "2021-04-12T00:00:00",
          "2021-04-13T00:00:00",
          "2021-04-14T00:00:00",
          "2021-04-15T00:00:00",
          "2021-04-16T00:00:00",
          "2021-04-17T00:00:00",
          "2021-04-18T00:00:00",
          "2021-04-19T00:00:00",
          "2021-04-20T00:00:00",
          "2021-04-21T00:00:00",
          "2021-04-22T00:00:00",
          "2021-04-23T00:00:00",
          "2021-04-24T00:00:00",
          "2021-04-25T00:00:00",
          "2021-04-26T00:00:00",
          "2021-04-27T00:00:00",
          "2021-04-28T00:00:00",
          "2021-04-29T00:00:00",
          "2021-04-30T00:00:00",
          "2021-05-01T00:00:00",
          "2021-05-02T00:00:00",
          "2021-05-03T00:00:00",
          "2021-05-04T00:00:00",
          "2021-05-05T00:00:00",
          "2021-05-06T00:00:00",
          "2021-05-07T00:00:00",
          "2021-05-08T00:00:00",
          "2021-05-09T00:00:00",
          "2021-05-10T00:00:00",
          "2021-05-11T00:00:00",
          "2021-05-12T00:00:00",
          "2021-05-13T00:00:00",
          "2021-05-14T00:00:00",
          "2021-05-15T00:00:00",
          "2021-05-16T00:00:00",
          "2021-05-17T00:00:00",
          "2021-05-18T00:00:00",
          "2021-05-19T00:00:00",
          "2021-05-20T00:00:00",
          "2021-05-21T00:00:00",
          "2021-05-22T00:00:00",
          "2021-05-23T00:00:00",
          "2021-05-24T00:00:00",
          "2021-05-25T00:00:00",
          "2021-05-26T00:00:00",
          "2021-05-29T00:00:00",
          "2021-05-31T00:00:00",
          "2021-06-01T00:00:00",
          "2021-06-02T00:00:00",
          "2021-06-03T00:00:00",
          "2021-06-04T00:00:00",
          "2021-06-05T00:00:00",
          "2021-06-06T00:00:00",
          "2021-06-07T00:00:00",
          "2021-06-08T00:00:00",
          "2021-06-09T00:00:00",
          "2021-06-10T00:00:00",
          "2021-06-12T00:00:00",
          "2021-06-14T00:00:00",
          "2021-06-15T00:00:00",
          "2021-06-16T00:00:00",
          "2021-06-18T00:00:00",
          "2021-06-19T00:00:00",
          "2021-06-20T00:00:00",
          "2021-06-21T00:00:00",
          "2021-06-22T00:00:00",
          "2021-06-23T00:00:00",
          "2021-06-24T00:00:00",
          "2021-06-25T00:00:00",
          "2021-06-26T00:00:00",
          "2021-06-27T00:00:00",
          "2021-06-28T00:00:00",
          "2021-06-29T00:00:00",
          "2021-06-30T00:00:00",
          "2021-07-01T00:00:00",
          "2021-07-02T00:00:00",
          "2021-07-03T00:00:00",
          "2021-07-04T00:00:00",
          "2021-07-05T00:00:00",
          "2021-07-06T00:00:00",
          "2021-07-07T00:00:00",
          "2021-07-08T00:00:00",
          "2021-07-09T00:00:00",
          "2021-07-10T00:00:00",
          "2021-07-11T00:00:00",
          "2021-07-13T00:00:00",
          "2021-07-14T00:00:00",
          "2021-07-16T00:00:00",
          "2021-07-18T00:00:00",
          "2021-07-20T00:00:00",
          "2021-07-21T00:00:00",
          "2021-07-22T00:00:00",
          "2021-07-23T00:00:00",
          "2021-07-24T00:00:00",
          "2021-07-25T00:00:00",
          "2021-07-27T00:00:00",
          "2021-07-28T00:00:00",
          "2021-07-29T00:00:00",
          "2021-07-30T00:00:00",
          "2021-08-01T00:00:00",
          "2021-08-02T00:00:00",
          "2021-08-03T00:00:00",
          "2021-08-04T00:00:00",
          "2021-08-05T00:00:00",
          "2021-08-06T00:00:00",
          "2021-08-07T00:00:00",
          "2021-08-08T00:00:00",
          "2021-08-09T00:00:00",
          "2021-08-10T00:00:00",
          "2021-08-11T00:00:00",
          "2021-08-12T00:00:00",
          "2021-08-13T00:00:00",
          "2021-08-14T00:00:00",
          "2021-08-15T00:00:00",
          "2021-08-16T00:00:00",
          "2021-08-17T00:00:00",
          "2021-08-18T00:00:00",
          "2021-08-19T00:00:00",
          "2021-08-20T00:00:00",
          "2021-08-21T00:00:00",
          "2021-08-22T00:00:00",
          "2021-08-23T00:00:00",
          "2021-08-24T00:00:00",
          "2021-08-25T00:00:00",
          "2021-08-26T00:00:00",
          "2021-08-27T00:00:00",
          "2021-08-28T00:00:00",
          "2021-08-29T00:00:00",
          "2021-08-30T00:00:00",
          "2021-08-31T00:00:00",
          "2021-09-01T00:00:00",
          "2021-09-03T00:00:00",
          "2021-09-04T00:00:00",
          "2021-09-05T00:00:00",
          "2021-09-06T00:00:00",
          "2021-09-07T00:00:00",
          "2021-09-08T00:00:00",
          "2021-09-09T00:00:00",
          "2021-09-10T00:00:00",
          "2021-09-11T00:00:00",
          "2021-09-12T00:00:00",
          "2021-09-13T00:00:00",
          "2021-09-14T00:00:00",
          "2021-09-15T00:00:00",
          "2021-09-17T00:00:00",
          "2021-09-18T00:00:00",
          "2021-09-19T00:00:00",
          "2021-09-20T00:00:00",
          "2021-09-21T00:00:00",
          "2021-09-22T00:00:00",
          "2021-09-23T00:00:00",
          "2021-09-24T00:00:00",
          "2021-09-25T00:00:00",
          "2021-09-26T00:00:00",
          "2021-09-27T00:00:00",
          "2021-09-28T00:00:00",
          "2021-09-29T00:00:00",
          "2021-09-30T00:00:00",
          "2021-10-01T00:00:00",
          "2021-10-02T00:00:00",
          "2021-10-04T00:00:00",
          "2021-10-05T00:00:00",
          "2021-10-06T00:00:00",
          "2021-10-07T00:00:00",
          "2021-10-08T00:00:00",
          "2021-10-09T00:00:00",
          "2021-10-11T00:00:00",
          "2021-10-12T00:00:00",
          "2021-10-13T00:00:00",
          "2021-10-14T00:00:00",
          "2021-10-15T00:00:00",
          "2021-10-16T00:00:00",
          "2021-10-17T00:00:00",
          "2021-10-18T00:00:00",
          "2021-10-19T00:00:00",
          "2021-10-20T00:00:00",
          "2021-10-21T00:00:00",
          "2021-10-22T00:00:00",
          "2021-10-23T00:00:00",
          "2021-10-24T00:00:00",
          "2021-10-25T00:00:00",
          "2021-10-26T00:00:00",
          "2021-10-27T00:00:00",
          "2021-10-28T00:00:00",
          "2021-10-29T00:00:00",
          "2021-10-30T00:00:00",
          "2021-10-31T00:00:00",
          "2021-11-01T00:00:00",
          "2021-11-02T00:00:00",
          "2021-11-03T00:00:00",
          "2021-11-04T00:00:00",
          "2021-11-05T00:00:00",
          "2021-11-06T00:00:00",
          "2021-11-07T00:00:00",
          "2021-11-09T00:00:00",
          "2021-11-10T00:00:00",
          "2021-11-11T00:00:00",
          "2021-11-12T00:00:00",
          "2021-11-13T00:00:00",
          "2021-11-14T00:00:00",
          "2021-11-15T00:00:00",
          "2021-11-16T00:00:00",
          "2021-11-17T00:00:00",
          "2021-11-18T00:00:00",
          "2021-11-19T00:00:00",
          "2021-11-20T00:00:00",
          "2021-11-21T00:00:00",
          "2021-11-22T00:00:00",
          "2021-11-23T00:00:00",
          "2021-11-24T00:00:00",
          "2021-11-25T00:00:00",
          "2021-11-26T00:00:00",
          "2021-11-27T00:00:00",
          "2021-11-28T00:00:00",
          "2021-11-29T00:00:00",
          "2021-11-30T00:00:00",
          "2021-12-01T00:00:00",
          "2021-12-02T00:00:00",
          "2021-12-03T00:00:00",
          "2021-12-04T00:00:00",
          "2021-12-05T00:00:00",
          "2021-12-06T00:00:00",
          "2021-12-07T00:00:00",
          "2021-12-09T00:00:00",
          "2021-12-10T00:00:00",
          "2021-12-11T00:00:00",
          "2021-12-12T00:00:00",
          "2021-12-13T00:00:00",
          "2021-12-14T00:00:00",
          "2021-12-15T00:00:00",
          "2021-12-16T00:00:00",
          "2021-12-17T00:00:00",
          "2021-12-18T00:00:00",
          "2021-12-19T00:00:00",
          "2021-12-20T00:00:00",
          "2021-12-21T00:00:00",
          "2021-12-22T00:00:00",
          "2021-12-23T00:00:00",
          "2021-12-24T00:00:00",
          "2021-12-25T00:00:00",
          "2021-12-26T00:00:00",
          "2021-12-27T00:00:00",
          "2021-12-28T00:00:00",
          "2021-12-29T00:00:00",
          "2021-12-30T00:00:00",
          "2021-12-31T00:00:00",
          "2022-01-01T00:00:00",
          "2022-01-02T00:00:00",
          "2022-01-03T00:00:00",
          "2022-01-04T00:00:00",
          "2022-01-05T00:00:00",
          "2022-01-06T00:00:00",
          "2022-01-07T00:00:00",
          "2022-01-08T00:00:00",
          "2022-01-09T00:00:00",
          "2022-01-10T00:00:00",
          "2022-01-11T00:00:00",
          "2022-01-12T00:00:00",
          "2022-01-13T00:00:00",
          "2022-01-14T00:00:00",
          "2022-01-15T00:00:00",
          "2022-01-16T00:00:00",
          "2022-01-17T00:00:00",
          "2022-01-18T00:00:00",
          "2022-01-19T00:00:00",
          "2022-01-20T00:00:00",
          "2022-01-21T00:00:00",
          "2022-01-22T00:00:00",
          "2022-01-23T00:00:00"
         ],
         "xaxis": "x",
         "y": [
          16,
          12,
          17,
          13,
          24,
          33,
          22,
          14,
          13,
          14,
          9,
          11,
          8,
          16,
          9,
          21,
          8,
          22,
          60,
          47,
          24,
          30,
          18,
          11,
          10,
          13,
          8,
          8,
          18,
          12,
          10,
          9,
          11,
          6,
          1,
          8,
          7,
          6,
          13,
          19,
          2,
          7,
          16,
          7,
          8,
          10,
          14,
          5,
          13,
          13,
          13,
          5,
          6,
          17,
          18,
          30,
          12,
          8,
          1,
          14,
          9,
          3,
          6,
          4,
          8,
          7,
          15,
          4,
          8,
          2,
          2,
          4,
          6,
          2,
          2,
          5,
          1,
          4,
          1,
          2,
          3,
          1,
          3,
          4,
          1,
          1,
          1,
          1,
          1,
          1,
          2,
          1,
          2,
          1,
          1,
          4,
          6,
          1,
          1,
          1,
          1,
          7,
          7,
          3,
          4,
          2,
          3,
          1,
          2,
          1,
          3,
          1,
          1,
          3,
          7,
          2,
          7,
          4,
          2,
          6,
          3,
          1,
          2,
          4,
          11,
          1,
          3,
          1,
          1,
          1,
          3,
          1,
          1,
          1,
          1,
          3,
          1,
          2,
          7,
          5,
          1,
          2,
          2,
          3,
          1,
          1,
          2,
          2,
          3,
          3,
          4,
          2,
          6,
          2,
          7,
          2,
          2,
          4,
          1,
          5,
          5,
          2,
          1,
          3,
          3,
          3,
          5,
          2,
          3,
          5,
          5,
          7,
          5,
          3,
          17,
          6,
          7,
          3,
          2,
          1,
          4,
          1,
          8,
          2,
          6,
          2,
          2,
          5,
          4,
          3,
          1,
          2,
          1,
          3,
          5,
          3,
          5,
          1,
          1,
          2,
          7,
          9,
          8,
          3,
          13,
          5,
          3,
          4,
          5,
          4,
          7,
          6,
          8,
          2,
          8,
          7,
          4,
          3,
          1,
          9,
          6,
          3,
          5,
          2,
          4,
          6,
          2,
          6,
          4,
          4,
          3,
          5,
          2,
          5,
          3,
          1,
          1,
          2,
          3,
          7,
          1,
          7,
          1,
          1,
          5,
          3,
          1,
          2,
          1,
          6,
          1,
          3,
          4,
          1,
          3,
          2,
          3,
          6,
          1,
          6,
          4,
          3,
          3,
          3,
          6,
          3,
          6,
          3,
          4,
          9,
          5,
          5,
          7,
          4,
          1,
          5,
          2,
          5,
          1,
          10,
          7,
          5,
          8,
          7,
          8,
          7,
          2,
          5,
          25,
          9,
          9,
          6,
          14,
          12,
          19,
          17,
          26,
          29,
          39,
          38,
          33,
          33,
          37,
          33,
          24,
          21,
          22,
          14,
          9,
          5,
          11,
          7,
          18,
          16,
          14,
          24,
          26,
          140
         ],
         "yaxis": "y2"
        }
       ],
       "layout": {
        "height": 480,
        "legend": {
         "font": {
          "size": 10
         },
         "title": {
          "text": "Age"
         }
        },
        "template": {
         "data": {
          "bar": [
           {
            "error_x": {
             "color": "#2a3f5f"
            },
            "error_y": {
             "color": "#2a3f5f"
            },
            "marker": {
             "line": {
              "color": "#E5ECF6",
              "width": 0.5
             },
             "pattern": {
              "fillmode": "overlay",
              "size": 10,
              "solidity": 0.2
             }
            },
            "type": "bar"
           }
          ],
          "barpolar": [
           {
            "marker": {
             "line": {
              "color": "#E5ECF6",
              "width": 0.5
             },
             "pattern": {
              "fillmode": "overlay",
              "size": 10,
              "solidity": 0.2
             }
            },
            "type": "barpolar"
           }
          ],
          "carpet": [
           {
            "aaxis": {
             "endlinecolor": "#2a3f5f",
             "gridcolor": "white",
             "linecolor": "white",
             "minorgridcolor": "white",
             "startlinecolor": "#2a3f5f"
            },
            "baxis": {
             "endlinecolor": "#2a3f5f",
             "gridcolor": "white",
             "linecolor": "white",
             "minorgridcolor": "white",
             "startlinecolor": "#2a3f5f"
            },
            "type": "carpet"
           }
          ],
          "choropleth": [
           {
            "colorbar": {
             "outlinewidth": 0,
             "ticks": ""
            },
            "type": "choropleth"
           }
          ],
          "contour": [
           {
            "colorbar": {
             "outlinewidth": 0,
             "ticks": ""
            },
            "colorscale": [
             [
              0,
              "#0d0887"
             ],
             [
              0.1111111111111111,
              "#46039f"
             ],
             [
              0.2222222222222222,
              "#7201a8"
             ],
             [
              0.3333333333333333,
              "#9c179e"
             ],
             [
              0.4444444444444444,
              "#bd3786"
             ],
             [
              0.5555555555555556,
              "#d8576b"
             ],
             [
              0.6666666666666666,
              "#ed7953"
             ],
             [
              0.7777777777777778,
              "#fb9f3a"
             ],
             [
              0.8888888888888888,
              "#fdca26"
             ],
             [
              1,
              "#f0f921"
             ]
            ],
            "type": "contour"
           }
          ],
          "contourcarpet": [
           {
            "colorbar": {
             "outlinewidth": 0,
             "ticks": ""
            },
            "type": "contourcarpet"
           }
          ],
          "heatmap": [
           {
            "colorbar": {
             "outlinewidth": 0,
             "ticks": ""
            },
            "colorscale": [
             [
              0,
              "#0d0887"
             ],
             [
              0.1111111111111111,
              "#46039f"
             ],
             [
              0.2222222222222222,
              "#7201a8"
             ],
             [
              0.3333333333333333,
              "#9c179e"
             ],
             [
              0.4444444444444444,
              "#bd3786"
             ],
             [
              0.5555555555555556,
              "#d8576b"
             ],
             [
              0.6666666666666666,
              "#ed7953"
             ],
             [
              0.7777777777777778,
              "#fb9f3a"
             ],
             [
              0.8888888888888888,
              "#fdca26"
             ],
             [
              1,
              "#f0f921"
             ]
            ],
            "type": "heatmap"
           }
          ],
          "heatmapgl": [
           {
            "colorbar": {
             "outlinewidth": 0,
             "ticks": ""
            },
            "colorscale": [
             [
              0,
              "#0d0887"
             ],
             [
              0.1111111111111111,
              "#46039f"
             ],
             [
              0.2222222222222222,
              "#7201a8"
             ],
             [
              0.3333333333333333,
              "#9c179e"
             ],
             [
              0.4444444444444444,
              "#bd3786"
             ],
             [
              0.5555555555555556,
              "#d8576b"
             ],
             [
              0.6666666666666666,
              "#ed7953"
             ],
             [
              0.7777777777777778,
              "#fb9f3a"
             ],
             [
              0.8888888888888888,
              "#fdca26"
             ],
             [
              1,
              "#f0f921"
             ]
            ],
            "type": "heatmapgl"
           }
          ],
          "histogram": [
           {
            "marker": {
             "pattern": {
              "fillmode": "overlay",
              "size": 10,
              "solidity": 0.2
             }
            },
            "type": "histogram"
           }
          ],
          "histogram2d": [
           {
            "colorbar": {
             "outlinewidth": 0,
             "ticks": ""
            },
            "colorscale": [
             [
              0,
              "#0d0887"
             ],
             [
              0.1111111111111111,
              "#46039f"
             ],
             [
              0.2222222222222222,
              "#7201a8"
             ],
             [
              0.3333333333333333,
              "#9c179e"
             ],
             [
              0.4444444444444444,
              "#bd3786"
             ],
             [
              0.5555555555555556,
              "#d8576b"
             ],
             [
              0.6666666666666666,
              "#ed7953"
             ],
             [
              0.7777777777777778,
              "#fb9f3a"
             ],
             [
              0.8888888888888888,
              "#fdca26"
             ],
             [
              1,
              "#f0f921"
             ]
            ],
            "type": "histogram2d"
           }
          ],
          "histogram2dcontour": [
           {
            "colorbar": {
             "outlinewidth": 0,
             "ticks": ""
            },
            "colorscale": [
             [
              0,
              "#0d0887"
             ],
             [
              0.1111111111111111,
              "#46039f"
             ],
             [
              0.2222222222222222,
              "#7201a8"
             ],
             [
              0.3333333333333333,
              "#9c179e"
             ],
             [
              0.4444444444444444,
              "#bd3786"
             ],
             [
              0.5555555555555556,
              "#d8576b"
             ],
             [
              0.6666666666666666,
              "#ed7953"
             ],
             [
              0.7777777777777778,
              "#fb9f3a"
             ],
             [
              0.8888888888888888,
              "#fdca26"
             ],
             [
              1,
              "#f0f921"
             ]
            ],
            "type": "histogram2dcontour"
           }
          ],
          "mesh3d": [
           {
            "colorbar": {
             "outlinewidth": 0,
             "ticks": ""
            },
            "type": "mesh3d"
           }
          ],
          "parcoords": [
           {
            "line": {
             "colorbar": {
              "outlinewidth": 0,
              "ticks": ""
             }
            },
            "type": "parcoords"
           }
          ],
          "pie": [
           {
            "automargin": true,
            "type": "pie"
           }
          ],
          "scatter": [
           {
            "marker": {
             "colorbar": {
              "outlinewidth": 0,
              "ticks": ""
             }
            },
            "type": "scatter"
           }
          ],
          "scatter3d": [
           {
            "line": {
             "colorbar": {
              "outlinewidth": 0,
              "ticks": ""
             }
            },
            "marker": {
             "colorbar": {
              "outlinewidth": 0,
              "ticks": ""
             }
            },
            "type": "scatter3d"
           }
          ],
          "scattercarpet": [
           {
            "marker": {
             "colorbar": {
              "outlinewidth": 0,
              "ticks": ""
             }
            },
            "type": "scattercarpet"
           }
          ],
          "scattergeo": [
           {
            "marker": {
             "colorbar": {
              "outlinewidth": 0,
              "ticks": ""
             }
            },
            "type": "scattergeo"
           }
          ],
          "scattergl": [
           {
            "marker": {
             "colorbar": {
              "outlinewidth": 0,
              "ticks": ""
             }
            },
            "type": "scattergl"
           }
          ],
          "scattermapbox": [
           {
            "marker": {
             "colorbar": {
              "outlinewidth": 0,
              "ticks": ""
             }
            },
            "type": "scattermapbox"
           }
          ],
          "scatterpolar": [
           {
            "marker": {
             "colorbar": {
              "outlinewidth": 0,
              "ticks": ""
             }
            },
            "type": "scatterpolar"
           }
          ],
          "scatterpolargl": [
           {
            "marker": {
             "colorbar": {
              "outlinewidth": 0,
              "ticks": ""
             }
            },
            "type": "scatterpolargl"
           }
          ],
          "scatterternary": [
           {
            "marker": {
             "colorbar": {
              "outlinewidth": 0,
              "ticks": ""
             }
            },
            "type": "scatterternary"
           }
          ],
          "surface": [
           {
            "colorbar": {
             "outlinewidth": 0,
             "ticks": ""
            },
            "colorscale": [
             [
              0,
              "#0d0887"
             ],
             [
              0.1111111111111111,
              "#46039f"
             ],
             [
              0.2222222222222222,
              "#7201a8"
             ],
             [
              0.3333333333333333,
              "#9c179e"
             ],
             [
              0.4444444444444444,
              "#bd3786"
             ],
             [
              0.5555555555555556,
              "#d8576b"
             ],
             [
              0.6666666666666666,
              "#ed7953"
             ],
             [
              0.7777777777777778,
              "#fb9f3a"
             ],
             [
              0.8888888888888888,
              "#fdca26"
             ],
             [
              1,
              "#f0f921"
             ]
            ],
            "type": "surface"
           }
          ],
          "table": [
           {
            "cells": {
             "fill": {
              "color": "#EBF0F8"
             },
             "line": {
              "color": "white"
             }
            },
            "header": {
             "fill": {
              "color": "#C8D4E3"
             },
             "line": {
              "color": "white"
             }
            },
            "type": "table"
           }
          ]
         },
         "layout": {
          "annotationdefaults": {
           "arrowcolor": "#2a3f5f",
           "arrowhead": 0,
           "arrowwidth": 1
          },
          "autotypenumbers": "strict",
          "coloraxis": {
           "colorbar": {
            "outlinewidth": 0,
            "ticks": ""
           }
          },
          "colorscale": {
           "diverging": [
            [
             0,
             "#8e0152"
            ],
            [
             0.1,
             "#c51b7d"
            ],
            [
             0.2,
             "#de77ae"
            ],
            [
             0.3,
             "#f1b6da"
            ],
            [
             0.4,
             "#fde0ef"
            ],
            [
             0.5,
             "#f7f7f7"
            ],
            [
             0.6,
             "#e6f5d0"
            ],
            [
             0.7,
             "#b8e186"
            ],
            [
             0.8,
             "#7fbc41"
            ],
            [
             0.9,
             "#4d9221"
            ],
            [
             1,
             "#276419"
            ]
           ],
           "sequential": [
            [
             0,
             "#0d0887"
            ],
            [
             0.1111111111111111,
             "#46039f"
            ],
            [
             0.2222222222222222,
             "#7201a8"
            ],
            [
             0.3333333333333333,
             "#9c179e"
            ],
            [
             0.4444444444444444,
             "#bd3786"
            ],
            [
             0.5555555555555556,
             "#d8576b"
            ],
            [
             0.6666666666666666,
             "#ed7953"
            ],
            [
             0.7777777777777778,
             "#fb9f3a"
            ],
            [
             0.8888888888888888,
             "#fdca26"
            ],
            [
             1,
             "#f0f921"
            ]
           ],
           "sequentialminus": [
            [
             0,
             "#0d0887"
            ],
            [
             0.1111111111111111,
             "#46039f"
            ],
            [
             0.2222222222222222,
             "#7201a8"
            ],
            [
             0.3333333333333333,
             "#9c179e"
            ],
            [
             0.4444444444444444,
             "#bd3786"
            ],
            [
             0.5555555555555556,
             "#d8576b"
            ],
            [
             0.6666666666666666,
             "#ed7953"
            ],
            [
             0.7777777777777778,
             "#fb9f3a"
            ],
            [
             0.8888888888888888,
             "#fdca26"
            ],
            [
             1,
             "#f0f921"
            ]
           ]
          },
          "colorway": [
           "#636efa",
           "#EF553B",
           "#00cc96",
           "#ab63fa",
           "#FFA15A",
           "#19d3f3",
           "#FF6692",
           "#B6E880",
           "#FF97FF",
           "#FECB52"
          ],
          "font": {
           "color": "#2a3f5f"
          },
          "geo": {
           "bgcolor": "white",
           "lakecolor": "white",
           "landcolor": "#E5ECF6",
           "showlakes": true,
           "showland": true,
           "subunitcolor": "white"
          },
          "hoverlabel": {
           "align": "left"
          },
          "hovermode": "closest",
          "mapbox": {
           "style": "light"
          },
          "paper_bgcolor": "white",
          "plot_bgcolor": "#E5ECF6",
          "polar": {
           "angularaxis": {
            "gridcolor": "white",
            "linecolor": "white",
            "ticks": ""
           },
           "bgcolor": "#E5ECF6",
           "radialaxis": {
            "gridcolor": "white",
            "linecolor": "white",
            "ticks": ""
           }
          },
          "scene": {
           "xaxis": {
            "backgroundcolor": "#E5ECF6",
            "gridcolor": "white",
            "gridwidth": 2,
            "linecolor": "white",
            "showbackground": true,
            "ticks": "",
            "zerolinecolor": "white"
           },
           "yaxis": {
            "backgroundcolor": "#E5ECF6",
            "gridcolor": "white",
            "gridwidth": 2,
            "linecolor": "white",
            "showbackground": true,
            "ticks": "",
            "zerolinecolor": "white"
           },
           "zaxis": {
            "backgroundcolor": "#E5ECF6",
            "gridcolor": "white",
            "gridwidth": 2,
            "linecolor": "white",
            "showbackground": true,
            "ticks": "",
            "zerolinecolor": "white"
           }
          },
          "shapedefaults": {
           "line": {
            "color": "#2a3f5f"
           }
          },
          "ternary": {
           "aaxis": {
            "gridcolor": "white",
            "linecolor": "white",
            "ticks": ""
           },
           "baxis": {
            "gridcolor": "white",
            "linecolor": "white",
            "ticks": ""
           },
           "bgcolor": "#E5ECF6",
           "caxis": {
            "gridcolor": "white",
            "linecolor": "white",
            "ticks": ""
           }
          },
          "title": {
           "x": 0.05
          },
          "xaxis": {
           "automargin": true,
           "gridcolor": "white",
           "linecolor": "white",
           "ticks": "",
           "title": {
            "standoff": 15
           },
           "zerolinecolor": "white",
           "zerolinewidth": 2
          },
          "yaxis": {
           "automargin": true,
           "gridcolor": "white",
           "linecolor": "white",
           "ticks": "",
           "title": {
            "standoff": 15
           },
           "zerolinecolor": "white",
           "zerolinewidth": 2
          }
         }
        },
        "title": {
         "text": "<span style=\"font-size: 14px;\">Vaccination Rate of COVID-19 Vaccine in Hong Kong by Age Group</span>"
        },
        "width": 800,
        "xaxis": {
         "anchor": "y",
         "domain": [
          0,
          0.94
         ],
         "dtick": "M1",
         "showgrid": false,
         "tickfont": {
          "size": 10
         },
         "title": {
          "font": {
           "size": 10
          },
          "text": "Time"
         }
        },
        "yaxis": {
         "anchor": "x",
         "domain": [
          0,
          1
         ],
         "range": [
          -20,
          100
         ],
         "showgrid": true,
         "tickfont": {
          "size": 10
         },
         "title": {
          "font": {
           "size": 10
          },
          "text": "%"
         }
        },
        "yaxis2": {
         "anchor": "x",
         "overlaying": "y",
         "range": [
          0,
          150
         ],
         "showgrid": false,
         "side": "right",
         "tickfont": {
          "size": 10
         },
         "title": {
          "font": {
           "size": 10
          },
          "text": "#"
         }
        }
       }
      }
     },
     "metadata": {},
     "output_type": "display_data"
    }
   ],
   "source": [
    "fig = make_subplots(specs=[[{\"secondary_y\": True}]], rows=1, cols=1)\n",
    "for i in range(1, len(df.columns)):\n",
    "    fig.add_trace(go.Scatter(x=df[\"time\"], y=df[df.columns[i]], name=df.columns[i]), row=1, col=1)\n",
    "fig.add_bar(x=df2.index, y=df2[\"#\"], secondary_y=True, name=\"Confirmed case #\", marker={\"color\":\"brown\"})\n",
    "fig.update_layout(title_text='<span style=\"font-size: 14px;\">Vaccination Rate of COVID-19 Vaccine in Hong Kong by Age Group</span>',\n",
    "                  xaxis_title=\"Time\",\n",
    "                  legend_title=\"Age\",\n",
    "                  xaxis=dict(\n",
    "                      dtick = \"M1\",\n",
    "                      showgrid = False,\n",
    "                  ),\n",
    "                  xaxis_titlefont_size=10,\n",
    "                  xaxis_tickfont_size=10,\n",
    "                  yaxis_titlefont_size=10,\n",
    "                  yaxis_tickfont_size=10,\n",
    "                  legend_font_size=10,\n",
    "                  width=800, height=480)\n",
    "fig.update_yaxes(title_text=\"%\", showgrid=True, range=[-20, 100], secondary_y=False)\n",
    "fig.update_yaxes(title_text=\"#\", showgrid=False, range=[0, 150], secondary_y=True,\n",
    "                 titlefont_size=10,\n",
    "                 tickfont_size=10)\n",
    "fig.show()"
   ]
  },
  {
   "cell_type": "code",
   "execution_count": 159,
   "metadata": {},
   "outputs": [],
   "source": [
    "fig.write_image(\"images/vr_age.jpg\", width=800, height=480)"
   ]
  },
  {
   "cell_type": "markdown",
   "metadata": {},
   "source": [
    "### Gradient of vaccination rate across age groups"
   ]
  },
  {
   "cell_type": "code",
   "execution_count": 108,
   "metadata": {},
   "outputs": [
    {
     "data": {
      "application/vnd.plotly.v1+json": {
       "config": {
        "plotlyServerURL": "https://plot.ly"
       },
       "data": [
        {
         "name": "12-19",
         "type": "scatter",
         "x": [
          "2021-02-28T00:00:00",
          "2021-03-07T00:00:00",
          "2021-03-14T00:00:00",
          "2021-03-21T00:00:00",
          "2021-03-28T00:00:00",
          "2021-04-04T00:00:00",
          "2021-04-11T00:00:00",
          "2021-04-18T00:00:00",
          "2021-04-25T00:00:00",
          "2021-05-02T00:00:00",
          "2021-05-09T00:00:00",
          "2021-05-16T00:00:00",
          "2021-05-23T00:00:00",
          "2021-05-30T00:00:00",
          "2021-06-06T00:00:00",
          "2021-06-13T00:00:00",
          "2021-06-20T00:00:00",
          "2021-06-27T00:00:00",
          "2021-07-04T00:00:00",
          "2021-07-11T00:00:00",
          "2021-07-18T00:00:00",
          "2021-07-25T00:00:00",
          "2021-08-01T00:00:00",
          "2021-08-08T00:00:00",
          "2021-08-15T00:00:00",
          "2021-08-22T00:00:00",
          "2021-08-29T00:00:00",
          "2021-09-05T00:00:00",
          "2021-09-12T00:00:00",
          "2021-09-19T00:00:00",
          "2021-09-26T00:00:00",
          "2021-10-03T00:00:00",
          "2021-10-10T00:00:00",
          "2021-10-17T00:00:00",
          "2021-10-24T00:00:00",
          "2021-10-31T00:00:00",
          "2021-11-07T00:00:00",
          "2021-11-14T00:00:00",
          "2021-11-21T00:00:00",
          "2021-11-28T00:00:00",
          "2021-12-05T00:00:00",
          "2021-12-12T00:00:00",
          "2021-12-19T00:00:00",
          "2021-12-26T00:00:00",
          "2022-01-02T00:00:00",
          "2022-01-09T00:00:00",
          "2022-01-16T00:00:00",
          "2022-01-23T00:00:00"
         ],
         "xaxis": "x",
         "y": [
          0,
          0.03587344028520499,
          0.12477718360071302,
          0.30280748663101603,
          0.11274509803921573,
          0.02584670231729047,
          0.2620320855614974,
          0.2765151515151515,
          0.26515151515151514,
          0.713680926916221,
          0.5211675579322641,
          0.6559714795008911,
          0.7881016042780744,
          0.8170677361853835,
          1.1410427807486636,
          1.2762923351158646,
          2.8743315508021388,
          3.2589126559714785,
          4.315730837789662,
          4.64193404634581,
          5.499777183600713,
          4.950089126559714,
          4.534090909090914,
          4.41421568627451,
          5.0592691622103345,
          5.41555258467023,
          4.91466131907309,
          4.336898395721924,
          2.58065953654188,
          1.7134581105169389,
          1.4728163992869838,
          1.4688057040998217,
          0.6038324420677412,
          0.7502228163992868,
          0.6655525846702375,
          0.5775401069518722,
          0.6020499108734327,
          0.5786541889483061,
          0.5759803921568647,
          0.6272281639928678,
          0.9848484848484844,
          0.7486631016042793,
          0.8790106951871621,
          0.9478609625668497,
          0.8975044563279937,
          1.0069073083778903,
          1.5093582887700592,
          2.2649286987522146
         ],
         "yaxis": "y"
        },
        {
         "name": "20-29",
         "type": "scatter",
         "x": [
          "2021-02-28T00:00:00",
          "2021-03-07T00:00:00",
          "2021-03-14T00:00:00",
          "2021-03-21T00:00:00",
          "2021-03-28T00:00:00",
          "2021-04-04T00:00:00",
          "2021-04-11T00:00:00",
          "2021-04-18T00:00:00",
          "2021-04-25T00:00:00",
          "2021-05-02T00:00:00",
          "2021-05-09T00:00:00",
          "2021-05-16T00:00:00",
          "2021-05-23T00:00:00",
          "2021-05-30T00:00:00",
          "2021-06-06T00:00:00",
          "2021-06-13T00:00:00",
          "2021-06-20T00:00:00",
          "2021-06-27T00:00:00",
          "2021-07-04T00:00:00",
          "2021-07-11T00:00:00",
          "2021-07-18T00:00:00",
          "2021-07-25T00:00:00",
          "2021-08-01T00:00:00",
          "2021-08-08T00:00:00",
          "2021-08-15T00:00:00",
          "2021-08-22T00:00:00",
          "2021-08-29T00:00:00",
          "2021-09-05T00:00:00",
          "2021-09-12T00:00:00",
          "2021-09-19T00:00:00",
          "2021-09-26T00:00:00",
          "2021-10-03T00:00:00",
          "2021-10-10T00:00:00",
          "2021-10-17T00:00:00",
          "2021-10-24T00:00:00",
          "2021-10-31T00:00:00",
          "2021-11-07T00:00:00",
          "2021-11-14T00:00:00",
          "2021-11-21T00:00:00",
          "2021-11-28T00:00:00",
          "2021-12-05T00:00:00",
          "2021-12-12T00:00:00",
          "2021-12-19T00:00:00",
          "2021-12-26T00:00:00",
          "2022-01-02T00:00:00",
          "2022-01-09T00:00:00",
          "2022-01-16T00:00:00",
          "2022-01-23T00:00:00"
         ],
         "xaxis": "x",
         "y": [
          0,
          0.15221961172251763,
          0.5759861506120935,
          1.0779028069741559,
          0.5576851737356252,
          0.256708297267219,
          0.7446519104735998,
          1.137875602819339,
          1.2202299987634477,
          3.0300482255471755,
          2.3022134289600586,
          1.9366885124273523,
          1.773092617781625,
          1.9812044021268687,
          2.8659577099047873,
          3.241004080623224,
          3.1793001112897237,
          3.315073574873253,
          3.835538518610111,
          3.920366019537532,
          4.066031903054288,
          4.072091010263385,
          4.279213552615303,
          4.658587857054535,
          4.898973661431931,
          4.356374428094469,
          3.484975887226419,
          2.8979844194386004,
          1.636577222703096,
          1.0577470013602124,
          0.7733399282799525,
          0.6736737974527074,
          0.37158402374180355,
          0.36762705576852284,
          0.36020774081859486,
          0.3347347594905443,
          0.359836775071102,
          0.39062693211326405,
          0.474217880549034,
          0.6062816866575957,
          0.4413255842710555,
          0.3505626313836956,
          0.346111042413753,
          0.3071596389266773,
          0.4693953258315844,
          1.1911710152095907,
          1.2159020650426555,
          1.2073698528502632
         ],
         "yaxis": "y"
        },
        {
         "name": "30-39",
         "type": "scatter",
         "x": [
          "2021-02-28T00:00:00",
          "2021-03-07T00:00:00",
          "2021-03-14T00:00:00",
          "2021-03-21T00:00:00",
          "2021-03-28T00:00:00",
          "2021-04-04T00:00:00",
          "2021-04-11T00:00:00",
          "2021-04-18T00:00:00",
          "2021-04-25T00:00:00",
          "2021-05-02T00:00:00",
          "2021-05-09T00:00:00",
          "2021-05-16T00:00:00",
          "2021-05-23T00:00:00",
          "2021-05-30T00:00:00",
          "2021-06-06T00:00:00",
          "2021-06-13T00:00:00",
          "2021-06-20T00:00:00",
          "2021-06-27T00:00:00",
          "2021-07-04T00:00:00",
          "2021-07-11T00:00:00",
          "2021-07-18T00:00:00",
          "2021-07-25T00:00:00",
          "2021-08-01T00:00:00",
          "2021-08-08T00:00:00",
          "2021-08-15T00:00:00",
          "2021-08-22T00:00:00",
          "2021-08-29T00:00:00",
          "2021-09-05T00:00:00",
          "2021-09-12T00:00:00",
          "2021-09-19T00:00:00",
          "2021-09-26T00:00:00",
          "2021-10-03T00:00:00",
          "2021-10-10T00:00:00",
          "2021-10-17T00:00:00",
          "2021-10-24T00:00:00",
          "2021-10-31T00:00:00",
          "2021-11-07T00:00:00",
          "2021-11-14T00:00:00",
          "2021-11-21T00:00:00",
          "2021-11-28T00:00:00",
          "2021-12-05T00:00:00",
          "2021-12-12T00:00:00",
          "2021-12-19T00:00:00",
          "2021-12-26T00:00:00",
          "2022-01-02T00:00:00",
          "2022-01-09T00:00:00",
          "2022-01-16T00:00:00",
          "2022-01-23T00:00:00"
         ],
         "xaxis": "x",
         "y": [
          0,
          0.3135043949214241,
          0.8917695107875343,
          2.673887951700258,
          1.5154044215573115,
          0.59451300719169,
          2.319453076444997,
          3.2138861759744284,
          2.7519311018378776,
          2.02139749622658,
          2.7149960046168893,
          2.08505726715795,
          1.7464263517712872,
          1.9146763739678576,
          2.9707893101305167,
          3.626032140637488,
          3.3341916008168333,
          3.3616265648583834,
          3.584657728846665,
          3.4437538844002518,
          3.4941844979135226,
          3.399271952410544,
          3.5750688093758356,
          3.826245227736834,
          3.6629672378584743,
          3.1162212554381696,
          2.5391103613602013,
          2.2151291840539784,
          1.355855455917606,
          0.9193820474118866,
          0.7109118352126416,
          0.6401491609695427,
          0.3322383024061111,
          0.3230045281008529,
          0.3333037379028809,
          0.32078487081594176,
          0.34830862114888816,
          0.39385598863536586,
          0.46825890082570254,
          0.5662789665275767,
          0.445440823936778,
          0.3436917339962662,
          0.3065790641924906,
          0.25845689425553076,
          0.5140726271863656,
          1.4534315901624808,
          1.4815768445351978,
          1.4503240699635995
         ],
         "yaxis": "y"
        },
        {
         "name": "40-49",
         "type": "scatter",
         "x": [
          "2021-02-28T00:00:00",
          "2021-03-07T00:00:00",
          "2021-03-14T00:00:00",
          "2021-03-21T00:00:00",
          "2021-03-28T00:00:00",
          "2021-04-04T00:00:00",
          "2021-04-11T00:00:00",
          "2021-04-18T00:00:00",
          "2021-04-25T00:00:00",
          "2021-05-02T00:00:00",
          "2021-05-09T00:00:00",
          "2021-05-16T00:00:00",
          "2021-05-23T00:00:00",
          "2021-05-30T00:00:00",
          "2021-06-06T00:00:00",
          "2021-06-13T00:00:00",
          "2021-06-20T00:00:00",
          "2021-06-27T00:00:00",
          "2021-07-04T00:00:00",
          "2021-07-11T00:00:00",
          "2021-07-18T00:00:00",
          "2021-07-25T00:00:00",
          "2021-08-01T00:00:00",
          "2021-08-08T00:00:00",
          "2021-08-15T00:00:00",
          "2021-08-22T00:00:00",
          "2021-08-29T00:00:00",
          "2021-09-05T00:00:00",
          "2021-09-12T00:00:00",
          "2021-09-19T00:00:00",
          "2021-09-26T00:00:00",
          "2021-10-03T00:00:00",
          "2021-10-10T00:00:00",
          "2021-10-17T00:00:00",
          "2021-10-24T00:00:00",
          "2021-10-31T00:00:00",
          "2021-11-07T00:00:00",
          "2021-11-14T00:00:00",
          "2021-11-21T00:00:00",
          "2021-11-28T00:00:00",
          "2021-12-05T00:00:00",
          "2021-12-12T00:00:00",
          "2021-12-19T00:00:00",
          "2021-12-26T00:00:00",
          "2022-01-02T00:00:00",
          "2022-01-09T00:00:00",
          "2022-01-16T00:00:00",
          "2022-01-23T00:00:00"
         ],
         "xaxis": "x",
         "y": [
          0,
          0.8147921225382933,
          1.576805251641138,
          3.62870897155361,
          2.156936542669585,
          0.8983807439824947,
          2.7506345733041577,
          3.7055579868708968,
          3.145557986870898,
          2.312822757111597,
          2.8568052516411377,
          2.226258205689277,
          1.9323413566739625,
          2.2583807439824923,
          3.5665645514223208,
          4.456717724288836,
          4.006827133479213,
          3.982582056892781,
          3.9753172866520785,
          3.74625820568928,
          3.712297592997814,
          3.500043763676146,
          3.4983807439824943,
          3.546520787746175,
          3.250853391684899,
          2.6888402625820618,
          2.2510284463894834,
          2.0414879649890594,
          1.2764113785558067,
          0.8598687089715469,
          0.6842888402625817,
          0.6175054704595198,
          0.3225382932166383,
          0.29155361050327144,
          0.312210065645516,
          0.3011816192560275,
          0.32026258205688407,
          0.3466958424507709,
          0.39010940919037296,
          0.46310722100656676,
          0.39291028446389475,
          0.3059956236323842,
          0.2646827133479235,
          0.22617067833697035,
          0.4256455142232056,
          1.3477461706783345,
          1.3619256017505421,
          1.32192560175055
         ],
         "yaxis": "y"
        },
        {
         "name": "50-59",
         "type": "scatter",
         "x": [
          "2021-02-28T00:00:00",
          "2021-03-07T00:00:00",
          "2021-03-14T00:00:00",
          "2021-03-21T00:00:00",
          "2021-03-28T00:00:00",
          "2021-04-04T00:00:00",
          "2021-04-11T00:00:00",
          "2021-04-18T00:00:00",
          "2021-04-25T00:00:00",
          "2021-05-02T00:00:00",
          "2021-05-09T00:00:00",
          "2021-05-16T00:00:00",
          "2021-05-23T00:00:00",
          "2021-05-30T00:00:00",
          "2021-06-06T00:00:00",
          "2021-06-13T00:00:00",
          "2021-06-20T00:00:00",
          "2021-06-27T00:00:00",
          "2021-07-04T00:00:00",
          "2021-07-11T00:00:00",
          "2021-07-18T00:00:00",
          "2021-07-25T00:00:00",
          "2021-08-01T00:00:00",
          "2021-08-08T00:00:00",
          "2021-08-15T00:00:00",
          "2021-08-22T00:00:00",
          "2021-08-29T00:00:00",
          "2021-09-05T00:00:00",
          "2021-09-12T00:00:00",
          "2021-09-19T00:00:00",
          "2021-09-26T00:00:00",
          "2021-10-03T00:00:00",
          "2021-10-10T00:00:00",
          "2021-10-17T00:00:00",
          "2021-10-24T00:00:00",
          "2021-10-31T00:00:00",
          "2021-11-07T00:00:00",
          "2021-11-14T00:00:00",
          "2021-11-21T00:00:00",
          "2021-11-28T00:00:00",
          "2021-12-05T00:00:00",
          "2021-12-12T00:00:00",
          "2021-12-19T00:00:00",
          "2021-12-26T00:00:00",
          "2022-01-02T00:00:00",
          "2022-01-09T00:00:00",
          "2022-01-16T00:00:00",
          "2022-01-23T00:00:00"
         ],
         "xaxis": "x",
         "y": [
          0,
          0.8734457502980754,
          1.5338102537898144,
          3.2874297393970364,
          1.988843467893033,
          0.9227559189235235,
          2.041049225004258,
          2.722193834099812,
          2.3551354113438947,
          1.7761880429228398,
          1.9574178163856253,
          1.5872934764094708,
          1.4938681655595296,
          1.965849088741269,
          3.2710781808891163,
          4.259580991313232,
          3.842871742462954,
          3.994208823028444,
          4.001703287344576,
          3.877789133026745,
          3.7640947027763545,
          3.5153295861011813,
          3.56182933060807,
          3.588570941917901,
          3.2500425821836174,
          2.639839890989606,
          2.2414409810935183,
          2.0027252597513154,
          1.3204735138817938,
          0.8947368421052602,
          0.7255152444217288,
          0.671606199965936,
          0.3709759836484494,
          0.3008857094191768,
          0.3628853687617095,
          0.35752001362629926,
          0.355646397547261,
          0.370805654913994,
          0.41560211207630005,
          0.4806676886390733,
          0.46610458184295567,
          0.3635666836995455,
          0.28359734287174376,
          0.2667347981604422,
          0.4411514222449284,
          1.5083461079884302,
          1.4644012944983729,
          1.3635666836995455
         ],
         "yaxis": "y"
        },
        {
         "name": "60-69",
         "type": "scatter",
         "x": [
          "2021-02-28T00:00:00",
          "2021-03-07T00:00:00",
          "2021-03-14T00:00:00",
          "2021-03-21T00:00:00",
          "2021-03-28T00:00:00",
          "2021-04-04T00:00:00",
          "2021-04-11T00:00:00",
          "2021-04-18T00:00:00",
          "2021-04-25T00:00:00",
          "2021-05-02T00:00:00",
          "2021-05-09T00:00:00",
          "2021-05-16T00:00:00",
          "2021-05-23T00:00:00",
          "2021-05-30T00:00:00",
          "2021-06-06T00:00:00",
          "2021-06-13T00:00:00",
          "2021-06-20T00:00:00",
          "2021-06-27T00:00:00",
          "2021-07-04T00:00:00",
          "2021-07-11T00:00:00",
          "2021-07-18T00:00:00",
          "2021-07-25T00:00:00",
          "2021-08-01T00:00:00",
          "2021-08-08T00:00:00",
          "2021-08-15T00:00:00",
          "2021-08-22T00:00:00",
          "2021-08-29T00:00:00",
          "2021-09-05T00:00:00",
          "2021-09-12T00:00:00",
          "2021-09-19T00:00:00",
          "2021-09-26T00:00:00",
          "2021-10-03T00:00:00",
          "2021-10-10T00:00:00",
          "2021-10-17T00:00:00",
          "2021-10-24T00:00:00",
          "2021-10-31T00:00:00",
          "2021-11-07T00:00:00",
          "2021-11-14T00:00:00",
          "2021-11-21T00:00:00",
          "2021-11-28T00:00:00",
          "2021-12-05T00:00:00",
          "2021-12-12T00:00:00",
          "2021-12-19T00:00:00",
          "2021-12-26T00:00:00",
          "2022-01-02T00:00:00",
          "2022-01-09T00:00:00",
          "2022-01-16T00:00:00",
          "2022-01-23T00:00:00"
         ],
         "xaxis": "x",
         "y": [
          0,
          2.8124650121291284,
          3.0085836909871246,
          2.8561298749766753,
          1.3024818063071457,
          0.339708900914351,
          0.768147042358649,
          1.356223175965665,
          1.1737264415002784,
          0.8342041425639124,
          0.8758163836536674,
          0.7315730546743779,
          0.6976114946818441,
          1.0163276730733344,
          1.967811158798284,
          2.5719350625116633,
          2.431237171114013,
          2.650401194252659,
          2.5938607949244243,
          2.860888225415188,
          2.826646762455688,
          2.7384773278596697,
          2.78176898675126,
          3.119238663929842,
          3.526310878895316,
          2.810972196305279,
          2.2456615040119416,
          1.9655719350625134,
          1.4076320208994204,
          0.9774211606643064,
          0.7961373390557895,
          0.81041239037134,
          0.5306027243888778,
          0.4414069789139745,
          0.5194999066990107,
          0.524444859115512,
          0.5061578652733658,
          0.47602164582944795,
          0.5212726254898286,
          0.5807986564657597,
          0.6837096473222601,
          0.5053181563724536,
          0.36079492442620165,
          0.3230080238850519,
          0.5326553461466688,
          2.4125769733159217,
          2.328979287180445,
          1.9736891211046839
         ],
         "yaxis": "y"
        },
        {
         "name": "70-79",
         "type": "scatter",
         "x": [
          "2021-02-28T00:00:00",
          "2021-03-07T00:00:00",
          "2021-03-14T00:00:00",
          "2021-03-21T00:00:00",
          "2021-03-28T00:00:00",
          "2021-04-04T00:00:00",
          "2021-04-11T00:00:00",
          "2021-04-18T00:00:00",
          "2021-04-25T00:00:00",
          "2021-05-02T00:00:00",
          "2021-05-09T00:00:00",
          "2021-05-16T00:00:00",
          "2021-05-23T00:00:00",
          "2021-05-30T00:00:00",
          "2021-06-06T00:00:00",
          "2021-06-13T00:00:00",
          "2021-06-20T00:00:00",
          "2021-06-27T00:00:00",
          "2021-07-04T00:00:00",
          "2021-07-11T00:00:00",
          "2021-07-18T00:00:00",
          "2021-07-25T00:00:00",
          "2021-08-01T00:00:00",
          "2021-08-08T00:00:00",
          "2021-08-15T00:00:00",
          "2021-08-22T00:00:00",
          "2021-08-29T00:00:00",
          "2021-09-05T00:00:00",
          "2021-09-12T00:00:00",
          "2021-09-19T00:00:00",
          "2021-09-26T00:00:00",
          "2021-10-03T00:00:00",
          "2021-10-10T00:00:00",
          "2021-10-17T00:00:00",
          "2021-10-24T00:00:00",
          "2021-10-31T00:00:00",
          "2021-11-07T00:00:00",
          "2021-11-14T00:00:00",
          "2021-11-21T00:00:00",
          "2021-11-28T00:00:00",
          "2021-12-05T00:00:00",
          "2021-12-12T00:00:00",
          "2021-12-19T00:00:00",
          "2021-12-26T00:00:00",
          "2022-01-02T00:00:00",
          "2022-01-09T00:00:00",
          "2022-01-16T00:00:00",
          "2022-01-23T00:00:00"
         ],
         "xaxis": "x",
         "y": [
          0,
          2.439250669045495,
          2.0649420160570915,
          1.895985727029438,
          0.8071364852809992,
          0.2042818911685993,
          0.4635147190008917,
          0.8181980374665478,
          0.6822479928635161,
          0.41766280107047216,
          0.41516503122212356,
          0.36253345227475364,
          0.34522747546833266,
          0.5341659232827833,
          1.0283675289919714,
          1.327564674397859,
          1.3953612845673504,
          1.48028545941124,
          1.364674397859055,
          1.6638715432649427,
          1.6915254237288124,
          1.6519179304192697,
          2.46636931311329,
          3.006244424620874,
          2.452453166815342,
          1.9057983942908123,
          1.623371989295272,
          1.5864406779661024,
          1.2918822479928664,
          0.9027653880463831,
          0.8051739518287278,
          0.819268510258695,
          0.6181980374665486,
          0.535771632471004,
          0.6745762711864458,
          0.6328278322925911,
          0.6067796610169509,
          0.5254237288135641,
          0.5914362176627961,
          0.6399643175735932,
          0.9468331846565619,
          0.6647636039250671,
          0.44442462087421575,
          0.3639607493309569,
          0.5992863514718962,
          3.3958965209634258,
          3.2146297948260525,
          2.589830508474577
         ],
         "yaxis": "y"
        },
        {
         "name": "80 and above",
         "type": "scatter",
         "x": [
          "2021-02-28T00:00:00",
          "2021-03-07T00:00:00",
          "2021-03-14T00:00:00",
          "2021-03-21T00:00:00",
          "2021-03-28T00:00:00",
          "2021-04-04T00:00:00",
          "2021-04-11T00:00:00",
          "2021-04-18T00:00:00",
          "2021-04-25T00:00:00",
          "2021-05-02T00:00:00",
          "2021-05-09T00:00:00",
          "2021-05-16T00:00:00",
          "2021-05-23T00:00:00",
          "2021-05-30T00:00:00",
          "2021-06-06T00:00:00",
          "2021-06-13T00:00:00",
          "2021-06-20T00:00:00",
          "2021-06-27T00:00:00",
          "2021-07-04T00:00:00",
          "2021-07-11T00:00:00",
          "2021-07-18T00:00:00",
          "2021-07-25T00:00:00",
          "2021-08-01T00:00:00",
          "2021-08-08T00:00:00",
          "2021-08-15T00:00:00",
          "2021-08-22T00:00:00",
          "2021-08-29T00:00:00",
          "2021-09-05T00:00:00",
          "2021-09-12T00:00:00",
          "2021-09-19T00:00:00",
          "2021-09-26T00:00:00",
          "2021-10-03T00:00:00",
          "2021-10-10T00:00:00",
          "2021-10-17T00:00:00",
          "2021-10-24T00:00:00",
          "2021-10-31T00:00:00",
          "2021-11-07T00:00:00",
          "2021-11-14T00:00:00",
          "2021-11-21T00:00:00",
          "2021-11-28T00:00:00",
          "2021-12-05T00:00:00",
          "2021-12-12T00:00:00",
          "2021-12-19T00:00:00",
          "2021-12-26T00:00:00",
          "2022-01-02T00:00:00",
          "2022-01-09T00:00:00",
          "2022-01-16T00:00:00",
          "2022-01-23T00:00:00"
         ],
         "xaxis": "x",
         "y": [
          0,
          0.9990044798407167,
          0.6460925833748135,
          0.5512692882030858,
          0.2257341961174717,
          0.05077152812344421,
          0.1294176207068194,
          0.22424091587854678,
          0.18218018914883016,
          0.1072672971627675,
          0.11050273768043795,
          0.09283225485316082,
          0.09158785465405694,
          0.13265306122448983,
          0.2506222000995515,
          0.3183175709308115,
          0.34171229467396724,
          0.37232453957192657,
          0.3718267794922845,
          0.42185166749626646,
          0.4614235938277753,
          0.4514683922349425,
          0.8158287705326037,
          1.0771528123444503,
          0.9935291189646591,
          0.8713290194126433,
          0.8561473369835735,
          0.926829268292682,
          0.7488800398208078,
          0.5783972125435533,
          0.5024888003982078,
          0.5438028870084626,
          0.41712294673967065,
          0.3484320557491287,
          0.4987555998008961,
          0.4482329517172712,
          0.39323046291687547,
          0.33598805375808993,
          0.39447486311597757,
          0.44997511199601803,
          0.7941762070681939,
          0.6485813837730205,
          0.4031856645097065,
          0.34196117471378784,
          0.4561971129915392,
          3.0719263315082124,
          3.014435042309607,
          2.434544549527125
         ],
         "yaxis": "y"
        }
       ],
       "layout": {
        "height": 480,
        "legend": {
         "font": {
          "size": 10
         },
         "title": {
          "text": "Age"
         }
        },
        "template": {
         "data": {
          "bar": [
           {
            "error_x": {
             "color": "#2a3f5f"
            },
            "error_y": {
             "color": "#2a3f5f"
            },
            "marker": {
             "line": {
              "color": "#E5ECF6",
              "width": 0.5
             },
             "pattern": {
              "fillmode": "overlay",
              "size": 10,
              "solidity": 0.2
             }
            },
            "type": "bar"
           }
          ],
          "barpolar": [
           {
            "marker": {
             "line": {
              "color": "#E5ECF6",
              "width": 0.5
             },
             "pattern": {
              "fillmode": "overlay",
              "size": 10,
              "solidity": 0.2
             }
            },
            "type": "barpolar"
           }
          ],
          "carpet": [
           {
            "aaxis": {
             "endlinecolor": "#2a3f5f",
             "gridcolor": "white",
             "linecolor": "white",
             "minorgridcolor": "white",
             "startlinecolor": "#2a3f5f"
            },
            "baxis": {
             "endlinecolor": "#2a3f5f",
             "gridcolor": "white",
             "linecolor": "white",
             "minorgridcolor": "white",
             "startlinecolor": "#2a3f5f"
            },
            "type": "carpet"
           }
          ],
          "choropleth": [
           {
            "colorbar": {
             "outlinewidth": 0,
             "ticks": ""
            },
            "type": "choropleth"
           }
          ],
          "contour": [
           {
            "colorbar": {
             "outlinewidth": 0,
             "ticks": ""
            },
            "colorscale": [
             [
              0,
              "#0d0887"
             ],
             [
              0.1111111111111111,
              "#46039f"
             ],
             [
              0.2222222222222222,
              "#7201a8"
             ],
             [
              0.3333333333333333,
              "#9c179e"
             ],
             [
              0.4444444444444444,
              "#bd3786"
             ],
             [
              0.5555555555555556,
              "#d8576b"
             ],
             [
              0.6666666666666666,
              "#ed7953"
             ],
             [
              0.7777777777777778,
              "#fb9f3a"
             ],
             [
              0.8888888888888888,
              "#fdca26"
             ],
             [
              1,
              "#f0f921"
             ]
            ],
            "type": "contour"
           }
          ],
          "contourcarpet": [
           {
            "colorbar": {
             "outlinewidth": 0,
             "ticks": ""
            },
            "type": "contourcarpet"
           }
          ],
          "heatmap": [
           {
            "colorbar": {
             "outlinewidth": 0,
             "ticks": ""
            },
            "colorscale": [
             [
              0,
              "#0d0887"
             ],
             [
              0.1111111111111111,
              "#46039f"
             ],
             [
              0.2222222222222222,
              "#7201a8"
             ],
             [
              0.3333333333333333,
              "#9c179e"
             ],
             [
              0.4444444444444444,
              "#bd3786"
             ],
             [
              0.5555555555555556,
              "#d8576b"
             ],
             [
              0.6666666666666666,
              "#ed7953"
             ],
             [
              0.7777777777777778,
              "#fb9f3a"
             ],
             [
              0.8888888888888888,
              "#fdca26"
             ],
             [
              1,
              "#f0f921"
             ]
            ],
            "type": "heatmap"
           }
          ],
          "heatmapgl": [
           {
            "colorbar": {
             "outlinewidth": 0,
             "ticks": ""
            },
            "colorscale": [
             [
              0,
              "#0d0887"
             ],
             [
              0.1111111111111111,
              "#46039f"
             ],
             [
              0.2222222222222222,
              "#7201a8"
             ],
             [
              0.3333333333333333,
              "#9c179e"
             ],
             [
              0.4444444444444444,
              "#bd3786"
             ],
             [
              0.5555555555555556,
              "#d8576b"
             ],
             [
              0.6666666666666666,
              "#ed7953"
             ],
             [
              0.7777777777777778,
              "#fb9f3a"
             ],
             [
              0.8888888888888888,
              "#fdca26"
             ],
             [
              1,
              "#f0f921"
             ]
            ],
            "type": "heatmapgl"
           }
          ],
          "histogram": [
           {
            "marker": {
             "pattern": {
              "fillmode": "overlay",
              "size": 10,
              "solidity": 0.2
             }
            },
            "type": "histogram"
           }
          ],
          "histogram2d": [
           {
            "colorbar": {
             "outlinewidth": 0,
             "ticks": ""
            },
            "colorscale": [
             [
              0,
              "#0d0887"
             ],
             [
              0.1111111111111111,
              "#46039f"
             ],
             [
              0.2222222222222222,
              "#7201a8"
             ],
             [
              0.3333333333333333,
              "#9c179e"
             ],
             [
              0.4444444444444444,
              "#bd3786"
             ],
             [
              0.5555555555555556,
              "#d8576b"
             ],
             [
              0.6666666666666666,
              "#ed7953"
             ],
             [
              0.7777777777777778,
              "#fb9f3a"
             ],
             [
              0.8888888888888888,
              "#fdca26"
             ],
             [
              1,
              "#f0f921"
             ]
            ],
            "type": "histogram2d"
           }
          ],
          "histogram2dcontour": [
           {
            "colorbar": {
             "outlinewidth": 0,
             "ticks": ""
            },
            "colorscale": [
             [
              0,
              "#0d0887"
             ],
             [
              0.1111111111111111,
              "#46039f"
             ],
             [
              0.2222222222222222,
              "#7201a8"
             ],
             [
              0.3333333333333333,
              "#9c179e"
             ],
             [
              0.4444444444444444,
              "#bd3786"
             ],
             [
              0.5555555555555556,
              "#d8576b"
             ],
             [
              0.6666666666666666,
              "#ed7953"
             ],
             [
              0.7777777777777778,
              "#fb9f3a"
             ],
             [
              0.8888888888888888,
              "#fdca26"
             ],
             [
              1,
              "#f0f921"
             ]
            ],
            "type": "histogram2dcontour"
           }
          ],
          "mesh3d": [
           {
            "colorbar": {
             "outlinewidth": 0,
             "ticks": ""
            },
            "type": "mesh3d"
           }
          ],
          "parcoords": [
           {
            "line": {
             "colorbar": {
              "outlinewidth": 0,
              "ticks": ""
             }
            },
            "type": "parcoords"
           }
          ],
          "pie": [
           {
            "automargin": true,
            "type": "pie"
           }
          ],
          "scatter": [
           {
            "marker": {
             "colorbar": {
              "outlinewidth": 0,
              "ticks": ""
             }
            },
            "type": "scatter"
           }
          ],
          "scatter3d": [
           {
            "line": {
             "colorbar": {
              "outlinewidth": 0,
              "ticks": ""
             }
            },
            "marker": {
             "colorbar": {
              "outlinewidth": 0,
              "ticks": ""
             }
            },
            "type": "scatter3d"
           }
          ],
          "scattercarpet": [
           {
            "marker": {
             "colorbar": {
              "outlinewidth": 0,
              "ticks": ""
             }
            },
            "type": "scattercarpet"
           }
          ],
          "scattergeo": [
           {
            "marker": {
             "colorbar": {
              "outlinewidth": 0,
              "ticks": ""
             }
            },
            "type": "scattergeo"
           }
          ],
          "scattergl": [
           {
            "marker": {
             "colorbar": {
              "outlinewidth": 0,
              "ticks": ""
             }
            },
            "type": "scattergl"
           }
          ],
          "scattermapbox": [
           {
            "marker": {
             "colorbar": {
              "outlinewidth": 0,
              "ticks": ""
             }
            },
            "type": "scattermapbox"
           }
          ],
          "scatterpolar": [
           {
            "marker": {
             "colorbar": {
              "outlinewidth": 0,
              "ticks": ""
             }
            },
            "type": "scatterpolar"
           }
          ],
          "scatterpolargl": [
           {
            "marker": {
             "colorbar": {
              "outlinewidth": 0,
              "ticks": ""
             }
            },
            "type": "scatterpolargl"
           }
          ],
          "scatterternary": [
           {
            "marker": {
             "colorbar": {
              "outlinewidth": 0,
              "ticks": ""
             }
            },
            "type": "scatterternary"
           }
          ],
          "surface": [
           {
            "colorbar": {
             "outlinewidth": 0,
             "ticks": ""
            },
            "colorscale": [
             [
              0,
              "#0d0887"
             ],
             [
              0.1111111111111111,
              "#46039f"
             ],
             [
              0.2222222222222222,
              "#7201a8"
             ],
             [
              0.3333333333333333,
              "#9c179e"
             ],
             [
              0.4444444444444444,
              "#bd3786"
             ],
             [
              0.5555555555555556,
              "#d8576b"
             ],
             [
              0.6666666666666666,
              "#ed7953"
             ],
             [
              0.7777777777777778,
              "#fb9f3a"
             ],
             [
              0.8888888888888888,
              "#fdca26"
             ],
             [
              1,
              "#f0f921"
             ]
            ],
            "type": "surface"
           }
          ],
          "table": [
           {
            "cells": {
             "fill": {
              "color": "#EBF0F8"
             },
             "line": {
              "color": "white"
             }
            },
            "header": {
             "fill": {
              "color": "#C8D4E3"
             },
             "line": {
              "color": "white"
             }
            },
            "type": "table"
           }
          ]
         },
         "layout": {
          "annotationdefaults": {
           "arrowcolor": "#2a3f5f",
           "arrowhead": 0,
           "arrowwidth": 1
          },
          "autotypenumbers": "strict",
          "coloraxis": {
           "colorbar": {
            "outlinewidth": 0,
            "ticks": ""
           }
          },
          "colorscale": {
           "diverging": [
            [
             0,
             "#8e0152"
            ],
            [
             0.1,
             "#c51b7d"
            ],
            [
             0.2,
             "#de77ae"
            ],
            [
             0.3,
             "#f1b6da"
            ],
            [
             0.4,
             "#fde0ef"
            ],
            [
             0.5,
             "#f7f7f7"
            ],
            [
             0.6,
             "#e6f5d0"
            ],
            [
             0.7,
             "#b8e186"
            ],
            [
             0.8,
             "#7fbc41"
            ],
            [
             0.9,
             "#4d9221"
            ],
            [
             1,
             "#276419"
            ]
           ],
           "sequential": [
            [
             0,
             "#0d0887"
            ],
            [
             0.1111111111111111,
             "#46039f"
            ],
            [
             0.2222222222222222,
             "#7201a8"
            ],
            [
             0.3333333333333333,
             "#9c179e"
            ],
            [
             0.4444444444444444,
             "#bd3786"
            ],
            [
             0.5555555555555556,
             "#d8576b"
            ],
            [
             0.6666666666666666,
             "#ed7953"
            ],
            [
             0.7777777777777778,
             "#fb9f3a"
            ],
            [
             0.8888888888888888,
             "#fdca26"
            ],
            [
             1,
             "#f0f921"
            ]
           ],
           "sequentialminus": [
            [
             0,
             "#0d0887"
            ],
            [
             0.1111111111111111,
             "#46039f"
            ],
            [
             0.2222222222222222,
             "#7201a8"
            ],
            [
             0.3333333333333333,
             "#9c179e"
            ],
            [
             0.4444444444444444,
             "#bd3786"
            ],
            [
             0.5555555555555556,
             "#d8576b"
            ],
            [
             0.6666666666666666,
             "#ed7953"
            ],
            [
             0.7777777777777778,
             "#fb9f3a"
            ],
            [
             0.8888888888888888,
             "#fdca26"
            ],
            [
             1,
             "#f0f921"
            ]
           ]
          },
          "colorway": [
           "#636efa",
           "#EF553B",
           "#00cc96",
           "#ab63fa",
           "#FFA15A",
           "#19d3f3",
           "#FF6692",
           "#B6E880",
           "#FF97FF",
           "#FECB52"
          ],
          "font": {
           "color": "#2a3f5f"
          },
          "geo": {
           "bgcolor": "white",
           "lakecolor": "white",
           "landcolor": "#E5ECF6",
           "showlakes": true,
           "showland": true,
           "subunitcolor": "white"
          },
          "hoverlabel": {
           "align": "left"
          },
          "hovermode": "closest",
          "mapbox": {
           "style": "light"
          },
          "paper_bgcolor": "white",
          "plot_bgcolor": "#E5ECF6",
          "polar": {
           "angularaxis": {
            "gridcolor": "white",
            "linecolor": "white",
            "ticks": ""
           },
           "bgcolor": "#E5ECF6",
           "radialaxis": {
            "gridcolor": "white",
            "linecolor": "white",
            "ticks": ""
           }
          },
          "scene": {
           "xaxis": {
            "backgroundcolor": "#E5ECF6",
            "gridcolor": "white",
            "gridwidth": 2,
            "linecolor": "white",
            "showbackground": true,
            "ticks": "",
            "zerolinecolor": "white"
           },
           "yaxis": {
            "backgroundcolor": "#E5ECF6",
            "gridcolor": "white",
            "gridwidth": 2,
            "linecolor": "white",
            "showbackground": true,
            "ticks": "",
            "zerolinecolor": "white"
           },
           "zaxis": {
            "backgroundcolor": "#E5ECF6",
            "gridcolor": "white",
            "gridwidth": 2,
            "linecolor": "white",
            "showbackground": true,
            "ticks": "",
            "zerolinecolor": "white"
           }
          },
          "shapedefaults": {
           "line": {
            "color": "#2a3f5f"
           }
          },
          "ternary": {
           "aaxis": {
            "gridcolor": "white",
            "linecolor": "white",
            "ticks": ""
           },
           "baxis": {
            "gridcolor": "white",
            "linecolor": "white",
            "ticks": ""
           },
           "bgcolor": "#E5ECF6",
           "caxis": {
            "gridcolor": "white",
            "linecolor": "white",
            "ticks": ""
           }
          },
          "title": {
           "x": 0.05
          },
          "xaxis": {
           "automargin": true,
           "gridcolor": "white",
           "linecolor": "white",
           "ticks": "",
           "title": {
            "standoff": 15
           },
           "zerolinecolor": "white",
           "zerolinewidth": 2
          },
          "yaxis": {
           "automargin": true,
           "gridcolor": "white",
           "linecolor": "white",
           "ticks": "",
           "title": {
            "standoff": 15
           },
           "zerolinecolor": "white",
           "zerolinewidth": 2
          }
         }
        },
        "title": {
         "text": "<span style=\"font-size: 14px;\">Absolute Change in Weekly Vaccination Rate of COVID-19 Vaccine in Hong Kong by Age Group</span>"
        },
        "width": 720,
        "xaxis": {
         "anchor": "y",
         "domain": [
          0,
          1
         ],
         "dtick": "M1",
         "showgrid": false,
         "tickfont": {
          "size": 10
         },
         "title": {
          "font": {
           "size": 10
          },
          "text": "Time"
         }
        },
        "yaxis": {
         "anchor": "x",
         "domain": [
          0,
          1
         ],
         "showgrid": true,
         "tickfont": {
          "size": 10
         },
         "title": {
          "font": {
           "size": 10
          },
          "text": "%"
         }
        }
       }
      }
     },
     "metadata": {},
     "output_type": "display_data"
    }
   ],
   "source": [
    "fig = make_subplots(rows=1, cols=1)\n",
    "# Get the absolute difference of vaccination rate (gradient)\n",
    "for i in range(1, len(df.columns)):\n",
    "    fig.add_trace(go.Scatter(x=df[\"time\"], y=df[df.columns[i]].diff().fillna(0), name=df.columns[i]), row=1, col=1)\n",
    "fig.update_layout(title_text='<span style=\"font-size: 14px;\">Absolute Change in Weekly Vaccination Rate of COVID-19 Vaccine in Hong Kong by Age Group</span>',\n",
    "                  xaxis_title=\"Time\",\n",
    "                  legend_title=\"Age\",\n",
    "                  xaxis=dict(\n",
    "                      dtick = \"M1\",\n",
    "                      showgrid = False\n",
    "                  ),\n",
    "                  xaxis_titlefont_size=10,\n",
    "                  xaxis_tickfont_size=10,\n",
    "                  yaxis_titlefont_size=10,\n",
    "                  yaxis_tickfont_size=10,\n",
    "                  legend_font_size=10,\n",
    "                  width=720, height=480)\n",
    "fig.update_yaxes(title_text=\"%\", showgrid=True)\n",
    "fig.show()"
   ]
  },
  {
   "cell_type": "code",
   "execution_count": 109,
   "metadata": {},
   "outputs": [],
   "source": [
    "fig.write_image(\"images/abschg_vr_age.jpg\", width=720, height=480)"
   ]
  },
  {
   "cell_type": "markdown",
   "metadata": {},
   "source": [
    "### Acceleration of vaccination rate across age groups"
   ]
  },
  {
   "cell_type": "code",
   "execution_count": 25,
   "metadata": {
    "scrolled": true
   },
   "outputs": [
    {
     "data": {
      "text/html": [
       "<div>\n",
       "<style scoped>\n",
       "    .dataframe tbody tr th:only-of-type {\n",
       "        vertical-align: middle;\n",
       "    }\n",
       "\n",
       "    .dataframe tbody tr th {\n",
       "        vertical-align: top;\n",
       "    }\n",
       "\n",
       "    .dataframe thead th {\n",
       "        text-align: right;\n",
       "    }\n",
       "</style>\n",
       "<table border=\"1\" class=\"dataframe\">\n",
       "  <thead>\n",
       "    <tr style=\"text-align: right;\">\n",
       "      <th></th>\n",
       "      <th>12-19</th>\n",
       "      <th>20-29</th>\n",
       "      <th>30-39</th>\n",
       "      <th>40-49</th>\n",
       "      <th>50-59</th>\n",
       "      <th>60-69</th>\n",
       "      <th>70-79</th>\n",
       "      <th>80 and above</th>\n",
       "    </tr>\n",
       "    <tr>\n",
       "      <th>time</th>\n",
       "      <th></th>\n",
       "      <th></th>\n",
       "      <th></th>\n",
       "      <th></th>\n",
       "      <th></th>\n",
       "      <th></th>\n",
       "      <th></th>\n",
       "      <th></th>\n",
       "    </tr>\n",
       "  </thead>\n",
       "  <tbody>\n",
       "    <tr>\n",
       "      <th>2021-02-28</th>\n",
       "      <td>NaN</td>\n",
       "      <td>NaN</td>\n",
       "      <td>NaN</td>\n",
       "      <td>NaN</td>\n",
       "      <td>NaN</td>\n",
       "      <td>NaN</td>\n",
       "      <td>NaN</td>\n",
       "      <td>NaN</td>\n",
       "    </tr>\n",
       "    <tr>\n",
       "      <th>2021-03-07</th>\n",
       "      <td>NaN</td>\n",
       "      <td>NaN</td>\n",
       "      <td>NaN</td>\n",
       "      <td>NaN</td>\n",
       "      <td>NaN</td>\n",
       "      <td>NaN</td>\n",
       "      <td>NaN</td>\n",
       "      <td>NaN</td>\n",
       "    </tr>\n",
       "    <tr>\n",
       "      <th>2021-03-14</th>\n",
       "      <td>0.088904</td>\n",
       "      <td>0.423767</td>\n",
       "      <td>0.578265</td>\n",
       "      <td>0.762013</td>\n",
       "      <td>0.660365</td>\n",
       "      <td>0.196119</td>\n",
       "      <td>-0.374309</td>\n",
       "      <td>-0.352912</td>\n",
       "    </tr>\n",
       "    <tr>\n",
       "      <th>2021-03-21</th>\n",
       "      <td>0.178030</td>\n",
       "      <td>0.501917</td>\n",
       "      <td>1.782118</td>\n",
       "      <td>2.051904</td>\n",
       "      <td>1.753619</td>\n",
       "      <td>-0.152454</td>\n",
       "      <td>-0.168956</td>\n",
       "      <td>-0.094823</td>\n",
       "    </tr>\n",
       "    <tr>\n",
       "      <th>2021-03-28</th>\n",
       "      <td>-0.190062</td>\n",
       "      <td>-0.520218</td>\n",
       "      <td>-1.158484</td>\n",
       "      <td>-1.471772</td>\n",
       "      <td>-1.298586</td>\n",
       "      <td>-1.553648</td>\n",
       "      <td>-1.088849</td>\n",
       "      <td>-0.325535</td>\n",
       "    </tr>\n",
       "    <tr>\n",
       "      <th>2021-04-04</th>\n",
       "      <td>-0.086898</td>\n",
       "      <td>-0.300977</td>\n",
       "      <td>-0.920891</td>\n",
       "      <td>-1.258556</td>\n",
       "      <td>-1.066088</td>\n",
       "      <td>-0.962773</td>\n",
       "      <td>-0.602855</td>\n",
       "      <td>-0.174963</td>\n",
       "    </tr>\n",
       "    <tr>\n",
       "      <th>2021-04-11</th>\n",
       "      <td>0.236185</td>\n",
       "      <td>0.487944</td>\n",
       "      <td>1.724940</td>\n",
       "      <td>1.852254</td>\n",
       "      <td>1.118293</td>\n",
       "      <td>0.428438</td>\n",
       "      <td>0.259233</td>\n",
       "      <td>0.078646</td>\n",
       "    </tr>\n",
       "    <tr>\n",
       "      <th>2021-04-18</th>\n",
       "      <td>0.014483</td>\n",
       "      <td>0.393224</td>\n",
       "      <td>0.894433</td>\n",
       "      <td>0.954923</td>\n",
       "      <td>0.681145</td>\n",
       "      <td>0.588076</td>\n",
       "      <td>0.354683</td>\n",
       "      <td>0.094823</td>\n",
       "    </tr>\n",
       "    <tr>\n",
       "      <th>2021-04-25</th>\n",
       "      <td>-0.011364</td>\n",
       "      <td>0.082354</td>\n",
       "      <td>-0.461955</td>\n",
       "      <td>-0.560000</td>\n",
       "      <td>-0.367058</td>\n",
       "      <td>-0.182497</td>\n",
       "      <td>-0.135950</td>\n",
       "      <td>-0.042061</td>\n",
       "    </tr>\n",
       "    <tr>\n",
       "      <th>2021-05-02</th>\n",
       "      <td>0.448529</td>\n",
       "      <td>1.809818</td>\n",
       "      <td>-0.730534</td>\n",
       "      <td>-0.832735</td>\n",
       "      <td>-0.578947</td>\n",
       "      <td>-0.339522</td>\n",
       "      <td>-0.264585</td>\n",
       "      <td>-0.074913</td>\n",
       "    </tr>\n",
       "    <tr>\n",
       "      <th>2021-05-09</th>\n",
       "      <td>-0.192513</td>\n",
       "      <td>-0.727835</td>\n",
       "      <td>0.693599</td>\n",
       "      <td>0.543982</td>\n",
       "      <td>0.181230</td>\n",
       "      <td>0.041612</td>\n",
       "      <td>-0.002498</td>\n",
       "      <td>0.003235</td>\n",
       "    </tr>\n",
       "    <tr>\n",
       "      <th>2021-05-16</th>\n",
       "      <td>0.134804</td>\n",
       "      <td>-0.365525</td>\n",
       "      <td>-0.629939</td>\n",
       "      <td>-0.630547</td>\n",
       "      <td>-0.370124</td>\n",
       "      <td>-0.144243</td>\n",
       "      <td>-0.052632</td>\n",
       "      <td>-0.017670</td>\n",
       "    </tr>\n",
       "    <tr>\n",
       "      <th>2021-05-23</th>\n",
       "      <td>0.132130</td>\n",
       "      <td>-0.163596</td>\n",
       "      <td>-0.338631</td>\n",
       "      <td>-0.293917</td>\n",
       "      <td>-0.093425</td>\n",
       "      <td>-0.033962</td>\n",
       "      <td>-0.017306</td>\n",
       "      <td>-0.001244</td>\n",
       "    </tr>\n",
       "    <tr>\n",
       "      <th>2021-05-30</th>\n",
       "      <td>0.028966</td>\n",
       "      <td>0.208112</td>\n",
       "      <td>0.168250</td>\n",
       "      <td>0.326039</td>\n",
       "      <td>0.471981</td>\n",
       "      <td>0.318716</td>\n",
       "      <td>0.188938</td>\n",
       "      <td>0.041065</td>\n",
       "    </tr>\n",
       "    <tr>\n",
       "      <th>2021-06-06</th>\n",
       "      <td>0.323975</td>\n",
       "      <td>0.884753</td>\n",
       "      <td>1.056113</td>\n",
       "      <td>1.308184</td>\n",
       "      <td>1.305229</td>\n",
       "      <td>0.951483</td>\n",
       "      <td>0.494202</td>\n",
       "      <td>0.117969</td>\n",
       "    </tr>\n",
       "    <tr>\n",
       "      <th>2021-06-13</th>\n",
       "      <td>0.135250</td>\n",
       "      <td>0.375046</td>\n",
       "      <td>0.655243</td>\n",
       "      <td>0.890153</td>\n",
       "      <td>0.988503</td>\n",
       "      <td>0.604124</td>\n",
       "      <td>0.299197</td>\n",
       "      <td>0.067695</td>\n",
       "    </tr>\n",
       "    <tr>\n",
       "      <th>2021-06-20</th>\n",
       "      <td>1.598039</td>\n",
       "      <td>-0.061704</td>\n",
       "      <td>-0.291841</td>\n",
       "      <td>-0.449891</td>\n",
       "      <td>-0.416709</td>\n",
       "      <td>-0.140698</td>\n",
       "      <td>0.067797</td>\n",
       "      <td>0.023395</td>\n",
       "    </tr>\n",
       "    <tr>\n",
       "      <th>2021-06-27</th>\n",
       "      <td>0.384581</td>\n",
       "      <td>0.135773</td>\n",
       "      <td>0.027435</td>\n",
       "      <td>-0.024245</td>\n",
       "      <td>0.151337</td>\n",
       "      <td>0.219164</td>\n",
       "      <td>0.084924</td>\n",
       "      <td>0.030612</td>\n",
       "    </tr>\n",
       "    <tr>\n",
       "      <th>2021-07-04</th>\n",
       "      <td>1.056818</td>\n",
       "      <td>0.520465</td>\n",
       "      <td>0.223031</td>\n",
       "      <td>-0.007265</td>\n",
       "      <td>0.007494</td>\n",
       "      <td>-0.056540</td>\n",
       "      <td>-0.115611</td>\n",
       "      <td>-0.000498</td>\n",
       "    </tr>\n",
       "    <tr>\n",
       "      <th>2021-07-11</th>\n",
       "      <td>0.326203</td>\n",
       "      <td>0.084828</td>\n",
       "      <td>-0.140904</td>\n",
       "      <td>-0.229059</td>\n",
       "      <td>-0.123914</td>\n",
       "      <td>0.267027</td>\n",
       "      <td>0.299197</td>\n",
       "      <td>0.050025</td>\n",
       "    </tr>\n",
       "    <tr>\n",
       "      <th>2021-07-18</th>\n",
       "      <td>0.857843</td>\n",
       "      <td>0.145666</td>\n",
       "      <td>0.050431</td>\n",
       "      <td>-0.033961</td>\n",
       "      <td>-0.113694</td>\n",
       "      <td>-0.034241</td>\n",
       "      <td>0.027654</td>\n",
       "      <td>0.039572</td>\n",
       "    </tr>\n",
       "    <tr>\n",
       "      <th>2021-07-25</th>\n",
       "      <td>-0.549688</td>\n",
       "      <td>0.006059</td>\n",
       "      <td>-0.094913</td>\n",
       "      <td>-0.212254</td>\n",
       "      <td>-0.248765</td>\n",
       "      <td>-0.088169</td>\n",
       "      <td>-0.039607</td>\n",
       "      <td>-0.009955</td>\n",
       "    </tr>\n",
       "    <tr>\n",
       "      <th>2021-08-01</th>\n",
       "      <td>-0.415998</td>\n",
       "      <td>0.207123</td>\n",
       "      <td>0.175797</td>\n",
       "      <td>-0.001663</td>\n",
       "      <td>0.046500</td>\n",
       "      <td>0.043292</td>\n",
       "      <td>0.814451</td>\n",
       "      <td>0.364360</td>\n",
       "    </tr>\n",
       "    <tr>\n",
       "      <th>2021-08-08</th>\n",
       "      <td>-0.119875</td>\n",
       "      <td>0.379374</td>\n",
       "      <td>0.251176</td>\n",
       "      <td>0.048140</td>\n",
       "      <td>0.026742</td>\n",
       "      <td>0.337470</td>\n",
       "      <td>0.539875</td>\n",
       "      <td>0.261324</td>\n",
       "    </tr>\n",
       "    <tr>\n",
       "      <th>2021-08-15</th>\n",
       "      <td>0.645053</td>\n",
       "      <td>0.240386</td>\n",
       "      <td>-0.163278</td>\n",
       "      <td>-0.295667</td>\n",
       "      <td>-0.338528</td>\n",
       "      <td>0.407072</td>\n",
       "      <td>-0.553791</td>\n",
       "      <td>-0.083624</td>\n",
       "    </tr>\n",
       "    <tr>\n",
       "      <th>2021-08-22</th>\n",
       "      <td>0.356283</td>\n",
       "      <td>-0.542599</td>\n",
       "      <td>-0.546746</td>\n",
       "      <td>-0.562013</td>\n",
       "      <td>-0.610203</td>\n",
       "      <td>-0.715339</td>\n",
       "      <td>-0.546655</td>\n",
       "      <td>-0.122200</td>\n",
       "    </tr>\n",
       "    <tr>\n",
       "      <th>2021-08-29</th>\n",
       "      <td>-0.500891</td>\n",
       "      <td>-0.871399</td>\n",
       "      <td>-0.577111</td>\n",
       "      <td>-0.437812</td>\n",
       "      <td>-0.398399</td>\n",
       "      <td>-0.565311</td>\n",
       "      <td>-0.282426</td>\n",
       "      <td>-0.015182</td>\n",
       "    </tr>\n",
       "    <tr>\n",
       "      <th>2021-09-05</th>\n",
       "      <td>-0.577763</td>\n",
       "      <td>-0.586991</td>\n",
       "      <td>-0.323981</td>\n",
       "      <td>-0.209540</td>\n",
       "      <td>-0.238716</td>\n",
       "      <td>-0.280090</td>\n",
       "      <td>-0.036931</td>\n",
       "      <td>0.070682</td>\n",
       "    </tr>\n",
       "    <tr>\n",
       "      <th>2021-09-12</th>\n",
       "      <td>-1.756239</td>\n",
       "      <td>-1.261407</td>\n",
       "      <td>-0.859274</td>\n",
       "      <td>-0.765077</td>\n",
       "      <td>-0.682252</td>\n",
       "      <td>-0.557940</td>\n",
       "      <td>-0.294558</td>\n",
       "      <td>-0.177949</td>\n",
       "    </tr>\n",
       "    <tr>\n",
       "      <th>2021-09-19</th>\n",
       "      <td>-0.867201</td>\n",
       "      <td>-0.578830</td>\n",
       "      <td>-0.436473</td>\n",
       "      <td>-0.416543</td>\n",
       "      <td>-0.425737</td>\n",
       "      <td>-0.430211</td>\n",
       "      <td>-0.389117</td>\n",
       "      <td>-0.170483</td>\n",
       "    </tr>\n",
       "    <tr>\n",
       "      <th>2021-09-26</th>\n",
       "      <td>-0.240642</td>\n",
       "      <td>-0.284407</td>\n",
       "      <td>-0.208470</td>\n",
       "      <td>-0.175580</td>\n",
       "      <td>-0.169222</td>\n",
       "      <td>-0.181284</td>\n",
       "      <td>-0.097591</td>\n",
       "      <td>-0.075908</td>\n",
       "    </tr>\n",
       "    <tr>\n",
       "      <th>2021-10-03</th>\n",
       "      <td>-0.004011</td>\n",
       "      <td>-0.099666</td>\n",
       "      <td>-0.070763</td>\n",
       "      <td>-0.066783</td>\n",
       "      <td>-0.053909</td>\n",
       "      <td>0.014275</td>\n",
       "      <td>0.014095</td>\n",
       "      <td>0.041314</td>\n",
       "    </tr>\n",
       "    <tr>\n",
       "      <th>2021-10-10</th>\n",
       "      <td>-0.864973</td>\n",
       "      <td>-0.302090</td>\n",
       "      <td>-0.307911</td>\n",
       "      <td>-0.294967</td>\n",
       "      <td>-0.300630</td>\n",
       "      <td>-0.279810</td>\n",
       "      <td>-0.201070</td>\n",
       "      <td>-0.126680</td>\n",
       "    </tr>\n",
       "    <tr>\n",
       "      <th>2021-10-17</th>\n",
       "      <td>0.146390</td>\n",
       "      <td>-0.003957</td>\n",
       "      <td>-0.009234</td>\n",
       "      <td>-0.030985</td>\n",
       "      <td>-0.070090</td>\n",
       "      <td>-0.089196</td>\n",
       "      <td>-0.082426</td>\n",
       "      <td>-0.068691</td>\n",
       "    </tr>\n",
       "    <tr>\n",
       "      <th>2021-10-24</th>\n",
       "      <td>-0.084670</td>\n",
       "      <td>-0.007419</td>\n",
       "      <td>0.010299</td>\n",
       "      <td>0.020656</td>\n",
       "      <td>0.062000</td>\n",
       "      <td>0.078093</td>\n",
       "      <td>0.138805</td>\n",
       "      <td>0.150324</td>\n",
       "    </tr>\n",
       "    <tr>\n",
       "      <th>2021-10-31</th>\n",
       "      <td>-0.088012</td>\n",
       "      <td>-0.025473</td>\n",
       "      <td>-0.012519</td>\n",
       "      <td>-0.011028</td>\n",
       "      <td>-0.005365</td>\n",
       "      <td>0.004945</td>\n",
       "      <td>-0.041748</td>\n",
       "      <td>-0.050523</td>\n",
       "    </tr>\n",
       "    <tr>\n",
       "      <th>2021-11-07</th>\n",
       "      <td>0.024510</td>\n",
       "      <td>0.025102</td>\n",
       "      <td>0.027524</td>\n",
       "      <td>0.019081</td>\n",
       "      <td>-0.001874</td>\n",
       "      <td>-0.018287</td>\n",
       "      <td>-0.026048</td>\n",
       "      <td>-0.055002</td>\n",
       "    </tr>\n",
       "    <tr>\n",
       "      <th>2021-11-14</th>\n",
       "      <td>-0.023396</td>\n",
       "      <td>0.030790</td>\n",
       "      <td>0.045547</td>\n",
       "      <td>0.026433</td>\n",
       "      <td>0.015159</td>\n",
       "      <td>-0.030136</td>\n",
       "      <td>-0.081356</td>\n",
       "      <td>-0.057242</td>\n",
       "    </tr>\n",
       "    <tr>\n",
       "      <th>2021-11-21</th>\n",
       "      <td>-0.002674</td>\n",
       "      <td>0.083591</td>\n",
       "      <td>0.074403</td>\n",
       "      <td>0.043414</td>\n",
       "      <td>0.044796</td>\n",
       "      <td>0.045251</td>\n",
       "      <td>0.066012</td>\n",
       "      <td>0.058487</td>\n",
       "    </tr>\n",
       "    <tr>\n",
       "      <th>2021-11-28</th>\n",
       "      <td>0.051248</td>\n",
       "      <td>0.132064</td>\n",
       "      <td>0.098020</td>\n",
       "      <td>0.072998</td>\n",
       "      <td>0.065066</td>\n",
       "      <td>0.059526</td>\n",
       "      <td>0.048528</td>\n",
       "      <td>0.055500</td>\n",
       "    </tr>\n",
       "    <tr>\n",
       "      <th>2021-12-05</th>\n",
       "      <td>0.357620</td>\n",
       "      <td>-0.164956</td>\n",
       "      <td>-0.120838</td>\n",
       "      <td>-0.070197</td>\n",
       "      <td>-0.014563</td>\n",
       "      <td>0.102911</td>\n",
       "      <td>0.306869</td>\n",
       "      <td>0.344201</td>\n",
       "    </tr>\n",
       "    <tr>\n",
       "      <th>2021-12-12</th>\n",
       "      <td>-0.236185</td>\n",
       "      <td>-0.090763</td>\n",
       "      <td>-0.101749</td>\n",
       "      <td>-0.086915</td>\n",
       "      <td>-0.102538</td>\n",
       "      <td>-0.178391</td>\n",
       "      <td>-0.282070</td>\n",
       "      <td>-0.145595</td>\n",
       "    </tr>\n",
       "    <tr>\n",
       "      <th>2021-12-19</th>\n",
       "      <td>0.130348</td>\n",
       "      <td>-0.004452</td>\n",
       "      <td>-0.037113</td>\n",
       "      <td>-0.041313</td>\n",
       "      <td>-0.079969</td>\n",
       "      <td>-0.144523</td>\n",
       "      <td>-0.220339</td>\n",
       "      <td>-0.245396</td>\n",
       "    </tr>\n",
       "    <tr>\n",
       "      <th>2021-12-26</th>\n",
       "      <td>0.068850</td>\n",
       "      <td>-0.038951</td>\n",
       "      <td>-0.048122</td>\n",
       "      <td>-0.038512</td>\n",
       "      <td>-0.016863</td>\n",
       "      <td>-0.037787</td>\n",
       "      <td>-0.080464</td>\n",
       "      <td>-0.061224</td>\n",
       "    </tr>\n",
       "    <tr>\n",
       "      <th>2022-01-02</th>\n",
       "      <td>-0.050357</td>\n",
       "      <td>0.162236</td>\n",
       "      <td>0.255616</td>\n",
       "      <td>0.199475</td>\n",
       "      <td>0.174417</td>\n",
       "      <td>0.209647</td>\n",
       "      <td>0.235326</td>\n",
       "      <td>0.114236</td>\n",
       "    </tr>\n",
       "    <tr>\n",
       "      <th>2022-01-09</th>\n",
       "      <td>0.109403</td>\n",
       "      <td>0.721776</td>\n",
       "      <td>0.939359</td>\n",
       "      <td>0.922101</td>\n",
       "      <td>1.067195</td>\n",
       "      <td>1.879922</td>\n",
       "      <td>2.796610</td>\n",
       "      <td>2.615729</td>\n",
       "    </tr>\n",
       "    <tr>\n",
       "      <th>2022-01-16</th>\n",
       "      <td>0.502451</td>\n",
       "      <td>0.024731</td>\n",
       "      <td>0.028145</td>\n",
       "      <td>0.014179</td>\n",
       "      <td>-0.043945</td>\n",
       "      <td>-0.083598</td>\n",
       "      <td>-0.181267</td>\n",
       "      <td>-0.057491</td>\n",
       "    </tr>\n",
       "    <tr>\n",
       "      <th>2022-01-23</th>\n",
       "      <td>0.755570</td>\n",
       "      <td>-0.008532</td>\n",
       "      <td>-0.031253</td>\n",
       "      <td>-0.040000</td>\n",
       "      <td>-0.100835</td>\n",
       "      <td>-0.355290</td>\n",
       "      <td>-0.624799</td>\n",
       "      <td>-0.579890</td>\n",
       "    </tr>\n",
       "  </tbody>\n",
       "</table>\n",
       "</div>"
      ],
      "text/plain": [
       "               12-19     20-29     30-39     40-49     50-59     60-69  \\\n",
       "time                                                                     \n",
       "2021-02-28       NaN       NaN       NaN       NaN       NaN       NaN   \n",
       "2021-03-07       NaN       NaN       NaN       NaN       NaN       NaN   \n",
       "2021-03-14  0.088904  0.423767  0.578265  0.762013  0.660365  0.196119   \n",
       "2021-03-21  0.178030  0.501917  1.782118  2.051904  1.753619 -0.152454   \n",
       "2021-03-28 -0.190062 -0.520218 -1.158484 -1.471772 -1.298586 -1.553648   \n",
       "2021-04-04 -0.086898 -0.300977 -0.920891 -1.258556 -1.066088 -0.962773   \n",
       "2021-04-11  0.236185  0.487944  1.724940  1.852254  1.118293  0.428438   \n",
       "2021-04-18  0.014483  0.393224  0.894433  0.954923  0.681145  0.588076   \n",
       "2021-04-25 -0.011364  0.082354 -0.461955 -0.560000 -0.367058 -0.182497   \n",
       "2021-05-02  0.448529  1.809818 -0.730534 -0.832735 -0.578947 -0.339522   \n",
       "2021-05-09 -0.192513 -0.727835  0.693599  0.543982  0.181230  0.041612   \n",
       "2021-05-16  0.134804 -0.365525 -0.629939 -0.630547 -0.370124 -0.144243   \n",
       "2021-05-23  0.132130 -0.163596 -0.338631 -0.293917 -0.093425 -0.033962   \n",
       "2021-05-30  0.028966  0.208112  0.168250  0.326039  0.471981  0.318716   \n",
       "2021-06-06  0.323975  0.884753  1.056113  1.308184  1.305229  0.951483   \n",
       "2021-06-13  0.135250  0.375046  0.655243  0.890153  0.988503  0.604124   \n",
       "2021-06-20  1.598039 -0.061704 -0.291841 -0.449891 -0.416709 -0.140698   \n",
       "2021-06-27  0.384581  0.135773  0.027435 -0.024245  0.151337  0.219164   \n",
       "2021-07-04  1.056818  0.520465  0.223031 -0.007265  0.007494 -0.056540   \n",
       "2021-07-11  0.326203  0.084828 -0.140904 -0.229059 -0.123914  0.267027   \n",
       "2021-07-18  0.857843  0.145666  0.050431 -0.033961 -0.113694 -0.034241   \n",
       "2021-07-25 -0.549688  0.006059 -0.094913 -0.212254 -0.248765 -0.088169   \n",
       "2021-08-01 -0.415998  0.207123  0.175797 -0.001663  0.046500  0.043292   \n",
       "2021-08-08 -0.119875  0.379374  0.251176  0.048140  0.026742  0.337470   \n",
       "2021-08-15  0.645053  0.240386 -0.163278 -0.295667 -0.338528  0.407072   \n",
       "2021-08-22  0.356283 -0.542599 -0.546746 -0.562013 -0.610203 -0.715339   \n",
       "2021-08-29 -0.500891 -0.871399 -0.577111 -0.437812 -0.398399 -0.565311   \n",
       "2021-09-05 -0.577763 -0.586991 -0.323981 -0.209540 -0.238716 -0.280090   \n",
       "2021-09-12 -1.756239 -1.261407 -0.859274 -0.765077 -0.682252 -0.557940   \n",
       "2021-09-19 -0.867201 -0.578830 -0.436473 -0.416543 -0.425737 -0.430211   \n",
       "2021-09-26 -0.240642 -0.284407 -0.208470 -0.175580 -0.169222 -0.181284   \n",
       "2021-10-03 -0.004011 -0.099666 -0.070763 -0.066783 -0.053909  0.014275   \n",
       "2021-10-10 -0.864973 -0.302090 -0.307911 -0.294967 -0.300630 -0.279810   \n",
       "2021-10-17  0.146390 -0.003957 -0.009234 -0.030985 -0.070090 -0.089196   \n",
       "2021-10-24 -0.084670 -0.007419  0.010299  0.020656  0.062000  0.078093   \n",
       "2021-10-31 -0.088012 -0.025473 -0.012519 -0.011028 -0.005365  0.004945   \n",
       "2021-11-07  0.024510  0.025102  0.027524  0.019081 -0.001874 -0.018287   \n",
       "2021-11-14 -0.023396  0.030790  0.045547  0.026433  0.015159 -0.030136   \n",
       "2021-11-21 -0.002674  0.083591  0.074403  0.043414  0.044796  0.045251   \n",
       "2021-11-28  0.051248  0.132064  0.098020  0.072998  0.065066  0.059526   \n",
       "2021-12-05  0.357620 -0.164956 -0.120838 -0.070197 -0.014563  0.102911   \n",
       "2021-12-12 -0.236185 -0.090763 -0.101749 -0.086915 -0.102538 -0.178391   \n",
       "2021-12-19  0.130348 -0.004452 -0.037113 -0.041313 -0.079969 -0.144523   \n",
       "2021-12-26  0.068850 -0.038951 -0.048122 -0.038512 -0.016863 -0.037787   \n",
       "2022-01-02 -0.050357  0.162236  0.255616  0.199475  0.174417  0.209647   \n",
       "2022-01-09  0.109403  0.721776  0.939359  0.922101  1.067195  1.879922   \n",
       "2022-01-16  0.502451  0.024731  0.028145  0.014179 -0.043945 -0.083598   \n",
       "2022-01-23  0.755570 -0.008532 -0.031253 -0.040000 -0.100835 -0.355290   \n",
       "\n",
       "               70-79  80 and above  \n",
       "time                                \n",
       "2021-02-28       NaN           NaN  \n",
       "2021-03-07       NaN           NaN  \n",
       "2021-03-14 -0.374309     -0.352912  \n",
       "2021-03-21 -0.168956     -0.094823  \n",
       "2021-03-28 -1.088849     -0.325535  \n",
       "2021-04-04 -0.602855     -0.174963  \n",
       "2021-04-11  0.259233      0.078646  \n",
       "2021-04-18  0.354683      0.094823  \n",
       "2021-04-25 -0.135950     -0.042061  \n",
       "2021-05-02 -0.264585     -0.074913  \n",
       "2021-05-09 -0.002498      0.003235  \n",
       "2021-05-16 -0.052632     -0.017670  \n",
       "2021-05-23 -0.017306     -0.001244  \n",
       "2021-05-30  0.188938      0.041065  \n",
       "2021-06-06  0.494202      0.117969  \n",
       "2021-06-13  0.299197      0.067695  \n",
       "2021-06-20  0.067797      0.023395  \n",
       "2021-06-27  0.084924      0.030612  \n",
       "2021-07-04 -0.115611     -0.000498  \n",
       "2021-07-11  0.299197      0.050025  \n",
       "2021-07-18  0.027654      0.039572  \n",
       "2021-07-25 -0.039607     -0.009955  \n",
       "2021-08-01  0.814451      0.364360  \n",
       "2021-08-08  0.539875      0.261324  \n",
       "2021-08-15 -0.553791     -0.083624  \n",
       "2021-08-22 -0.546655     -0.122200  \n",
       "2021-08-29 -0.282426     -0.015182  \n",
       "2021-09-05 -0.036931      0.070682  \n",
       "2021-09-12 -0.294558     -0.177949  \n",
       "2021-09-19 -0.389117     -0.170483  \n",
       "2021-09-26 -0.097591     -0.075908  \n",
       "2021-10-03  0.014095      0.041314  \n",
       "2021-10-10 -0.201070     -0.126680  \n",
       "2021-10-17 -0.082426     -0.068691  \n",
       "2021-10-24  0.138805      0.150324  \n",
       "2021-10-31 -0.041748     -0.050523  \n",
       "2021-11-07 -0.026048     -0.055002  \n",
       "2021-11-14 -0.081356     -0.057242  \n",
       "2021-11-21  0.066012      0.058487  \n",
       "2021-11-28  0.048528      0.055500  \n",
       "2021-12-05  0.306869      0.344201  \n",
       "2021-12-12 -0.282070     -0.145595  \n",
       "2021-12-19 -0.220339     -0.245396  \n",
       "2021-12-26 -0.080464     -0.061224  \n",
       "2022-01-02  0.235326      0.114236  \n",
       "2022-01-09  2.796610      2.615729  \n",
       "2022-01-16 -0.181267     -0.057491  \n",
       "2022-01-23 -0.624799     -0.579890  "
      ]
     },
     "metadata": {},
     "output_type": "display_data"
    }
   ],
   "source": [
    "# Get second differencing of the absolute difference of vaccination rate (AWAVR)\n",
    "dfx = df[[x for x in df.columns if x != \"time\"]].diff().diff()\n",
    "\n",
    "dfx.index = df['time']\n",
    "display(dfx)\n",
    "dfx.to_csv(\"Diff_weeklyAbsChg.csv\")"
   ]
  },
  {
   "cell_type": "markdown",
   "metadata": {},
   "source": [
    "### Statistical test\n",
    "We use dummy variable of the policy's presence (0/1) as independent (catagorical) variable; AWAVR as dependent (continuous) variable. We'll check normality by Shapiro-Wilk test (alpha at 0.05), then decide using Mann-Whitney U test (non-normally distributed) or Independent T-test (normally distributed) for covariate testing, both alphas at 0.05.\n",
    "\n",
    "For policies, please refer to table 1 of the paper.\n",
    "\n",
    "#### AWAVR in \"Eligibility\".\n",
    "This is only targetted on age group 0-19. "
   ]
  },
  {
   "cell_type": "code",
   "execution_count": 28,
   "metadata": {},
   "outputs": [
    {
     "name": "stdout",
     "output_type": "stream",
     "text": [
      "AWAVR 0-19 2021-04-11: mean 0.23 std 0.35\n",
      "AWAVR 0-19 2021-09-12: mean -1.46 std 1.29\n",
      "The p-value of Shapiro-Wilk test: 0.006368536036461592, indicating it is not normally distributed.\n",
      "The p-value of Mann-Whitney U test: 0.12248376667975036.\n"
     ]
    }
   ],
   "source": [
    "from scipy.stats import ttest_ind, mannwhitneyu, shapiro\n",
    "import numpy as np\n",
    "\n",
    "# Construct data and dummy variable column\n",
    "awavr_0_19 = dfx.iloc[:, [0]]\n",
    "awavr_0_19 = (awavr_0_19 - awavr_0_19.mean()) / awavr_0_19.std()\n",
    "awavr_0_19[\"policy\"] = 0\n",
    "i = awavr_0_19.index.get_loc(\"2021-04-11\")\n",
    "awavr_0_19.iloc[i:i+4, 1] = 1\n",
    "print(f\"AWAVR 0-19 2021-04-11: mean {np.mean(awavr_0_19.iloc[i:i+4, 0]):.2f} std {np.std(awavr_0_19.iloc[i:i+4, 0]):.2f}\")\n",
    "i = awavr_0_19.index.get_loc(\"2021-09-12\")\n",
    "awavr_0_19.iloc[i:i+4, 1] = 1\n",
    "print(f\"AWAVR 0-19 2021-09-12: mean {np.mean(awavr_0_19.iloc[i:i+4, 0]):.2f} std {np.std(awavr_0_19.iloc[i:i+4, 0]):.2f}\")\n",
    "awavr_0_19 = awavr_0_19.dropna()\n",
    "\n",
    "# Shapiro-Wilk test for normality.\n",
    "norm = shapiro(awavr_0_19[\"12-19\"])\n",
    "print(f\"The p-value of Shapiro-Wilk test: {norm.pvalue}, indicating it is {'not ' if norm.pvalue < 0.05 else ''}normally distributed.\")\n",
    "\n",
    "# Run statistical test based on normality check.\n",
    "if norm.pvalue > 0.05:\n",
    "    result = ttest_ind(awavr_0_19[\"12-19\"], awavr_0_19[\"policy\"])\n",
    "    print(f\"The p-value of Independent T-test: {result.pvalue}.\")\n",
    "else:\n",
    "    result = mannwhitneyu(awavr_0_19[\"12-19\"], awavr_0_19[\"policy\"])\n",
    "    print(f\"The p-value of Mann-Whitney U test: {result.pvalue}.\")"
   ]
  },
  {
   "cell_type": "markdown",
   "metadata": {},
   "source": [
    "#### AWAVR in \"Accesibility\"."
   ]
  },
  {
   "cell_type": "code",
   "execution_count": 29,
   "metadata": {},
   "outputs": [
    {
     "name": "stdout",
     "output_type": "stream",
     "text": [
      "AWAVR 0-19 2021-06-20: mean 1.51 std 0.99\n",
      "AWAVR 0-19 2021-06-27: mean 1.16 std 0.59\n",
      "AWAVR 60up 2021-04-11: mean 0.18 std 0.63\n",
      "AWAVR 70up 2021-07-25: mean 0.37 std 0.39\n",
      "The p-value of Shapiro-Wilk test: 1.7574529071612277e-12, indicating it is not normally distributed.\n",
      "The p-value of Mann-Whitney U test: 0.0006543241732797742.\n"
     ]
    }
   ],
   "source": [
    "# Construct data and dummy variable column\n",
    "awavr_0_19 = dfx.iloc[:, [0]]\n",
    "awavr_0_19.columns = [\"AWAVR\"]\n",
    "awavr_0_19 = (awavr_0_19 - awavr_0_19.mean()) / awavr_0_19.std()\n",
    "awavr_0_19[\"policy\"] = 0\n",
    "i = awavr_0_19.index.get_loc(\"2021-06-20\")\n",
    "awavr_0_19.iloc[i:i+4, 1] = 1\n",
    "print(f\"AWAVR 0-19 2021-06-20: mean {np.mean(awavr_0_19.iloc[i:i+4, 0]):.2f} std {np.std(awavr_0_19.iloc[i:i+4, 0]):.2f}\")\n",
    "i = awavr_0_19.index.get_loc(\"2021-06-27\")\n",
    "awavr_0_19.iloc[i:i+4, 1] = 1\n",
    "print(f\"AWAVR 0-19 2021-06-27: mean {np.mean(awavr_0_19.iloc[i:i+4, 0]):.2f} std {np.std(awavr_0_19.iloc[i:i+4, 0]):.2f}\")\n",
    "\n",
    "awavr_60up = dfx.iloc[:, -3:] @ np.array([1071800, 560500, 401800]).reshape(-1, 1)\n",
    "awavr_60up.columns = [\"AWAVR\"]\n",
    "awavr_60up = (awavr_60up - awavr_60up.mean()) / awavr_60up.std()\n",
    "awavr_60up[\"policy\"] = 0\n",
    "i = awavr_60up.index.get_loc(\"2021-04-11\")\n",
    "awavr_60up.iloc[i:i+4, 1] = 1\n",
    "print(f\"AWAVR 60up 2021-04-11: mean {np.mean(awavr_60up.iloc[i:i+4, 0]):.2f} std {np.std(awavr_60up.iloc[i:i+4, 0]):.2f}\")\n",
    "\n",
    "awavr_70up = dfx.iloc[:, -2:] @ np.array([560500, 401800]).reshape(-1, 1)\n",
    "awavr_70up.columns = [\"AWAVR\"]\n",
    "awavr_70up = (awavr_70up - awavr_70up.mean()) / awavr_70up.std()\n",
    "awavr_70up[\"policy\"] = 0\n",
    "i = awavr_70up.index.get_loc(\"2021-07-25\")\n",
    "awavr_70up.iloc[i:i+4, 1] = 1\n",
    "print(f\"AWAVR 70up 2021-07-25: mean {np.mean(awavr_60up.iloc[i:i+4, 0]):.2f} std {np.std(awavr_60up.iloc[i:i+4, 0]):.2f}\")\n",
    "\n",
    "awavr = pd.concat([awavr_0_19, awavr_60up, awavr_70up])\n",
    "awavr = awavr.dropna()\n",
    "\n",
    "# Shapiro-Wilk test for normality.\n",
    "norm = shapiro(awavr[\"AWAVR\"])\n",
    "print(f\"The p-value of Shapiro-Wilk test: {norm.pvalue}, indicating it is {'not' if norm.pvalue < 0.05 else ''} normally distributed.\")\n",
    "\n",
    "# Run statistical test based on normality check.\n",
    "if norm.pvalue > 0.05:\n",
    "    result = ttest_ind(awavr[\"AWAVR\"], awavr[\"policy\"])\n",
    "    print(f\"The p-value of Independent T-test: {result.pvalue}.\")\n",
    "else:\n",
    "    result = mannwhitneyu(awavr[\"AWAVR\"], awavr[\"policy\"])\n",
    "    print(f\"The p-value of Mann-Whitney U test: {result.pvalue}.\")"
   ]
  },
  {
   "cell_type": "markdown",
   "metadata": {},
   "source": [
    "#### AWAVR in \"Incentive (reward)\"."
   ]
  },
  {
   "cell_type": "code",
   "execution_count": 30,
   "metadata": {},
   "outputs": [
    {
     "name": "stdout",
     "output_type": "stream",
     "text": [
      "AWAVR 0-19 2021-08-01: mean 0.11 std 0.79\n",
      "AWAVR all 2021-05-30: mean 0.68 std 0.56\n",
      "AWAVR 20-69 2021-05-30: mean 0.68 std 0.56\n",
      "The p-value of Shapiro-Wilk test: 5.957730991212884e-06, indicating it is not normally distributed.\n",
      "The p-value of Mann-Whitney U test: 0.005115539479896202.\n"
     ]
    }
   ],
   "source": [
    "# Construct data and dummy variable column\n",
    "awavr_0_19 = dfx.iloc[:, [0]]\n",
    "awavr_0_19.columns = [\"AWAVR\"]\n",
    "awavr_0_19 = (awavr_0_19 - awavr_0_19.mean()) / awavr_0_19.std()\n",
    "awavr_0_19[\"policy\"] = 0\n",
    "i = awavr_0_19.index.get_loc(\"2021-08-01\")\n",
    "awavr_0_19.iloc[i:i+4, 1] = 1\n",
    "print(f\"AWAVR 0-19 2021-08-01: mean {np.mean(awavr_60up.iloc[i:i+4, 0]):.2f} std {np.std(awavr_60up.iloc[i:i+4, 0]):.2f}\")\n",
    "\n",
    "awavr_all = dfx @ np.array([448800, 808700, 1126300, 1142500, 1174200, 1071800, 560500, 401800]).reshape(-1, 1)\n",
    "awavr_all.columns = [\"AWAVR\"]\n",
    "awavr_all = (awavr_all - awavr_all.mean()) / awavr_all.std()\n",
    "awavr_all[\"policy\"] = 0\n",
    "i = awavr_all.index.get_loc(\"2021-05-30\")\n",
    "awavr_all.iloc[i:i+4, 1] = 1\n",
    "print(f\"AWAVR all 2021-05-30: mean {np.mean(awavr_60up.iloc[i:i+4, 0]):.2f} std {np.std(awavr_60up.iloc[i:i+4, 0]):.2f}\")\n",
    "\n",
    "awavr_20_69 = dfx.iloc[:, 1:-2] @ np.array([808700, 1126300, 1142500, 1174200, 1071800]).reshape(-1, 1)\n",
    "awavr_20_69.columns = [\"AWAVR\"]\n",
    "awavr_20_69 = (awavr_20_69 - awavr_20_69.mean()) / awavr_20_69.std()\n",
    "awavr_20_69[\"policy\"] = 0\n",
    "i = awavr_20_69.index.get_loc(\"2021-05-30\")\n",
    "awavr_20_69.iloc[i:i+4, 1] = 1\n",
    "print(f\"AWAVR 20-69 2021-05-30: mean {np.mean(awavr_60up.iloc[i:i+4, 0]):.2f} std {np.std(awavr_60up.iloc[i:i+4, 0]):.2f}\")\n",
    "\n",
    "awavr = pd.concat([awavr_0_19, awavr_all, awavr_20_69])\n",
    "awavr = awavr.dropna()\n",
    "\n",
    "# Shapiro-Wilk test for normality.\n",
    "norm = shapiro(awavr[\"AWAVR\"])\n",
    "print(f\"The p-value of Shapiro-Wilk test: {norm.pvalue}, indicating it is {'not' if norm.pvalue < 0.05 else ''} normally distributed.\")\n",
    "\n",
    "# Run statistical test based on normality check.\n",
    "if norm.pvalue > 0.05:\n",
    "    result = ttest_ind(awavr[\"AWAVR\"], awavr[\"policy\"])\n",
    "    print(f\"The p-value of Independent T-test: {result.pvalue}.\")\n",
    "else:\n",
    "    result = mannwhitneyu(awavr[\"AWAVR\"], awavr[\"policy\"])\n",
    "    print(f\"The p-value of Mann-Whitney U test: {result.pvalue}.\")"
   ]
  },
  {
   "cell_type": "markdown",
   "metadata": {},
   "source": [
    "#### AWAVR in \"Restriction\"."
   ]
  },
  {
   "cell_type": "code",
   "execution_count": 31,
   "metadata": {},
   "outputs": [
    {
     "name": "stdout",
     "output_type": "stream",
     "text": [
      "AWAVR all 2021-12-26: mean 1.25 std 2.12\n",
      "AWAVR 20-69 2021-08-01: mean 0.11 std 0.79\n",
      "AWAVR 20-69 2021-11-07: mean 0.02 std 0.10\n",
      "AWAVR 20-69 2021-12-19: mean 1.21 std 2.15\n",
      "The p-value of Shapiro-Wilk test: 4.8435336793772876e-05, indicating it is not normally distributed.\n",
      "The p-value of Mann-Whitney U test: 0.0005540482878599383.\n"
     ]
    }
   ],
   "source": [
    "# Construct data and dummy variable column\n",
    "awavr_all = dfx @ np.array([448800, 808700, 1126300, 1142500, 1174200, 1071800, 560500, 401800]).reshape(-1, 1)\n",
    "awavr_all.columns = [\"AWAVR\"]\n",
    "awavr_all = (awavr_all - awavr_all.mean()) / awavr_all.std()\n",
    "awavr_all[\"policy\"] = 0\n",
    "i = awavr_all.index.get_loc(\"2021-12-26\")\n",
    "awavr_all.iloc[i:i+4, 1] = 1\n",
    "print(f\"AWAVR all 2021-12-26: mean {np.mean(awavr_60up.iloc[i:i+4, 0]):.2f} std {np.std(awavr_60up.iloc[i:i+4, 0]):.2f}\")\n",
    "\n",
    "awavr_20_69 = dfx.iloc[:, 1:-2] @ np.array([808700, 1126300, 1142500, 1174200, 1071800]).reshape(-1, 1)\n",
    "awavr_20_69.columns = [\"AWAVR\"]\n",
    "awavr_20_69 = (awavr_20_69 - awavr_20_69.mean()) / awavr_20_69.std()\n",
    "awavr_20_69[\"policy\"] = 0\n",
    "i = awavr_20_69.index.get_loc(\"2021-08-01\")\n",
    "awavr_20_69.iloc[i:i+4, 1] = 1\n",
    "print(f\"AWAVR 20-69 2021-08-01: mean {np.mean(awavr_60up.iloc[i:i+4, 0]):.2f} std {np.std(awavr_60up.iloc[i:i+4, 0]):.2f}\")\n",
    "i = awavr_20_69.index.get_loc(\"2021-11-07\")\n",
    "awavr_20_69.iloc[i:i+4, 1] = 1\n",
    "print(f\"AWAVR 20-69 2021-11-07: mean {np.mean(awavr_60up.iloc[i:i+4, 0]):.2f} std {np.std(awavr_60up.iloc[i:i+4, 0]):.2f}\")\n",
    "i = awavr_20_69.index.get_loc(\"2021-12-19\")\n",
    "awavr_20_69.iloc[i:i+4, 1] = 1\n",
    "print(f\"AWAVR 20-69 2021-12-19: mean {np.mean(awavr_60up.iloc[i:i+4, 0]):.2f} std {np.std(awavr_60up.iloc[i:i+4, 0]):.2f}\")\n",
    "\n",
    "awavr = pd.concat([awavr_all, awavr_20_69])\n",
    "awavr = awavr.dropna()\n",
    "\n",
    "# Shapiro-Wilk test for normality.\n",
    "norm = shapiro(awavr[\"AWAVR\"])\n",
    "print(f\"The p-value of Shapiro-Wilk test: {norm.pvalue}, indicating it is {'not' if norm.pvalue < 0.05 else ''} normally distributed.\")\n",
    "\n",
    "# Run statistical test based on normality check.\n",
    "if norm.pvalue > 0.05:\n",
    "    result = ttest_ind(awavr[\"AWAVR\"], awavr[\"policy\"])\n",
    "    print(f\"The p-value of Independent T-test: {result.pvalue}.\")\n",
    "else:\n",
    "    result = mannwhitneyu(awavr[\"AWAVR\"], awavr[\"policy\"])\n",
    "    print(f\"The p-value of Mann-Whitney U test: {result.pvalue}.\")"
   ]
  },
  {
   "cell_type": "code",
   "execution_count": null,
   "metadata": {},
   "outputs": [],
   "source": []
  }
 ],
 "metadata": {
  "kernelspec": {
   "display_name": "Python 3",
   "language": "python",
   "name": "python3"
  },
  "language_info": {
   "codemirror_mode": {
    "name": "ipython",
    "version": 3
   },
   "file_extension": ".py",
   "mimetype": "text/x-python",
   "name": "python",
   "nbconvert_exporter": "python",
   "pygments_lexer": "ipython3",
   "version": "3.8.8"
  }
 },
 "nbformat": 4,
 "nbformat_minor": 4
}
